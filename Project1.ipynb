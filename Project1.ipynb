{
 "cells": [
  {
   "cell_type": "markdown",
   "id": "daf03897-877d-4f59-a893-f169928df46b",
   "metadata": {},
   "source": [
    "# Project 1"
   ]
  },
  {
   "cell_type": "code",
   "execution_count": 2,
   "id": "3f9bed38-653e-42e2-bcbd-c69547ea93b7",
   "metadata": {},
   "outputs": [],
   "source": [
    "#Importing pandas as pd\n",
    "import pandas as pd\n",
    "\n",
    "#Setting options to display full data frame rows\n",
    "pd.set_option(\"display.max_rows\", None, \"display.max_columns\", None)"
   ]
  },
  {
   "cell_type": "code",
   "execution_count": 3,
   "id": "7bfaf32a-56f0-4be6-b492-eb7ce2a5126c",
   "metadata": {},
   "outputs": [],
   "source": [
    "#Reading in bikeDetails data set using pandas\n",
    "bike_data = pd.read_csv(\"bikeDetails.csv\")"
   ]
  },
  {
   "cell_type": "code",
   "execution_count": 4,
   "id": "18f4df2a-50ba-470d-bdba-dff42efc7f13",
   "metadata": {},
   "outputs": [
    {
     "data": {
      "text/html": [
       "<div>\n",
       "<style scoped>\n",
       "    .dataframe tbody tr th:only-of-type {\n",
       "        vertical-align: middle;\n",
       "    }\n",
       "\n",
       "    .dataframe tbody tr th {\n",
       "        vertical-align: top;\n",
       "    }\n",
       "\n",
       "    .dataframe thead th {\n",
       "        text-align: right;\n",
       "    }\n",
       "</style>\n",
       "<table border=\"1\" class=\"dataframe\">\n",
       "  <thead>\n",
       "    <tr style=\"text-align: right;\">\n",
       "      <th></th>\n",
       "      <th>name</th>\n",
       "      <th>selling_price</th>\n",
       "      <th>year</th>\n",
       "      <th>seller_type</th>\n",
       "      <th>owner</th>\n",
       "      <th>km_driven</th>\n",
       "      <th>ex_showroom_price</th>\n",
       "    </tr>\n",
       "  </thead>\n",
       "  <tbody>\n",
       "    <tr>\n",
       "      <th>0</th>\n",
       "      <td>Royal Enfield Classic 350</td>\n",
       "      <td>175000</td>\n",
       "      <td>2019</td>\n",
       "      <td>Individual</td>\n",
       "      <td>1st owner</td>\n",
       "      <td>350</td>\n",
       "      <td>NaN</td>\n",
       "    </tr>\n",
       "    <tr>\n",
       "      <th>1</th>\n",
       "      <td>Honda Dio</td>\n",
       "      <td>45000</td>\n",
       "      <td>2017</td>\n",
       "      <td>Individual</td>\n",
       "      <td>1st owner</td>\n",
       "      <td>5650</td>\n",
       "      <td>NaN</td>\n",
       "    </tr>\n",
       "    <tr>\n",
       "      <th>2</th>\n",
       "      <td>Royal Enfield Classic Gunmetal Grey</td>\n",
       "      <td>150000</td>\n",
       "      <td>2018</td>\n",
       "      <td>Individual</td>\n",
       "      <td>1st owner</td>\n",
       "      <td>12000</td>\n",
       "      <td>148114.0</td>\n",
       "    </tr>\n",
       "    <tr>\n",
       "      <th>3</th>\n",
       "      <td>Yamaha Fazer FI V 2.0 [2016-2018]</td>\n",
       "      <td>65000</td>\n",
       "      <td>2015</td>\n",
       "      <td>Individual</td>\n",
       "      <td>1st owner</td>\n",
       "      <td>23000</td>\n",
       "      <td>89643.0</td>\n",
       "    </tr>\n",
       "    <tr>\n",
       "      <th>4</th>\n",
       "      <td>Yamaha SZ [2013-2014]</td>\n",
       "      <td>20000</td>\n",
       "      <td>2011</td>\n",
       "      <td>Individual</td>\n",
       "      <td>2nd owner</td>\n",
       "      <td>21000</td>\n",
       "      <td>NaN</td>\n",
       "    </tr>\n",
       "  </tbody>\n",
       "</table>\n",
       "</div>"
      ],
      "text/plain": [
       "                                  name  selling_price  year seller_type  \\\n",
       "0            Royal Enfield Classic 350         175000  2019  Individual   \n",
       "1                            Honda Dio          45000  2017  Individual   \n",
       "2  Royal Enfield Classic Gunmetal Grey         150000  2018  Individual   \n",
       "3    Yamaha Fazer FI V 2.0 [2016-2018]          65000  2015  Individual   \n",
       "4                Yamaha SZ [2013-2014]          20000  2011  Individual   \n",
       "\n",
       "       owner  km_driven  ex_showroom_price  \n",
       "0  1st owner        350                NaN  \n",
       "1  1st owner       5650                NaN  \n",
       "2  1st owner      12000           148114.0  \n",
       "3  1st owner      23000            89643.0  \n",
       "4  2nd owner      21000                NaN  "
      ]
     },
     "execution_count": 4,
     "metadata": {},
     "output_type": "execute_result"
    }
   ],
   "source": [
    "#Displays the first 5 observations from the bike_data data set\n",
    "bike_data.head()"
   ]
  },
  {
   "cell_type": "markdown",
   "id": "f10b651c-1076-4505-9d60-969cc6e48aaa",
   "metadata": {
    "tags": []
   },
   "source": [
    "## Ashley's EDA"
   ]
  },
  {
   "cell_type": "code",
   "execution_count": null,
   "id": "945eb9e6-ec33-4606-9d1b-5159469da9b5",
   "metadata": {},
   "outputs": [],
   "source": []
  },
  {
   "cell_type": "code",
   "execution_count": null,
   "id": "94109fa3-a14e-4893-83be-4e0081a362f0",
   "metadata": {},
   "outputs": [],
   "source": []
  },
  {
   "cell_type": "code",
   "execution_count": null,
   "id": "ad5bc308-8ecd-48ed-a719-a1c3ac887f36",
   "metadata": {},
   "outputs": [],
   "source": []
  },
  {
   "cell_type": "code",
   "execution_count": null,
   "id": "c4c1db01-f440-4d00-9406-48eb4f2c47e8",
   "metadata": {},
   "outputs": [],
   "source": []
  },
  {
   "cell_type": "code",
   "execution_count": null,
   "id": "fb55c8d8-8c16-4d80-abff-6f53911acd15",
   "metadata": {},
   "outputs": [],
   "source": []
  },
  {
   "cell_type": "markdown",
   "id": "99ae62c8-e755-4d38-bba2-7ed4bf7ff142",
   "metadata": {},
   "source": [
    "## George's EDA"
   ]
  },
  {
   "cell_type": "code",
   "execution_count": 5,
   "id": "0afc7a5e-0cd4-43e2-adfb-146150eecad9",
   "metadata": {},
   "outputs": [
    {
     "data": {
      "text/html": [
       "<div>\n",
       "<style scoped>\n",
       "    .dataframe tbody tr th:only-of-type {\n",
       "        vertical-align: middle;\n",
       "    }\n",
       "\n",
       "    .dataframe tbody tr th {\n",
       "        vertical-align: top;\n",
       "    }\n",
       "\n",
       "    .dataframe thead th {\n",
       "        text-align: right;\n",
       "    }\n",
       "</style>\n",
       "<table border=\"1\" class=\"dataframe\">\n",
       "  <thead>\n",
       "    <tr style=\"text-align: right;\">\n",
       "      <th></th>\n",
       "      <th>selling_price</th>\n",
       "      <th>year</th>\n",
       "      <th>km_driven</th>\n",
       "      <th>ex_showroom_price</th>\n",
       "    </tr>\n",
       "  </thead>\n",
       "  <tbody>\n",
       "    <tr>\n",
       "      <th>count</th>\n",
       "      <td>1061.000000</td>\n",
       "      <td>1061.000000</td>\n",
       "      <td>1061.000000</td>\n",
       "      <td>6.260000e+02</td>\n",
       "    </tr>\n",
       "    <tr>\n",
       "      <th>mean</th>\n",
       "      <td>59638.151744</td>\n",
       "      <td>2013.867107</td>\n",
       "      <td>34359.833176</td>\n",
       "      <td>8.795871e+04</td>\n",
       "    </tr>\n",
       "    <tr>\n",
       "      <th>std</th>\n",
       "      <td>56304.291973</td>\n",
       "      <td>4.301191</td>\n",
       "      <td>51623.152702</td>\n",
       "      <td>7.749659e+04</td>\n",
       "    </tr>\n",
       "    <tr>\n",
       "      <th>min</th>\n",
       "      <td>5000.000000</td>\n",
       "      <td>1988.000000</td>\n",
       "      <td>350.000000</td>\n",
       "      <td>3.049000e+04</td>\n",
       "    </tr>\n",
       "    <tr>\n",
       "      <th>25%</th>\n",
       "      <td>28000.000000</td>\n",
       "      <td>2011.000000</td>\n",
       "      <td>13500.000000</td>\n",
       "      <td>5.485200e+04</td>\n",
       "    </tr>\n",
       "    <tr>\n",
       "      <th>50%</th>\n",
       "      <td>45000.000000</td>\n",
       "      <td>2015.000000</td>\n",
       "      <td>25000.000000</td>\n",
       "      <td>7.275250e+04</td>\n",
       "    </tr>\n",
       "    <tr>\n",
       "      <th>75%</th>\n",
       "      <td>70000.000000</td>\n",
       "      <td>2017.000000</td>\n",
       "      <td>43000.000000</td>\n",
       "      <td>8.703150e+04</td>\n",
       "    </tr>\n",
       "    <tr>\n",
       "      <th>max</th>\n",
       "      <td>760000.000000</td>\n",
       "      <td>2020.000000</td>\n",
       "      <td>880000.000000</td>\n",
       "      <td>1.278000e+06</td>\n",
       "    </tr>\n",
       "  </tbody>\n",
       "</table>\n",
       "</div>"
      ],
      "text/plain": [
       "       selling_price         year      km_driven  ex_showroom_price\n",
       "count    1061.000000  1061.000000    1061.000000       6.260000e+02\n",
       "mean    59638.151744  2013.867107   34359.833176       8.795871e+04\n",
       "std     56304.291973     4.301191   51623.152702       7.749659e+04\n",
       "min      5000.000000  1988.000000     350.000000       3.049000e+04\n",
       "25%     28000.000000  2011.000000   13500.000000       5.485200e+04\n",
       "50%     45000.000000  2015.000000   25000.000000       7.275250e+04\n",
       "75%     70000.000000  2017.000000   43000.000000       8.703150e+04\n",
       "max    760000.000000  2020.000000  880000.000000       1.278000e+06"
      ]
     },
     "execution_count": 5,
     "metadata": {},
     "output_type": "execute_result"
    }
   ],
   "source": [
    "#using the .describe() method to get a first look at the numeric variables in the dataset. Although you would not necessarily perform math on the listed years for each bike, seeing info like the average year is meaningful.\n",
    "bike_data.describe()"
   ]
  },
  {
   "cell_type": "code",
   "execution_count": 7,
   "id": "5ef4126e-1876-4f34-b85c-3143d3061f33",
   "metadata": {},
   "outputs": [
    {
     "data": {
      "text/plain": [
       "Index(['name', 'selling_price', 'year', 'seller_type', 'owner', 'km_driven',\n",
       "       'ex_showroom_price'],\n",
       "      dtype='object')"
      ]
     },
     "execution_count": 7,
     "metadata": {},
     "output_type": "execute_result"
    }
   ],
   "source": [
    "bike_data.columns\n",
    "#note: our columns are name, selling_price, year, seller_type, owner, km_driven, and ex_showroom_price"
   ]
  },
  {
   "cell_type": "code",
   "execution_count": 16,
   "id": "ee440115-6573-4e9e-a640-eada3a6c302a",
   "metadata": {},
   "outputs": [],
   "source": [
    "#bike_data_numeric = bike_data['selling_price', 'km_driven', 'ex_showrooom_price']\n",
    "#previously I tried to do what I was doing above exactly in the way he does it in the video and got the same error"
   ]
  },
  {
   "cell_type": "code",
   "execution_count": 19,
   "id": "51d8b921-91a3-4ea3-b0be-22900927cb80",
   "metadata": {},
   "outputs": [
    {
     "data": {
      "text/plain": [
       "59638.151743638075"
      ]
     },
     "execution_count": 19,
     "metadata": {},
     "output_type": "execute_result"
    }
   ],
   "source": [
    "#finding mean and median of all the numeric variables using the .mean and .median methods\n",
    "bike_data['selling_price'].mean()"
   ]
  },
  {
   "cell_type": "code",
   "execution_count": 20,
   "id": "5959146c-25b4-4414-9579-96cf13824064",
   "metadata": {},
   "outputs": [
    {
     "data": {
      "text/plain": [
       "45000.0"
      ]
     },
     "execution_count": 20,
     "metadata": {},
     "output_type": "execute_result"
    }
   ],
   "source": [
    "bike_data['selling_price'].median()"
   ]
  },
  {
   "cell_type": "code",
   "execution_count": 21,
   "id": "3f561b19-8a59-4519-9633-63ee7b9c0015",
   "metadata": {},
   "outputs": [
    {
     "data": {
      "text/plain": [
       "34359.83317624882"
      ]
     },
     "execution_count": 21,
     "metadata": {},
     "output_type": "execute_result"
    }
   ],
   "source": [
    "bike_data['km_driven'].mean()"
   ]
  },
  {
   "cell_type": "code",
   "execution_count": 22,
   "id": "9a29b84e-9df7-4c7e-929b-3a99b44cecbc",
   "metadata": {},
   "outputs": [
    {
     "data": {
      "text/plain": [
       "25000.0"
      ]
     },
     "execution_count": 22,
     "metadata": {},
     "output_type": "execute_result"
    }
   ],
   "source": [
    "bike_data['km_driven'].median()"
   ]
  },
  {
   "cell_type": "code",
   "execution_count": 23,
   "id": "0439c6b1-3cd2-42dc-a843-8f2c5fc09736",
   "metadata": {},
   "outputs": [
    {
     "data": {
      "text/plain": [
       "87958.71405750798"
      ]
     },
     "execution_count": 23,
     "metadata": {},
     "output_type": "execute_result"
    }
   ],
   "source": [
    "bike_data['ex_showroom_price'].mean()"
   ]
  },
  {
   "cell_type": "code",
   "execution_count": 24,
   "id": "67a2dcf9-5ba4-4dd9-838c-eb1061a75b7c",
   "metadata": {},
   "outputs": [
    {
     "data": {
      "text/plain": [
       "72752.5"
      ]
     },
     "execution_count": 24,
     "metadata": {},
     "output_type": "execute_result"
    }
   ],
   "source": [
    "bike_data['ex_showroom_price'].median()"
   ]
  },
  {
   "cell_type": "code",
   "execution_count": 25,
   "id": "c06f2933-6f1f-4326-ab95-55d47199a7e1",
   "metadata": {},
   "outputs": [
    {
     "data": {
      "text/plain": [
       "56304.29197302419"
      ]
     },
     "execution_count": 25,
     "metadata": {},
     "output_type": "execute_result"
    }
   ],
   "source": [
    "#similarly finding standard deviations of the numeric variables\n",
    "bike_data.selling_price.std()"
   ]
  },
  {
   "cell_type": "code",
   "execution_count": 26,
   "id": "54d0bb08-35c9-406b-8c09-de6aa7721e5d",
   "metadata": {},
   "outputs": [
    {
     "data": {
      "text/plain": [
       "51623.15270159632"
      ]
     },
     "execution_count": 26,
     "metadata": {},
     "output_type": "execute_result"
    }
   ],
   "source": [
    "bike_data.km_driven.std()"
   ]
  },
  {
   "cell_type": "code",
   "execution_count": 27,
   "id": "4778d18d-b678-4ee0-b6da-4054ba3f5512",
   "metadata": {},
   "outputs": [
    {
     "data": {
      "text/plain": [
       "77496.5871894531"
      ]
     },
     "execution_count": 27,
     "metadata": {},
     "output_type": "execute_result"
    }
   ],
   "source": [
    "bike_data.ex_showroom_price.std()"
   ]
  },
  {
   "cell_type": "code",
   "execution_count": 28,
   "id": "92dd5d5b-f436-482b-8b5b-b6a36bfcb4c3",
   "metadata": {},
   "outputs": [
    {
     "data": {
      "text/plain": [
       "0.05     15000.0\n",
       "0.10     20000.0\n",
       "0.15     23000.0\n",
       "0.20     25000.0\n",
       "0.25     28000.0\n",
       "0.30     30000.0\n",
       "0.35     35000.0\n",
       "0.40     38000.0\n",
       "0.45     40000.0\n",
       "0.50     45000.0\n",
       "0.55     47000.0\n",
       "0.60     50000.0\n",
       "0.65     58000.0\n",
       "0.70     62000.0\n",
       "0.75     70000.0\n",
       "0.80     80000.0\n",
       "0.85    100000.0\n",
       "0.90    120000.0\n",
       "0.95    150000.0\n",
       "Name: selling_price, dtype: float64"
      ]
     },
     "execution_count": 28,
     "metadata": {},
     "output_type": "execute_result"
    }
   ],
   "source": [
    "#similarly finding more fine-tuned quantiles\n",
    "bike_data.selling_price.quantile(q = [.05, .10, .15, .20, .25, .30, .35, .40, .45, .50, .55, .60, .65, .70, .75, .80, .85, .90, .95])"
   ]
  },
  {
   "cell_type": "code",
   "execution_count": 29,
   "id": "a8e4d5c7-94b9-4889-955d-61d5a04971d3",
   "metadata": {},
   "outputs": [
    {
     "data": {
      "text/plain": [
       "0.05     3500.0\n",
       "0.10     6000.0\n",
       "0.15     8000.0\n",
       "0.20    10950.0\n",
       "0.25    13500.0\n",
       "0.30    15000.0\n",
       "0.35    17500.0\n",
       "0.40    20000.0\n",
       "0.45    22000.0\n",
       "0.50    25000.0\n",
       "0.55    28000.0\n",
       "0.60    31000.0\n",
       "0.65    35000.0\n",
       "0.70    39448.0\n",
       "0.75    43000.0\n",
       "0.80    49000.0\n",
       "0.85    52500.0\n",
       "0.90    65000.0\n",
       "0.95    80000.0\n",
       "Name: km_driven, dtype: float64"
      ]
     },
     "execution_count": 29,
     "metadata": {},
     "output_type": "execute_result"
    }
   ],
   "source": [
    "bike_data.km_driven.quantile(q = [.05, .10, .15, .20, .25, .30, .35, .40, .45, .50, .55, .60, .65, .70, .75, .80, .85, .90, .95])"
   ]
  },
  {
   "cell_type": "code",
   "execution_count": 30,
   "id": "d9431c26-b58c-480b-a8a0-0058091345da",
   "metadata": {},
   "outputs": [
    {
     "data": {
      "text/plain": [
       "0.05     47277.00\n",
       "0.10     50267.00\n",
       "0.15     52203.25\n",
       "0.20     54299.00\n",
       "0.25     54852.00\n",
       "0.30     57549.00\n",
       "0.35     59362.25\n",
       "0.40     61653.00\n",
       "0.45     65669.50\n",
       "0.50     72752.50\n",
       "0.55     75936.00\n",
       "0.60     78712.00\n",
       "0.65     81508.00\n",
       "0.70     84751.00\n",
       "0.75     87031.50\n",
       "0.80     94000.00\n",
       "0.85    117926.00\n",
       "0.90    147000.00\n",
       "0.95    181445.00\n",
       "Name: ex_showroom_price, dtype: float64"
      ]
     },
     "execution_count": 30,
     "metadata": {},
     "output_type": "execute_result"
    }
   ],
   "source": [
    "bike_data.ex_showroom_price.quantile(q = [.05, .10, .15, .20, .25, .30, .35, .40, .45, .50, .55, .60, .65, .70, .75, .80, .85, .90, .95])"
   ]
  },
  {
   "cell_type": "code",
   "execution_count": 31,
   "id": "08f5033d-4d79-4d66-8fd5-2acbdfbc98cf",
   "metadata": {},
   "outputs": [
    {
     "data": {
      "text/plain": [
       "42000.0"
      ]
     },
     "execution_count": 31,
     "metadata": {},
     "output_type": "execute_result"
    }
   ],
   "source": [
    "#interquartile range for selling_price\n",
    "q1 = bike_data.selling_price.quantile(q = [.25])\n",
    "q3 = bike_data.selling_price.quantile(q = [.75])\n",
    "q1\n",
    "q3\n",
    "q3[.75] - q1[.25]"
   ]
  },
  {
   "cell_type": "code",
   "execution_count": 32,
   "id": "dbb7a6a0-1a4e-4be0-a798-402c97b44990",
   "metadata": {},
   "outputs": [
    {
     "data": {
      "text/html": [
       "<div>\n",
       "<style scoped>\n",
       "    .dataframe tbody tr th:only-of-type {\n",
       "        vertical-align: middle;\n",
       "    }\n",
       "\n",
       "    .dataframe tbody tr th {\n",
       "        vertical-align: top;\n",
       "    }\n",
       "\n",
       "    .dataframe thead th {\n",
       "        text-align: right;\n",
       "    }\n",
       "</style>\n",
       "<table border=\"1\" class=\"dataframe\">\n",
       "  <thead>\n",
       "    <tr style=\"text-align: right;\">\n",
       "      <th></th>\n",
       "      <th>selling_price</th>\n",
       "      <th>year</th>\n",
       "      <th>km_driven</th>\n",
       "      <th>ex_showroom_price</th>\n",
       "    </tr>\n",
       "  </thead>\n",
       "  <tbody>\n",
       "    <tr>\n",
       "      <th>selling_price</th>\n",
       "      <td>1.000000</td>\n",
       "      <td>0.402188</td>\n",
       "      <td>-0.212937</td>\n",
       "      <td>0.918583</td>\n",
       "    </tr>\n",
       "    <tr>\n",
       "      <th>year</th>\n",
       "      <td>0.402188</td>\n",
       "      <td>1.000000</td>\n",
       "      <td>-0.288675</td>\n",
       "      <td>0.126378</td>\n",
       "    </tr>\n",
       "    <tr>\n",
       "      <th>km_driven</th>\n",
       "      <td>-0.212937</td>\n",
       "      <td>-0.288675</td>\n",
       "      <td>1.000000</td>\n",
       "      <td>-0.122011</td>\n",
       "    </tr>\n",
       "    <tr>\n",
       "      <th>ex_showroom_price</th>\n",
       "      <td>0.918583</td>\n",
       "      <td>0.126378</td>\n",
       "      <td>-0.122011</td>\n",
       "      <td>1.000000</td>\n",
       "    </tr>\n",
       "  </tbody>\n",
       "</table>\n",
       "</div>"
      ],
      "text/plain": [
       "                   selling_price      year  km_driven  ex_showroom_price\n",
       "selling_price           1.000000  0.402188  -0.212937           0.918583\n",
       "year                    0.402188  1.000000  -0.288675           0.126378\n",
       "km_driven              -0.212937 -0.288675   1.000000          -0.122011\n",
       "ex_showroom_price       0.918583  0.126378  -0.122011           1.000000"
      ]
     },
     "execution_count": 32,
     "metadata": {},
     "output_type": "execute_result"
    }
   ],
   "source": [
    "#finding correlation between the numeric variables in the data set\n",
    "bike_data.corr()"
   ]
  },
  {
   "cell_type": "markdown",
   "id": "57d9f8e1-a70b-4fa9-ae53-e951b89eda2c",
   "metadata": {},
   "source": [
    "We see that selling_price and ex_showroom_price are highly correlated, in fact even more highly correlated than I anticipated or what it looked like from a cursory look at the data. They in fact boast a roughly 92% correlation with one another. Also, selling_price and km_driven are negatively correlated as one would expect (the more use a vehicle has the lower the price all else being equal). Insofar as it is meaningful the positive correlation shown between year and selling_price also makes sense because a larger number for year represents a newer vehicle. One might expect that until a bike is so old as to be considered a collector's item or an antique that an older bike would be worth less."
   ]
  },
  {
   "cell_type": "code",
   "execution_count": 33,
   "id": "be9830fe-75f1-4d3b-ac5a-0d416f698700",
   "metadata": {},
   "outputs": [
    {
     "data": {
      "text/html": [
       "<div>\n",
       "<style scoped>\n",
       "    .dataframe tbody tr th:only-of-type {\n",
       "        vertical-align: middle;\n",
       "    }\n",
       "\n",
       "    .dataframe tbody tr th {\n",
       "        vertical-align: top;\n",
       "    }\n",
       "\n",
       "    .dataframe thead th {\n",
       "        text-align: right;\n",
       "    }\n",
       "</style>\n",
       "<table border=\"1\" class=\"dataframe\">\n",
       "  <thead>\n",
       "    <tr style=\"text-align: right;\">\n",
       "      <th></th>\n",
       "      <th>selling_price</th>\n",
       "      <th>year</th>\n",
       "      <th>km_driven</th>\n",
       "      <th>ex_showroom_price</th>\n",
       "    </tr>\n",
       "    <tr>\n",
       "      <th>seller_type</th>\n",
       "      <th></th>\n",
       "      <th></th>\n",
       "      <th></th>\n",
       "      <th></th>\n",
       "    </tr>\n",
       "  </thead>\n",
       "  <tbody>\n",
       "    <tr>\n",
       "      <th>Dealer</th>\n",
       "      <td>46666.666667</td>\n",
       "      <td>2011.000000</td>\n",
       "      <td>35258.833333</td>\n",
       "      <td>88536.000000</td>\n",
       "    </tr>\n",
       "    <tr>\n",
       "      <th>Individual</th>\n",
       "      <td>59711.923223</td>\n",
       "      <td>2013.883412</td>\n",
       "      <td>34354.720379</td>\n",
       "      <td>87955.934189</td>\n",
       "    </tr>\n",
       "  </tbody>\n",
       "</table>\n",
       "</div>"
      ],
      "text/plain": [
       "             selling_price         year     km_driven  ex_showroom_price\n",
       "seller_type                                                             \n",
       "Dealer        46666.666667  2011.000000  35258.833333       88536.000000\n",
       "Individual    59711.923223  2013.883412  34354.720379       87955.934189"
      ]
     },
     "execution_count": 33,
     "metadata": {},
     "output_type": "execute_result"
    }
   ],
   "source": [
    "bike_data.groupby(\"seller_type\").mean()"
   ]
  },
  {
   "cell_type": "code",
   "execution_count": 34,
   "id": "b6cf9444-cd81-499c-b062-1f2c3ad6eedc",
   "metadata": {},
   "outputs": [
    {
     "data": {
      "text/html": [
       "<div>\n",
       "<style scoped>\n",
       "    .dataframe tbody tr th:only-of-type {\n",
       "        vertical-align: middle;\n",
       "    }\n",
       "\n",
       "    .dataframe tbody tr th {\n",
       "        vertical-align: top;\n",
       "    }\n",
       "\n",
       "    .dataframe thead th {\n",
       "        text-align: right;\n",
       "    }\n",
       "</style>\n",
       "<table border=\"1\" class=\"dataframe\">\n",
       "  <thead>\n",
       "    <tr style=\"text-align: right;\">\n",
       "      <th></th>\n",
       "      <th>selling_price</th>\n",
       "      <th>year</th>\n",
       "      <th>km_driven</th>\n",
       "      <th>ex_showroom_price</th>\n",
       "    </tr>\n",
       "    <tr>\n",
       "      <th>owner</th>\n",
       "      <th></th>\n",
       "      <th></th>\n",
       "      <th></th>\n",
       "      <th></th>\n",
       "    </tr>\n",
       "  </thead>\n",
       "  <tbody>\n",
       "    <tr>\n",
       "      <th>1st owner</th>\n",
       "      <td>60022.813853</td>\n",
       "      <td>2014.200216</td>\n",
       "      <td>32816.583333</td>\n",
       "      <td>84362.796763</td>\n",
       "    </tr>\n",
       "    <tr>\n",
       "      <th>2nd owner</th>\n",
       "      <td>55666.658537</td>\n",
       "      <td>2012.056911</td>\n",
       "      <td>39288.991870</td>\n",
       "      <td>112554.651515</td>\n",
       "    </tr>\n",
       "    <tr>\n",
       "      <th>3rd owner</th>\n",
       "      <td>55727.272727</td>\n",
       "      <td>2007.818182</td>\n",
       "      <td>33292.181818</td>\n",
       "      <td>64611.000000</td>\n",
       "    </tr>\n",
       "    <tr>\n",
       "      <th>4th owner</th>\n",
       "      <td>118333.333333</td>\n",
       "      <td>2007.666667</td>\n",
       "      <td>311500.000000</td>\n",
       "      <td>534000.000000</td>\n",
       "    </tr>\n",
       "  </tbody>\n",
       "</table>\n",
       "</div>"
      ],
      "text/plain": [
       "           selling_price         year      km_driven  ex_showroom_price\n",
       "owner                                                                  \n",
       "1st owner   60022.813853  2014.200216   32816.583333       84362.796763\n",
       "2nd owner   55666.658537  2012.056911   39288.991870      112554.651515\n",
       "3rd owner   55727.272727  2007.818182   33292.181818       64611.000000\n",
       "4th owner  118333.333333  2007.666667  311500.000000      534000.000000"
      ]
     },
     "execution_count": 34,
     "metadata": {},
     "output_type": "execute_result"
    }
   ],
   "source": [
    "bike_data.groupby(\"owner\").mean()"
   ]
  },
  {
   "cell_type": "markdown",
   "id": "9b83eccf-a2e0-428a-978b-7815346be306",
   "metadata": {},
   "source": [
    "We can see that dealers tend to sell their bikes for about 13,000 dollars less than individuals do as well as sell slightly older bikes that have been ridden a little farther. Very interestingly, in the second set of grouped means we see that by far the most lucrative sales o"
   ]
  }
 ],
 "metadata": {
  "kernelspec": {
   "display_name": "Python 3 (ipykernel)",
   "language": "python",
   "name": "python3"
  },
  "language_info": {
   "codemirror_mode": {
    "name": "ipython",
    "version": 3
   },
   "file_extension": ".py",
   "mimetype": "text/x-python",
   "name": "python",
   "nbconvert_exporter": "python",
   "pygments_lexer": "ipython3",
   "version": "3.10.1"
  }
 },
 "nbformat": 4,
 "nbformat_minor": 5
}

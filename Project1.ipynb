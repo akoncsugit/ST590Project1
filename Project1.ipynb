{
 "cells": [
  {
   "cell_type": "markdown",
   "id": "daf03897-877d-4f59-a893-f169928df46b",
   "metadata": {},
   "source": [
    "# Project 1"
   ]
  },
  {
   "cell_type": "code",
   "execution_count": 1,
   "id": "7bfaf32a-56f0-4be6-b492-eb7ce2a5126c",
   "metadata": {},
   "outputs": [],
   "source": [
    "# Reading in data here"
   ]
  },
  {
   "cell_type": "markdown",
   "id": "f10b651c-1076-4505-9d60-969cc6e48aaa",
   "metadata": {
    "tags": []
   },
   "source": [
    "## Ashley EDA"
   ]
  },
  {
   "cell_type": "code",
   "execution_count": null,
   "id": "94109fa3-a14e-4893-83be-4e0081a362f0",
   "metadata": {},
   "outputs": [],
   "source": []
  },
  {
   "cell_type": "code",
   "execution_count": null,
   "id": "ad5bc308-8ecd-48ed-a719-a1c3ac887f36",
   "metadata": {},
   "outputs": [],
   "source": []
  },
  {
   "cell_type": "code",
   "execution_count": null,
   "id": "c4c1db01-f440-4d00-9406-48eb4f2c47e8",
   "metadata": {},
   "outputs": [],
   "source": []
  },
  {
   "cell_type": "code",
   "execution_count": null,
   "id": "fb55c8d8-8c16-4d80-abff-6f53911acd15",
   "metadata": {},
   "outputs": [],
   "source": []
  },
  {
   "cell_type": "markdown",
   "id": "99ae62c8-e755-4d38-bba2-7ed4bf7ff142",
   "metadata": {},
   "source": [
    "## George EDA"
   ]
  },
  {
   "cell_type": "code",
   "execution_count": null,
   "id": "0afc7a5e-0cd4-43e2-adfb-146150eecad9",
   "metadata": {},
   "outputs": [],
   "source": []
  }
 ],
 "metadata": {
  "kernelspec": {
   "display_name": "Python 3 (ipykernel)",
   "language": "python",
   "name": "python3"
  },
  "language_info": {
   "codemirror_mode": {
    "name": "ipython",
    "version": 3
   },
   "file_extension": ".py",
   "mimetype": "text/x-python",
   "name": "python",
   "nbconvert_exporter": "python",
   "pygments_lexer": "ipython3",
   "version": "3.10.1"
  }
 },
 "nbformat": 4,
 "nbformat_minor": 5
}

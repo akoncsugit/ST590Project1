{
 "cells": [
  {
   "cell_type": "markdown",
   "id": "daf03897-877d-4f59-a893-f169928df46b",
   "metadata": {},
   "source": [
    "# ST590: Project 1"
   ]
  },
  {
   "cell_type": "markdown",
   "id": "330b6fe7-ce1f-4ff9-8565-a86dae102dd2",
   "metadata": {},
   "source": [
    "### Authors: George Bridges and Ashley Ko\n",
    "### Date: 2/13/2022"
   ]
  },
  {
   "cell_type": "markdown",
   "id": "2b913121-6e21-4ea9-8649-026e57502f3d",
   "metadata": {},
   "source": [
    "#### Introduction\n",
    "To Do: clean up this section"
   ]
  },
  {
   "cell_type": "markdown",
   "id": "8a0739e0-8ba5-4685-991a-0b556af95d9d",
   "metadata": {},
   "source": [
    "For this project we utilized python to explore used motorcycle listing data obtained from [Kaggle.com](https://www.kaggle.com/nehalbirla/motorcycle-dataset?select=BIKE+DETAILS.csv). The data set, `bikeDetails.csv`, was originally complied from [BIKEWALE](www.bikewale.com). It contains 7 variables: `name` (of motorcycle), `selling_price`, `year` (of motorcycle, not sale), `seller_type` (Individual or Dealer), `owner` (1st, 2nd, 3rd, or 4th owner), `km_driven`, `ex_showroom_price`. After processing the data appropriately, we performed exploratory data analysis to summarize the data. The results of which shaped the direction of our predictions of `selling_price`. We created algorithms to predict `selling_price` using grid search, essentially a brute force approach and gradient descent, which finds the minimum value for the loss function by ascertaining where it has zero slope which indicates an extremum. Our grid search method evaluated points in the interquartile range of our target variable at intervals of $100. Thus, the estimate for the optimum value is the nearest 100 point to the actual optimum value. "
   ]
  },
  {
   "cell_type": "markdown",
   "id": "beb38966-07ca-4990-8e48-ca6dbd5c468f",
   "metadata": {},
   "source": [
    "#### Exploratory Data Analysis"
   ]
  },
  {
   "cell_type": "markdown",
   "id": "d883dc76-1128-4bcf-a796-32c9aa95ceb0",
   "metadata": {},
   "source": [
    "##### Data frame creation"
   ]
  },
  {
   "cell_type": "markdown",
   "id": "3a948027-ddc8-4158-b37f-4d3012db54d6",
   "metadata": {},
   "source": [
    "To begin, we first imported the libraries necessary for accomplishing our goals of exploratory analysis and prediction. We used `pandas`, `numpy`, `math`, and `scipy.stats`."
   ]
  },
  {
   "cell_type": "code",
   "execution_count": 4,
   "id": "3f9bed38-653e-42e2-bcbd-c69547ea93b7",
   "metadata": {},
   "outputs": [],
   "source": [
    "#Importing pandas as pd\n",
    "import pandas as pd\n",
    "\n",
    "#Importing numpy as np\n",
    "import numpy as np\n",
    "                            \n",
    "#Importing math\n",
    "import math\n",
    "\n",
    "#Importing scipy.stats as stats\n",
    "import scipy.stats as stats\n",
    "\n",
    "#importing matplotlib.pyplot as plt\n",
    "import matplotlib.pyplot as plt"
   ]
  },
  {
   "cell_type": "markdown",
   "id": "1e7ad61f-1fc6-4369-a323-98779fcd07b6",
   "metadata": {},
   "source": [
    "For reading in the \"bikeDetails.csv\", we used the pandas function `pd.read_csv` and saved the resulting data fram as \"bike_data\"."
   ]
  },
  {
   "cell_type": "code",
   "execution_count": 5,
   "id": "7bfaf32a-56f0-4be6-b492-eb7ce2a5126c",
   "metadata": {},
   "outputs": [],
   "source": [
    "#Reading in bikeDetails data set using pandas\n",
    "bike_data = pd.read_csv(\"bikeDetails.csv\")"
   ]
  },
  {
   "cell_type": "markdown",
   "id": "0009fd28-694e-4476-8f4b-21c294cdfab1",
   "metadata": {},
   "source": [
    "We used `.head()` to get a sense what the format of the data looks like."
   ]
  },
  {
   "cell_type": "code",
   "execution_count": 6,
   "id": "18f4df2a-50ba-470d-bdba-dff42efc7f13",
   "metadata": {},
   "outputs": [
    {
     "data": {
      "text/html": [
       "<div>\n",
       "<style scoped>\n",
       "    .dataframe tbody tr th:only-of-type {\n",
       "        vertical-align: middle;\n",
       "    }\n",
       "\n",
       "    .dataframe tbody tr th {\n",
       "        vertical-align: top;\n",
       "    }\n",
       "\n",
       "    .dataframe thead th {\n",
       "        text-align: right;\n",
       "    }\n",
       "</style>\n",
       "<table border=\"1\" class=\"dataframe\">\n",
       "  <thead>\n",
       "    <tr style=\"text-align: right;\">\n",
       "      <th></th>\n",
       "      <th>name</th>\n",
       "      <th>selling_price</th>\n",
       "      <th>year</th>\n",
       "      <th>seller_type</th>\n",
       "      <th>owner</th>\n",
       "      <th>km_driven</th>\n",
       "      <th>ex_showroom_price</th>\n",
       "    </tr>\n",
       "  </thead>\n",
       "  <tbody>\n",
       "    <tr>\n",
       "      <th>0</th>\n",
       "      <td>Royal Enfield Classic 350</td>\n",
       "      <td>175000</td>\n",
       "      <td>2019</td>\n",
       "      <td>Individual</td>\n",
       "      <td>1st owner</td>\n",
       "      <td>350</td>\n",
       "      <td>NaN</td>\n",
       "    </tr>\n",
       "    <tr>\n",
       "      <th>1</th>\n",
       "      <td>Honda Dio</td>\n",
       "      <td>45000</td>\n",
       "      <td>2017</td>\n",
       "      <td>Individual</td>\n",
       "      <td>1st owner</td>\n",
       "      <td>5650</td>\n",
       "      <td>NaN</td>\n",
       "    </tr>\n",
       "    <tr>\n",
       "      <th>2</th>\n",
       "      <td>Royal Enfield Classic Gunmetal Grey</td>\n",
       "      <td>150000</td>\n",
       "      <td>2018</td>\n",
       "      <td>Individual</td>\n",
       "      <td>1st owner</td>\n",
       "      <td>12000</td>\n",
       "      <td>148114.0</td>\n",
       "    </tr>\n",
       "    <tr>\n",
       "      <th>3</th>\n",
       "      <td>Yamaha Fazer FI V 2.0 [2016-2018]</td>\n",
       "      <td>65000</td>\n",
       "      <td>2015</td>\n",
       "      <td>Individual</td>\n",
       "      <td>1st owner</td>\n",
       "      <td>23000</td>\n",
       "      <td>89643.0</td>\n",
       "    </tr>\n",
       "    <tr>\n",
       "      <th>4</th>\n",
       "      <td>Yamaha SZ [2013-2014]</td>\n",
       "      <td>20000</td>\n",
       "      <td>2011</td>\n",
       "      <td>Individual</td>\n",
       "      <td>2nd owner</td>\n",
       "      <td>21000</td>\n",
       "      <td>NaN</td>\n",
       "    </tr>\n",
       "  </tbody>\n",
       "</table>\n",
       "</div>"
      ],
      "text/plain": [
       "                                  name  selling_price  year seller_type  \\\n",
       "0            Royal Enfield Classic 350         175000  2019  Individual   \n",
       "1                            Honda Dio          45000  2017  Individual   \n",
       "2  Royal Enfield Classic Gunmetal Grey         150000  2018  Individual   \n",
       "3    Yamaha Fazer FI V 2.0 [2016-2018]          65000  2015  Individual   \n",
       "4                Yamaha SZ [2013-2014]          20000  2011  Individual   \n",
       "\n",
       "       owner  km_driven  ex_showroom_price  \n",
       "0  1st owner        350                NaN  \n",
       "1  1st owner       5650                NaN  \n",
       "2  1st owner      12000           148114.0  \n",
       "3  1st owner      23000            89643.0  \n",
       "4  2nd owner      21000                NaN  "
      ]
     },
     "execution_count": 6,
     "metadata": {},
     "output_type": "execute_result"
    }
   ],
   "source": [
    "#Displays the first 5 observations from the bike_data data set\n",
    "bike_data.head()"
   ]
  },
  {
   "cell_type": "markdown",
   "id": "a9e83a08-e3a7-4795-8370-34284a61594e",
   "metadata": {},
   "source": [
    "After observing the first 5 entries of \"bike_data\", we felt that the variables `seller_type`, `owner`, and `year` need additional modification for us to proceed. We converted both `seller_type` and`owner` to categorical variables using `.astype()` and created a new variable `year_cat` from the `year` variable using the `pandas` function `.cut()`. This new variable segmented year into nine, 4 year levels starting with 1986 and ending with 2021."
   ]
  },
  {
   "cell_type": "code",
   "execution_count": 7,
   "id": "945eb9e6-ec33-4606-9d1b-5159469da9b5",
   "metadata": {},
   "outputs": [],
   "source": [
    "#Formating seller_type as a categorical variable\n",
    "bike_data.seller_type = bike_data.seller_type.astype(\"category\")\n",
    "#Formating owner as a categorical variable\n",
    "bike_data.owner = bike_data.owner.astype(\"category\")\n",
    "#Creating a new variable for year as a categorical variable in ranges of four years\n",
    "bike_data['year_cat'] = pd.cut(bike_data.year,\n",
    "                               bins = [1986, 1990, 1994, 1998, 2002, 2006,\n",
    "                                       2010, 2014, 2018, 2022],\n",
    "                               right = False, include_lowest = True)"
   ]
  },
  {
   "cell_type": "markdown",
   "id": "e839e18b-809c-4bf6-b567-eb7e4dcf9c52",
   "metadata": {},
   "source": [
    "##### Numeric and Graphical Summaries"
   ]
  },
  {
   "cell_type": "code",
   "execution_count": 19,
   "id": "f15ed6f7-3882-4f05-844a-01532850b898",
   "metadata": {},
   "outputs": [
    {
     "data": {
      "text/plain": [
       "[2014, 2018)    431\n",
       "[2010, 2014)    264\n",
       "[2018, 2022)    220\n",
       "[2006, 2010)    105\n",
       "[2002, 2006)     23\n",
       "[1998, 2002)     12\n",
       "[1994, 1998)      3\n",
       "[1990, 1994)      2\n",
       "[1986, 1990)      1\n",
       "Name: year_cat, dtype: int64"
      ]
     },
     "execution_count": 19,
     "metadata": {},
     "output_type": "execute_result"
    }
   ],
   "source": [
    "bike_data['year_cat'].value_counts(dropna = False)"
   ]
  },
  {
   "cell_type": "markdown",
   "id": "c631e426-4ca7-477e-9ec6-604e860c5392",
   "metadata": {},
   "source": [
    "As we can see the vast majority of bikes were manufactured after the year 2006 and only six bikes were manufactured before 1998."
   ]
  },
  {
   "cell_type": "code",
   "execution_count": 20,
   "id": "bcdf48b3-6af4-4ec7-85e1-a3301530c53f",
   "metadata": {},
   "outputs": [
    {
     "data": {
      "text/plain": [
       "Individual    1055\n",
       "Dealer           6\n",
       "Name: seller_type, dtype: int64"
      ]
     },
     "execution_count": 20,
     "metadata": {},
     "output_type": "execute_result"
    }
   ],
   "source": [
    "bike_data['seller_type'].value_counts(dropna = False)"
   ]
  },
  {
   "cell_type": "markdown",
   "id": "a0d5d7a5-9847-4700-909f-49eab8e3a9a3",
   "metadata": {},
   "source": [
    "We can also see that the overwhelming majority of bike sales were completed by individuals with only six being completed by dealers."
   ]
  },
  {
   "cell_type": "code",
   "execution_count": 21,
   "id": "958899c3-4559-47a2-b9aa-8626eaa3662e",
   "metadata": {},
   "outputs": [
    {
     "data": {
      "text/plain": [
       "1st owner    924\n",
       "2nd owner    123\n",
       "3rd owner     11\n",
       "4th owner      3\n",
       "Name: owner, dtype: int64"
      ]
     },
     "execution_count": 21,
     "metadata": {},
     "output_type": "execute_result"
    }
   ],
   "source": [
    "bike_data['owner'].value_counts(dropna = False)"
   ]
  },
  {
   "cell_type": "markdown",
   "id": "dc08eb82-0879-4736-8195-39e7df709b52",
   "metadata": {},
   "source": [
    "We see above that only four bikes are on their 4th owner and most (924) are on their 1st owner."
   ]
  },
  {
   "cell_type": "code",
   "execution_count": 23,
   "id": "ad5bc308-8ecd-48ed-a719-a1c3ac887f36",
   "metadata": {},
   "outputs": [
    {
     "data": {
      "text/html": [
       "<div>\n",
       "<style scoped>\n",
       "    .dataframe tbody tr th:only-of-type {\n",
       "        vertical-align: middle;\n",
       "    }\n",
       "\n",
       "    .dataframe tbody tr th {\n",
       "        vertical-align: top;\n",
       "    }\n",
       "\n",
       "    .dataframe thead th {\n",
       "        text-align: right;\n",
       "    }\n",
       "</style>\n",
       "<table border=\"1\" class=\"dataframe\">\n",
       "  <thead>\n",
       "    <tr style=\"text-align: right;\">\n",
       "      <th></th>\n",
       "      <th>owner</th>\n",
       "      <th>1st owner</th>\n",
       "      <th>2nd owner</th>\n",
       "      <th>3rd owner</th>\n",
       "      <th>4th owner</th>\n",
       "      <th>All</th>\n",
       "    </tr>\n",
       "    <tr>\n",
       "      <th>seller_type</th>\n",
       "      <th>year_cat</th>\n",
       "      <th></th>\n",
       "      <th></th>\n",
       "      <th></th>\n",
       "      <th></th>\n",
       "      <th></th>\n",
       "    </tr>\n",
       "  </thead>\n",
       "  <tbody>\n",
       "    <tr>\n",
       "      <th rowspan=\"9\" valign=\"top\">Dealer</th>\n",
       "      <th>[1986, 1990)</th>\n",
       "      <td>0</td>\n",
       "      <td>0</td>\n",
       "      <td>0</td>\n",
       "      <td>0</td>\n",
       "      <td>NaN</td>\n",
       "    </tr>\n",
       "    <tr>\n",
       "      <th>[1990, 1994)</th>\n",
       "      <td>0</td>\n",
       "      <td>0</td>\n",
       "      <td>0</td>\n",
       "      <td>0</td>\n",
       "      <td>NaN</td>\n",
       "    </tr>\n",
       "    <tr>\n",
       "      <th>[1994, 1998)</th>\n",
       "      <td>0</td>\n",
       "      <td>0</td>\n",
       "      <td>0</td>\n",
       "      <td>0</td>\n",
       "      <td>NaN</td>\n",
       "    </tr>\n",
       "    <tr>\n",
       "      <th>[1998, 2002)</th>\n",
       "      <td>0</td>\n",
       "      <td>1</td>\n",
       "      <td>0</td>\n",
       "      <td>0</td>\n",
       "      <td>1.0</td>\n",
       "    </tr>\n",
       "    <tr>\n",
       "      <th>[2002, 2006)</th>\n",
       "      <td>0</td>\n",
       "      <td>0</td>\n",
       "      <td>0</td>\n",
       "      <td>0</td>\n",
       "      <td>NaN</td>\n",
       "    </tr>\n",
       "    <tr>\n",
       "      <th>[2006, 2010)</th>\n",
       "      <td>0</td>\n",
       "      <td>1</td>\n",
       "      <td>0</td>\n",
       "      <td>0</td>\n",
       "      <td>1.0</td>\n",
       "    </tr>\n",
       "    <tr>\n",
       "      <th>[2010, 2014)</th>\n",
       "      <td>2</td>\n",
       "      <td>0</td>\n",
       "      <td>0</td>\n",
       "      <td>0</td>\n",
       "      <td>2.0</td>\n",
       "    </tr>\n",
       "    <tr>\n",
       "      <th>[2014, 2018)</th>\n",
       "      <td>2</td>\n",
       "      <td>0</td>\n",
       "      <td>0</td>\n",
       "      <td>0</td>\n",
       "      <td>2.0</td>\n",
       "    </tr>\n",
       "    <tr>\n",
       "      <th>[2018, 2022)</th>\n",
       "      <td>0</td>\n",
       "      <td>0</td>\n",
       "      <td>0</td>\n",
       "      <td>0</td>\n",
       "      <td>NaN</td>\n",
       "    </tr>\n",
       "    <tr>\n",
       "      <th rowspan=\"9\" valign=\"top\">Individual</th>\n",
       "      <th>[1986, 1990)</th>\n",
       "      <td>1</td>\n",
       "      <td>0</td>\n",
       "      <td>0</td>\n",
       "      <td>0</td>\n",
       "      <td>1.0</td>\n",
       "    </tr>\n",
       "    <tr>\n",
       "      <th>[1990, 1994)</th>\n",
       "      <td>1</td>\n",
       "      <td>1</td>\n",
       "      <td>0</td>\n",
       "      <td>0</td>\n",
       "      <td>2.0</td>\n",
       "    </tr>\n",
       "    <tr>\n",
       "      <th>[1994, 1998)</th>\n",
       "      <td>2</td>\n",
       "      <td>0</td>\n",
       "      <td>1</td>\n",
       "      <td>0</td>\n",
       "      <td>3.0</td>\n",
       "    </tr>\n",
       "    <tr>\n",
       "      <th>[1998, 2002)</th>\n",
       "      <td>7</td>\n",
       "      <td>1</td>\n",
       "      <td>2</td>\n",
       "      <td>1</td>\n",
       "      <td>11.0</td>\n",
       "    </tr>\n",
       "    <tr>\n",
       "      <th>[2002, 2006)</th>\n",
       "      <td>17</td>\n",
       "      <td>6</td>\n",
       "      <td>0</td>\n",
       "      <td>0</td>\n",
       "      <td>23.0</td>\n",
       "    </tr>\n",
       "    <tr>\n",
       "      <th>[2006, 2010)</th>\n",
       "      <td>83</td>\n",
       "      <td>17</td>\n",
       "      <td>3</td>\n",
       "      <td>1</td>\n",
       "      <td>104.0</td>\n",
       "    </tr>\n",
       "    <tr>\n",
       "      <th>[2010, 2014)</th>\n",
       "      <td>220</td>\n",
       "      <td>39</td>\n",
       "      <td>3</td>\n",
       "      <td>0</td>\n",
       "      <td>262.0</td>\n",
       "    </tr>\n",
       "    <tr>\n",
       "      <th>[2014, 2018)</th>\n",
       "      <td>373</td>\n",
       "      <td>53</td>\n",
       "      <td>2</td>\n",
       "      <td>1</td>\n",
       "      <td>429.0</td>\n",
       "    </tr>\n",
       "    <tr>\n",
       "      <th>[2018, 2022)</th>\n",
       "      <td>216</td>\n",
       "      <td>4</td>\n",
       "      <td>0</td>\n",
       "      <td>0</td>\n",
       "      <td>220.0</td>\n",
       "    </tr>\n",
       "    <tr>\n",
       "      <th>All</th>\n",
       "      <th></th>\n",
       "      <td>924</td>\n",
       "      <td>123</td>\n",
       "      <td>11</td>\n",
       "      <td>3</td>\n",
       "      <td>1061.0</td>\n",
       "    </tr>\n",
       "  </tbody>\n",
       "</table>\n",
       "</div>"
      ],
      "text/plain": [
       "owner                     1st owner  2nd owner  3rd owner  4th owner     All\n",
       "seller_type year_cat                                                        \n",
       "Dealer      [1986, 1990)          0          0          0          0     NaN\n",
       "            [1990, 1994)          0          0          0          0     NaN\n",
       "            [1994, 1998)          0          0          0          0     NaN\n",
       "            [1998, 2002)          0          1          0          0     1.0\n",
       "            [2002, 2006)          0          0          0          0     NaN\n",
       "            [2006, 2010)          0          1          0          0     1.0\n",
       "            [2010, 2014)          2          0          0          0     2.0\n",
       "            [2014, 2018)          2          0          0          0     2.0\n",
       "            [2018, 2022)          0          0          0          0     NaN\n",
       "Individual  [1986, 1990)          1          0          0          0     1.0\n",
       "            [1990, 1994)          1          1          0          0     2.0\n",
       "            [1994, 1998)          2          0          1          0     3.0\n",
       "            [1998, 2002)          7          1          2          1    11.0\n",
       "            [2002, 2006)         17          6          0          0    23.0\n",
       "            [2006, 2010)         83         17          3          1   104.0\n",
       "            [2010, 2014)        220         39          3          0   262.0\n",
       "            [2014, 2018)        373         53          2          1   429.0\n",
       "            [2018, 2022)        216          4          0          0   220.0\n",
       "All                             924        123         11          3  1061.0"
      ]
     },
     "execution_count": 23,
     "metadata": {},
     "output_type": "execute_result"
    }
   ],
   "source": [
    "seller_year_owner = pd.crosstab([bike_data.seller_type, bike_data.year_cat],\n",
    "                                bike_data.owner, margins = True, dropna = False)\n",
    "seller_year_owner"
   ]
  },
  {
   "cell_type": "code",
   "execution_count": 81,
   "id": "70efd394-a716-4248-9ec3-63eb11503cc5",
   "metadata": {},
   "outputs": [
    {
     "data": {
      "text/plain": [
       "Text(0.5, 1.0, 'Seller Type across Year Categories cross-referenced with Owner number')"
      ]
     },
     "execution_count": 81,
     "metadata": {},
     "output_type": "execute_result"
    },
    {
     "data": {
      "image/png": "[encoded data removed]",
      "text/plain": [
       "<Figure size 432x288 with 1 Axes>"
      ]
     },
     "metadata": {
      "needs_background": "light"
     },
     "output_type": "display_data"
    }
   ],
   "source": [
    "seller_year_owner.plot.bar(stacked = True)\n",
    "plt.xlabel(\"Year Category\")\n",
    "plt.title(\"Seller Type across Year Categories cross-referenced with Owner number\")"
   ]
  },
  {
   "cell_type": "markdown",
   "id": "e76df847-2d0f-4645-8ab9-d67d012c0036",
   "metadata": {},
   "source": [
    "As we can see in the above contingency table and associated bar chart, the majority of bikes were manufactured after 2006 and are on their first owner. Interestingly all three of the bikes on their 4th owner was manufactured on or after 1998. One might think that a bike that has already changed hands that many times might have been manufactured earlier."
   ]
  },
  {
   "cell_type": "code",
   "execution_count": 25,
   "id": "ca9c7c3c-abde-4153-b8fb-2983967b14d7",
   "metadata": {},
   "outputs": [
    {
     "data": {
      "text/html": [
       "<div>\n",
       "<style scoped>\n",
       "    .dataframe tbody tr th:only-of-type {\n",
       "        vertical-align: middle;\n",
       "    }\n",
       "\n",
       "    .dataframe tbody tr th {\n",
       "        vertical-align: top;\n",
       "    }\n",
       "\n",
       "    .dataframe thead th {\n",
       "        text-align: right;\n",
       "    }\n",
       "</style>\n",
       "<table border=\"1\" class=\"dataframe\">\n",
       "  <thead>\n",
       "    <tr style=\"text-align: right;\">\n",
       "      <th>seller_type</th>\n",
       "      <th>Dealer</th>\n",
       "      <th>Individual</th>\n",
       "    </tr>\n",
       "    <tr>\n",
       "      <th>year_cat</th>\n",
       "      <th></th>\n",
       "      <th></th>\n",
       "    </tr>\n",
       "  </thead>\n",
       "  <tbody>\n",
       "    <tr>\n",
       "      <th>[1986, 1990)</th>\n",
       "      <td>0</td>\n",
       "      <td>1</td>\n",
       "    </tr>\n",
       "    <tr>\n",
       "      <th>[1990, 1994)</th>\n",
       "      <td>0</td>\n",
       "      <td>2</td>\n",
       "    </tr>\n",
       "    <tr>\n",
       "      <th>[1994, 1998)</th>\n",
       "      <td>0</td>\n",
       "      <td>3</td>\n",
       "    </tr>\n",
       "    <tr>\n",
       "      <th>[1998, 2002)</th>\n",
       "      <td>1</td>\n",
       "      <td>11</td>\n",
       "    </tr>\n",
       "    <tr>\n",
       "      <th>[2002, 2006)</th>\n",
       "      <td>0</td>\n",
       "      <td>23</td>\n",
       "    </tr>\n",
       "    <tr>\n",
       "      <th>[2006, 2010)</th>\n",
       "      <td>1</td>\n",
       "      <td>104</td>\n",
       "    </tr>\n",
       "    <tr>\n",
       "      <th>[2010, 2014)</th>\n",
       "      <td>2</td>\n",
       "      <td>262</td>\n",
       "    </tr>\n",
       "    <tr>\n",
       "      <th>[2014, 2018)</th>\n",
       "      <td>2</td>\n",
       "      <td>429</td>\n",
       "    </tr>\n",
       "    <tr>\n",
       "      <th>[2018, 2022)</th>\n",
       "      <td>0</td>\n",
       "      <td>220</td>\n",
       "    </tr>\n",
       "  </tbody>\n",
       "</table>\n",
       "</div>"
      ],
      "text/plain": [
       "seller_type   Dealer  Individual\n",
       "year_cat                        \n",
       "[1986, 1990)       0           1\n",
       "[1990, 1994)       0           2\n",
       "[1994, 1998)       0           3\n",
       "[1998, 2002)       1          11\n",
       "[2002, 2006)       0          23\n",
       "[2006, 2010)       1         104\n",
       "[2010, 2014)       2         262\n",
       "[2014, 2018)       2         429\n",
       "[2018, 2022)       0         220"
      ]
     },
     "execution_count": 25,
     "metadata": {},
     "output_type": "execute_result"
    }
   ],
   "source": [
    "year_seller = pd.crosstab(bike_data.year_cat, bike_data.seller_type, dropna = True)\n",
    "year_seller"
   ]
  },
  {
   "cell_type": "code",
   "execution_count": 80,
   "id": "6c17264e-a233-45ae-afbe-f6fa73224eb5",
   "metadata": {},
   "outputs": [
    {
     "data": {
      "text/plain": [
       "Text(0.5, 1.0, 'Breakdown of Seller Type by Year Category')"
      ]
     },
     "execution_count": 80,
     "metadata": {},
     "output_type": "execute_result"
    },
    {
     "data": {
      "image/png": "[encoded data removed]",
      "text/plain": [
       "<Figure size 432x288 with 1 Axes>"
      ]
     },
     "metadata": {
      "needs_background": "light"
     },
     "output_type": "display_data"
    }
   ],
   "source": [
    "year_seller.plot.bar()\n",
    "plt.title(\"Breakdown of Seller Type by Year Category\")"
   ]
  },
  {
   "cell_type": "markdown",
   "id": "e098ee0a-7596-4138-bef7-5b5bcc02fdda",
   "metadata": {},
   "source": [
    "We can see above that again most bikes were manufactured recently and the vast majority of sales happened by individuals as opposed to the only 6 involving dealers."
   ]
  },
  {
   "cell_type": "code",
   "execution_count": 27,
   "id": "b14501bd-60c1-4b6f-9955-caa6f60c1fdb",
   "metadata": {},
   "outputs": [
    {
     "data": {
      "text/html": [
       "<div>\n",
       "<style scoped>\n",
       "    .dataframe tbody tr th:only-of-type {\n",
       "        vertical-align: middle;\n",
       "    }\n",
       "\n",
       "    .dataframe tbody tr th {\n",
       "        vertical-align: top;\n",
       "    }\n",
       "\n",
       "    .dataframe thead th {\n",
       "        text-align: right;\n",
       "    }\n",
       "</style>\n",
       "<table border=\"1\" class=\"dataframe\">\n",
       "  <thead>\n",
       "    <tr style=\"text-align: right;\">\n",
       "      <th>owner</th>\n",
       "      <th>1st owner</th>\n",
       "      <th>2nd owner</th>\n",
       "      <th>3rd owner</th>\n",
       "      <th>4th owner</th>\n",
       "    </tr>\n",
       "    <tr>\n",
       "      <th>year_cat</th>\n",
       "      <th></th>\n",
       "      <th></th>\n",
       "      <th></th>\n",
       "      <th></th>\n",
       "    </tr>\n",
       "  </thead>\n",
       "  <tbody>\n",
       "    <tr>\n",
       "      <th>[1986, 1990)</th>\n",
       "      <td>1</td>\n",
       "      <td>0</td>\n",
       "      <td>0</td>\n",
       "      <td>0</td>\n",
       "    </tr>\n",
       "    <tr>\n",
       "      <th>[1990, 1994)</th>\n",
       "      <td>1</td>\n",
       "      <td>1</td>\n",
       "      <td>0</td>\n",
       "      <td>0</td>\n",
       "    </tr>\n",
       "    <tr>\n",
       "      <th>[1994, 1998)</th>\n",
       "      <td>2</td>\n",
       "      <td>0</td>\n",
       "      <td>1</td>\n",
       "      <td>0</td>\n",
       "    </tr>\n",
       "    <tr>\n",
       "      <th>[1998, 2002)</th>\n",
       "      <td>7</td>\n",
       "      <td>2</td>\n",
       "      <td>2</td>\n",
       "      <td>1</td>\n",
       "    </tr>\n",
       "    <tr>\n",
       "      <th>[2002, 2006)</th>\n",
       "      <td>17</td>\n",
       "      <td>6</td>\n",
       "      <td>0</td>\n",
       "      <td>0</td>\n",
       "    </tr>\n",
       "    <tr>\n",
       "      <th>[2006, 2010)</th>\n",
       "      <td>83</td>\n",
       "      <td>18</td>\n",
       "      <td>3</td>\n",
       "      <td>1</td>\n",
       "    </tr>\n",
       "    <tr>\n",
       "      <th>[2010, 2014)</th>\n",
       "      <td>222</td>\n",
       "      <td>39</td>\n",
       "      <td>3</td>\n",
       "      <td>0</td>\n",
       "    </tr>\n",
       "    <tr>\n",
       "      <th>[2014, 2018)</th>\n",
       "      <td>375</td>\n",
       "      <td>53</td>\n",
       "      <td>2</td>\n",
       "      <td>1</td>\n",
       "    </tr>\n",
       "    <tr>\n",
       "      <th>[2018, 2022)</th>\n",
       "      <td>216</td>\n",
       "      <td>4</td>\n",
       "      <td>0</td>\n",
       "      <td>0</td>\n",
       "    </tr>\n",
       "  </tbody>\n",
       "</table>\n",
       "</div>"
      ],
      "text/plain": [
       "owner         1st owner  2nd owner  3rd owner  4th owner\n",
       "year_cat                                                \n",
       "[1986, 1990)          1          0          0          0\n",
       "[1990, 1994)          1          1          0          0\n",
       "[1994, 1998)          2          0          1          0\n",
       "[1998, 2002)          7          2          2          1\n",
       "[2002, 2006)         17          6          0          0\n",
       "[2006, 2010)         83         18          3          1\n",
       "[2010, 2014)        222         39          3          0\n",
       "[2014, 2018)        375         53          2          1\n",
       "[2018, 2022)        216          4          0          0"
      ]
     },
     "execution_count": 27,
     "metadata": {},
     "output_type": "execute_result"
    }
   ],
   "source": [
    "year_owner = pd.crosstab(bike_data.year_cat, bike_data.owner, dropna = True)\n",
    "year_owner\n",
    "#pd.crosstab(bike_data.seller_type, bike_data.owner, dropna = True)"
   ]
  },
  {
   "cell_type": "code",
   "execution_count": 82,
   "id": "bee658c7-a9ad-4111-9103-6769bd027704",
   "metadata": {},
   "outputs": [
    {
     "data": {
      "text/plain": [
       "Text(0.5, 1.0, 'Year Category by Owner')"
      ]
     },
     "execution_count": 82,
     "metadata": {},
     "output_type": "execute_result"
    },
    {
     "data": {
      "image/png": "[encoded data removed]",
      "text/plain": [
       "<Figure size 432x288 with 1 Axes>"
      ]
     },
     "metadata": {
      "needs_background": "light"
     },
     "output_type": "display_data"
    }
   ],
   "source": [
    "year_owner.plot.bar(stacked = True)\n",
    "plt.title(\"Year Category by Owner\")"
   ]
  },
  {
   "cell_type": "code",
   "execution_count": 73,
   "id": "ff249acc-13de-49a1-b661-b5827c7ad25e",
   "metadata": {},
   "outputs": [
    {
     "data": {
      "text/html": [
       "<div>\n",
       "<style scoped>\n",
       "    .dataframe tbody tr th:only-of-type {\n",
       "        vertical-align: middle;\n",
       "    }\n",
       "\n",
       "    .dataframe tbody tr th {\n",
       "        vertical-align: top;\n",
       "    }\n",
       "\n",
       "    .dataframe thead th {\n",
       "        text-align: right;\n",
       "    }\n",
       "</style>\n",
       "<table border=\"1\" class=\"dataframe\">\n",
       "  <thead>\n",
       "    <tr style=\"text-align: right;\">\n",
       "      <th>owner</th>\n",
       "      <th>1st owner</th>\n",
       "      <th>2nd owner</th>\n",
       "      <th>3rd owner</th>\n",
       "      <th>4th owner</th>\n",
       "    </tr>\n",
       "    <tr>\n",
       "      <th>seller_type</th>\n",
       "      <th></th>\n",
       "      <th></th>\n",
       "      <th></th>\n",
       "      <th></th>\n",
       "    </tr>\n",
       "  </thead>\n",
       "  <tbody>\n",
       "    <tr>\n",
       "      <th>Dealer</th>\n",
       "      <td>4</td>\n",
       "      <td>2</td>\n",
       "      <td>0</td>\n",
       "      <td>0</td>\n",
       "    </tr>\n",
       "    <tr>\n",
       "      <th>Individual</th>\n",
       "      <td>920</td>\n",
       "      <td>121</td>\n",
       "      <td>11</td>\n",
       "      <td>3</td>\n",
       "    </tr>\n",
       "  </tbody>\n",
       "</table>\n",
       "</div>"
      ],
      "text/plain": [
       "owner        1st owner  2nd owner  3rd owner  4th owner\n",
       "seller_type                                            \n",
       "Dealer               4          2          0          0\n",
       "Individual         920        121         11          3"
      ]
     },
     "execution_count": 73,
     "metadata": {},
     "output_type": "execute_result"
    }
   ],
   "source": [
    "seller_owner = pd.crosstab(bike_data.seller_type, bike_data.owner, dropna = True)\n",
    "seller_owner"
   ]
  },
  {
   "cell_type": "code",
   "execution_count": 83,
   "id": "8e93de18-987e-4881-9928-93a40a19d7fc",
   "metadata": {},
   "outputs": [
    {
     "data": {
      "text/plain": [
       "Text(0.5, 1.0, 'Seller Type by Owner')"
      ]
     },
     "execution_count": 83,
     "metadata": {},
     "output_type": "execute_result"
    },
    {
     "data": {
      "image/png": "[encoded data removed]",
      "text/plain": [
       "<Figure size 432x288 with 1 Axes>"
      ]
     },
     "metadata": {
      "needs_background": "light"
     },
     "output_type": "display_data"
    }
   ],
   "source": [
    "seller_owner.plot.bar()\n",
    "plt.title(\"Seller Type by Owner\")"
   ]
  },
  {
   "cell_type": "code",
   "execution_count": 84,
   "id": "fc7528a9-1b47-4eb6-8bd5-c07047334ec2",
   "metadata": {},
   "outputs": [
    {
     "data": {
      "text/plain": [
       "Text(0.5, 1.0, 'Boxplot of Seller Price broken down by Seller Type')"
      ]
     },
     "execution_count": 84,
     "metadata": {},
     "output_type": "execute_result"
    },
    {
     "data": {
      "image/png": "[encoded data removed]",
      "text/plain": [
       "<Figure size 432x288 with 1 Axes>"
      ]
     },
     "metadata": {
      "needs_background": "light"
     },
     "output_type": "display_data"
    }
   ],
   "source": [
    "bike_data.boxplot(column = ['selling_price'], by = ['seller_type'])\n",
    "plt.title(\"Boxplot of Seller Price broken down by Seller Type\")"
   ]
  },
  {
   "cell_type": "markdown",
   "id": "95b95872-b831-4c2f-a661-9c61c0265384",
   "metadata": {},
   "source": [
    "You can see the range is larger for individuals, reflective in part of how many more data points there are for Individuals."
   ]
  },
  {
   "cell_type": "code",
   "execution_count": 79,
   "id": "007f898b-74bc-4c77-b9ca-75319812af97",
   "metadata": {},
   "outputs": [
    {
     "data": {
      "text/plain": [
       "(array([1, 2, 3, 4, 5, 6, 7, 8, 9]),\n",
       " [Text(1, 0, '[1986, 1990)'),\n",
       "  Text(2, 0, '[1990, 1994)'),\n",
       "  Text(3, 0, '[1994, 1998)'),\n",
       "  Text(4, 0, '[1998, 2002)'),\n",
       "  Text(5, 0, '[2002, 2006)'),\n",
       "  Text(6, 0, '[2006, 2010)'),\n",
       "  Text(7, 0, '[2010, 2014)'),\n",
       "  Text(8, 0, '[2014, 2018)'),\n",
       "  Text(9, 0, '[2018, 2022)')])"
      ]
     },
     "execution_count": 79,
     "metadata": {},
     "output_type": "execute_result"
    },
    {
     "data": {
      "image/png": "[encoded data removed]",
      "text/plain": [
       "<Figure size 432x288 with 1 Axes>"
      ]
     },
     "metadata": {
      "needs_background": "light"
     },
     "output_type": "display_data"
    }
   ],
   "source": [
    "bike_data.boxplot(column = ['selling_price'], by = ['year_cat'])\n",
    "plt.xticks(rotation = 90)"
   ]
  },
  {
   "cell_type": "markdown",
   "id": "13c485ac-6b27-4bbe-bb58-bdccc5b71012",
   "metadata": {},
   "source": [
    "We can see that most bikes were manufactured recently and are on their first owner. A substantial amount are on their second owner with only a few on their third and fourth owners."
   ]
  },
  {
   "cell_type": "code",
   "execution_count": 29,
   "id": "c7fa677c-0bbe-4542-9c65-a8e3d68974a7",
   "metadata": {},
   "outputs": [
    {
     "data": {
      "text/html": [
       "<div>\n",
       "<style scoped>\n",
       "    .dataframe tbody tr th:only-of-type {\n",
       "        vertical-align: middle;\n",
       "    }\n",
       "\n",
       "    .dataframe tbody tr th {\n",
       "        vertical-align: top;\n",
       "    }\n",
       "\n",
       "    .dataframe thead tr th {\n",
       "        text-align: left;\n",
       "    }\n",
       "\n",
       "    .dataframe thead tr:last-of-type th {\n",
       "        text-align: right;\n",
       "    }\n",
       "</style>\n",
       "<table border=\"1\" class=\"dataframe\">\n",
       "  <thead>\n",
       "    <tr>\n",
       "      <th></th>\n",
       "      <th colspan=\"4\" halign=\"left\">ex_showroom_price</th>\n",
       "      <th colspan=\"4\" halign=\"left\">km_driven</th>\n",
       "      <th colspan=\"4\" halign=\"left\">selling_price</th>\n",
       "    </tr>\n",
       "    <tr>\n",
       "      <th></th>\n",
       "      <th>max</th>\n",
       "      <th>mean</th>\n",
       "      <th>min</th>\n",
       "      <th>std</th>\n",
       "      <th>max</th>\n",
       "      <th>mean</th>\n",
       "      <th>min</th>\n",
       "      <th>std</th>\n",
       "      <th>max</th>\n",
       "      <th>mean</th>\n",
       "      <th>min</th>\n",
       "      <th>std</th>\n",
       "    </tr>\n",
       "    <tr>\n",
       "      <th>seller_type</th>\n",
       "      <th></th>\n",
       "      <th></th>\n",
       "      <th></th>\n",
       "      <th></th>\n",
       "      <th></th>\n",
       "      <th></th>\n",
       "      <th></th>\n",
       "      <th></th>\n",
       "      <th></th>\n",
       "      <th></th>\n",
       "      <th></th>\n",
       "      <th></th>\n",
       "    </tr>\n",
       "  </thead>\n",
       "  <tbody>\n",
       "    <tr>\n",
       "      <th>Dealer</th>\n",
       "      <td>118997.0</td>\n",
       "      <td>88536.00</td>\n",
       "      <td>61600.0</td>\n",
       "      <td>28860.41</td>\n",
       "      <td>100000</td>\n",
       "      <td>35258.83</td>\n",
       "      <td>5500</td>\n",
       "      <td>37470.92</td>\n",
       "      <td>80000</td>\n",
       "      <td>46666.67</td>\n",
       "      <td>15000</td>\n",
       "      <td>25734.54</td>\n",
       "    </tr>\n",
       "    <tr>\n",
       "      <th>Individual</th>\n",
       "      <td>1278000.0</td>\n",
       "      <td>87955.93</td>\n",
       "      <td>30490.0</td>\n",
       "      <td>77666.00</td>\n",
       "      <td>880000</td>\n",
       "      <td>34354.72</td>\n",
       "      <td>350</td>\n",
       "      <td>51705.46</td>\n",
       "      <td>760000</td>\n",
       "      <td>59711.92</td>\n",
       "      <td>5000</td>\n",
       "      <td>56427.96</td>\n",
       "    </tr>\n",
       "  </tbody>\n",
       "</table>\n",
       "</div>"
      ],
      "text/plain": [
       "            ex_showroom_price                              km_driven  \\\n",
       "                          max      mean      min       std       max   \n",
       "seller_type                                                            \n",
       "Dealer               118997.0  88536.00  61600.0  28860.41    100000   \n",
       "Individual          1278000.0  87955.93  30490.0  77666.00    880000   \n",
       "\n",
       "                                      selling_price                             \n",
       "                 mean   min       std           max      mean    min       std  \n",
       "seller_type                                                                     \n",
       "Dealer       35258.83  5500  37470.92         80000  46666.67  15000  25734.54  \n",
       "Individual   34354.72   350  51705.46        760000  59711.92   5000  56427.96  "
      ]
     },
     "execution_count": 29,
     "metadata": {},
     "output_type": "execute_result"
    }
   ],
   "source": [
    "pd.pivot_table(bike_data, values = [\"selling_price\", \"ex_showroom_price\", \"km_driven\"],\n",
    "               index = [\"seller_type\"], aggfunc = (\"min\", \"max\", \"mean\", \"std\")).round(2)"
   ]
  },
  {
   "cell_type": "markdown",
   "id": "f9dcb3e1-4526-40b6-a909-a62db196de6f",
   "metadata": {},
   "source": [
    "We see above that the mean ex_showroom_price is very similar between Dealers and Individuals, while the minimum is quite a bit lower for Individuals. Also note that the standard deviation on Individual ex_showroom_price is more than twice as high as as it is for Dealers, therefore the spread of the data representing ex_showroom_price is much larger for Individuals. This trend regarding standard deviation also holds for km_driven and selling-price as well - the spread of the data is larger for Individuals."
   ]
  },
  {
   "cell_type": "code",
   "execution_count": 30,
   "id": "989a07c6-8db9-4a08-b6fa-7d22cf971b84",
   "metadata": {},
   "outputs": [
    {
     "data": {
      "text/html": [
       "<div>\n",
       "<style scoped>\n",
       "    .dataframe tbody tr th:only-of-type {\n",
       "        vertical-align: middle;\n",
       "    }\n",
       "\n",
       "    .dataframe tbody tr th {\n",
       "        vertical-align: top;\n",
       "    }\n",
       "\n",
       "    .dataframe thead tr th {\n",
       "        text-align: left;\n",
       "    }\n",
       "\n",
       "    .dataframe thead tr:last-of-type th {\n",
       "        text-align: right;\n",
       "    }\n",
       "</style>\n",
       "<table border=\"1\" class=\"dataframe\">\n",
       "  <thead>\n",
       "    <tr>\n",
       "      <th></th>\n",
       "      <th colspan=\"4\" halign=\"left\">ex_showroom_price</th>\n",
       "      <th colspan=\"4\" halign=\"left\">km_driven</th>\n",
       "      <th colspan=\"4\" halign=\"left\">selling_price</th>\n",
       "    </tr>\n",
       "    <tr>\n",
       "      <th></th>\n",
       "      <th>max</th>\n",
       "      <th>mean</th>\n",
       "      <th>min</th>\n",
       "      <th>std</th>\n",
       "      <th>max</th>\n",
       "      <th>mean</th>\n",
       "      <th>min</th>\n",
       "      <th>std</th>\n",
       "      <th>max</th>\n",
       "      <th>mean</th>\n",
       "      <th>min</th>\n",
       "      <th>std</th>\n",
       "    </tr>\n",
       "    <tr>\n",
       "      <th>owner</th>\n",
       "      <th></th>\n",
       "      <th></th>\n",
       "      <th></th>\n",
       "      <th></th>\n",
       "      <th></th>\n",
       "      <th></th>\n",
       "      <th></th>\n",
       "      <th></th>\n",
       "      <th></th>\n",
       "      <th></th>\n",
       "      <th></th>\n",
       "      <th></th>\n",
       "    </tr>\n",
       "  </thead>\n",
       "  <tbody>\n",
       "    <tr>\n",
       "      <th>1st owner</th>\n",
       "      <td>752020.0</td>\n",
       "      <td>84362.80</td>\n",
       "      <td>30490.0</td>\n",
       "      <td>54520.04</td>\n",
       "      <td>646000</td>\n",
       "      <td>32816.58</td>\n",
       "      <td>350</td>\n",
       "      <td>45870.37</td>\n",
       "      <td>760000</td>\n",
       "      <td>60022.81</td>\n",
       "      <td>5000</td>\n",
       "      <td>51542.57</td>\n",
       "    </tr>\n",
       "    <tr>\n",
       "      <th>2nd owner</th>\n",
       "      <td>1278000.0</td>\n",
       "      <td>112554.65</td>\n",
       "      <td>42859.0</td>\n",
       "      <td>168949.65</td>\n",
       "      <td>340000</td>\n",
       "      <td>39288.99</td>\n",
       "      <td>3500</td>\n",
       "      <td>35886.63</td>\n",
       "      <td>750000</td>\n",
       "      <td>55666.66</td>\n",
       "      <td>6000</td>\n",
       "      <td>81671.92</td>\n",
       "    </tr>\n",
       "    <tr>\n",
       "      <th>3rd owner</th>\n",
       "      <td>84751.0</td>\n",
       "      <td>64611.00</td>\n",
       "      <td>44493.0</td>\n",
       "      <td>20129.01</td>\n",
       "      <td>70000</td>\n",
       "      <td>33292.18</td>\n",
       "      <td>5000</td>\n",
       "      <td>20934.50</td>\n",
       "      <td>150000</td>\n",
       "      <td>55727.27</td>\n",
       "      <td>20000</td>\n",
       "      <td>38385.13</td>\n",
       "    </tr>\n",
       "    <tr>\n",
       "      <th>4th owner</th>\n",
       "      <td>534000.0</td>\n",
       "      <td>534000.00</td>\n",
       "      <td>534000.0</td>\n",
       "      <td>NaN</td>\n",
       "      <td>880000</td>\n",
       "      <td>311500.00</td>\n",
       "      <td>6500</td>\n",
       "      <td>492772.51</td>\n",
       "      <td>330000</td>\n",
       "      <td>118333.33</td>\n",
       "      <td>10000</td>\n",
       "      <td>183325.76</td>\n",
       "    </tr>\n",
       "  </tbody>\n",
       "</table>\n",
       "</div>"
      ],
      "text/plain": [
       "          ex_showroom_price                                 km_driven  \\\n",
       "                        max       mean       min        std       max   \n",
       "owner                                                                   \n",
       "1st owner          752020.0   84362.80   30490.0   54520.04    646000   \n",
       "2nd owner         1278000.0  112554.65   42859.0  168949.65    340000   \n",
       "3rd owner           84751.0   64611.00   44493.0   20129.01     70000   \n",
       "4th owner          534000.0  534000.00  534000.0        NaN    880000   \n",
       "\n",
       "                                      selling_price                    \\\n",
       "                mean   min        std           max       mean    min   \n",
       "owner                                                                   \n",
       "1st owner   32816.58   350   45870.37        760000   60022.81   5000   \n",
       "2nd owner   39288.99  3500   35886.63        750000   55666.66   6000   \n",
       "3rd owner   33292.18  5000   20934.50        150000   55727.27  20000   \n",
       "4th owner  311500.00  6500  492772.51        330000  118333.33  10000   \n",
       "\n",
       "                      \n",
       "                 std  \n",
       "owner                 \n",
       "1st owner   51542.57  \n",
       "2nd owner   81671.92  \n",
       "3rd owner   38385.13  \n",
       "4th owner  183325.76  "
      ]
     },
     "execution_count": 30,
     "metadata": {},
     "output_type": "execute_result"
    }
   ],
   "source": [
    "pd.pivot_table(bike_data, values = [\"selling_price\", \"ex_showroom_price\", \"km_driven\"],\n",
    "               index = [\"owner\"], aggfunc = (\"min\", \"max\", \"mean\", \"std\")).round(2)"
   ]
  },
  {
   "cell_type": "code",
   "execution_count": 31,
   "id": "309d9986-c2a0-419b-ad5a-7c9e59dbe141",
   "metadata": {},
   "outputs": [
    {
     "data": {
      "text/html": [
       "<div>\n",
       "<style scoped>\n",
       "    .dataframe tbody tr th:only-of-type {\n",
       "        vertical-align: middle;\n",
       "    }\n",
       "\n",
       "    .dataframe tbody tr th {\n",
       "        vertical-align: top;\n",
       "    }\n",
       "\n",
       "    .dataframe thead tr th {\n",
       "        text-align: left;\n",
       "    }\n",
       "\n",
       "    .dataframe thead tr:last-of-type th {\n",
       "        text-align: right;\n",
       "    }\n",
       "</style>\n",
       "<table border=\"1\" class=\"dataframe\">\n",
       "  <thead>\n",
       "    <tr>\n",
       "      <th></th>\n",
       "      <th colspan=\"4\" halign=\"left\">ex_showroom_price</th>\n",
       "      <th colspan=\"4\" halign=\"left\">km_driven</th>\n",
       "      <th colspan=\"4\" halign=\"left\">selling_price</th>\n",
       "    </tr>\n",
       "    <tr>\n",
       "      <th></th>\n",
       "      <th>max</th>\n",
       "      <th>mean</th>\n",
       "      <th>min</th>\n",
       "      <th>std</th>\n",
       "      <th>max</th>\n",
       "      <th>mean</th>\n",
       "      <th>min</th>\n",
       "      <th>std</th>\n",
       "      <th>max</th>\n",
       "      <th>mean</th>\n",
       "      <th>min</th>\n",
       "      <th>std</th>\n",
       "    </tr>\n",
       "    <tr>\n",
       "      <th>year_cat</th>\n",
       "      <th></th>\n",
       "      <th></th>\n",
       "      <th></th>\n",
       "      <th></th>\n",
       "      <th></th>\n",
       "      <th></th>\n",
       "      <th></th>\n",
       "      <th></th>\n",
       "      <th></th>\n",
       "      <th></th>\n",
       "      <th></th>\n",
       "      <th></th>\n",
       "    </tr>\n",
       "  </thead>\n",
       "  <tbody>\n",
       "    <tr>\n",
       "      <th>[1986, 1990)</th>\n",
       "      <td>NaN</td>\n",
       "      <td>NaN</td>\n",
       "      <td>NaN</td>\n",
       "      <td>NaN</td>\n",
       "      <td>21000</td>\n",
       "      <td>21000.00</td>\n",
       "      <td>21000</td>\n",
       "      <td>NaN</td>\n",
       "      <td>20000</td>\n",
       "      <td>20000.00</td>\n",
       "      <td>20000</td>\n",
       "      <td>NaN</td>\n",
       "    </tr>\n",
       "    <tr>\n",
       "      <th>[1990, 1994)</th>\n",
       "      <td>NaN</td>\n",
       "      <td>NaN</td>\n",
       "      <td>NaN</td>\n",
       "      <td>NaN</td>\n",
       "      <td>35000</td>\n",
       "      <td>22500.00</td>\n",
       "      <td>10000</td>\n",
       "      <td>17677.67</td>\n",
       "      <td>130000</td>\n",
       "      <td>68000.00</td>\n",
       "      <td>6000</td>\n",
       "      <td>87681.24</td>\n",
       "    </tr>\n",
       "    <tr>\n",
       "      <th>[1994, 1998)</th>\n",
       "      <td>NaN</td>\n",
       "      <td>NaN</td>\n",
       "      <td>NaN</td>\n",
       "      <td>NaN</td>\n",
       "      <td>646000</td>\n",
       "      <td>237118.00</td>\n",
       "      <td>20000</td>\n",
       "      <td>354329.05</td>\n",
       "      <td>150000</td>\n",
       "      <td>61666.67</td>\n",
       "      <td>10000</td>\n",
       "      <td>76865.68</td>\n",
       "    </tr>\n",
       "    <tr>\n",
       "      <th>[1998, 2002)</th>\n",
       "      <td>54852.0</td>\n",
       "      <td>54852.00</td>\n",
       "      <td>54852.0</td>\n",
       "      <td>NaN</td>\n",
       "      <td>65000</td>\n",
       "      <td>35291.67</td>\n",
       "      <td>4000</td>\n",
       "      <td>22949.01</td>\n",
       "      <td>70000</td>\n",
       "      <td>25416.67</td>\n",
       "      <td>5000</td>\n",
       "      <td>24257.93</td>\n",
       "    </tr>\n",
       "    <tr>\n",
       "      <th>[2002, 2006)</th>\n",
       "      <td>54852.0</td>\n",
       "      <td>54852.00</td>\n",
       "      <td>54852.0</td>\n",
       "      <td>0.00</td>\n",
       "      <td>127000</td>\n",
       "      <td>48774.61</td>\n",
       "      <td>11000</td>\n",
       "      <td>29961.34</td>\n",
       "      <td>59000</td>\n",
       "      <td>16660.87</td>\n",
       "      <td>7500</td>\n",
       "      <td>10793.30</td>\n",
       "    </tr>\n",
       "    <tr>\n",
       "      <th>[2006, 2010)</th>\n",
       "      <td>85011.0</td>\n",
       "      <td>63979.61</td>\n",
       "      <td>42859.0</td>\n",
       "      <td>15628.84</td>\n",
       "      <td>880000</td>\n",
       "      <td>64704.50</td>\n",
       "      <td>3500</td>\n",
       "      <td>99343.35</td>\n",
       "      <td>180000</td>\n",
       "      <td>26420.00</td>\n",
       "      <td>6000</td>\n",
       "      <td>22912.10</td>\n",
       "    </tr>\n",
       "    <tr>\n",
       "      <th>[2010, 2014)</th>\n",
       "      <td>1278000.0</td>\n",
       "      <td>83425.72</td>\n",
       "      <td>37675.0</td>\n",
       "      <td>111236.26</td>\n",
       "      <td>500000</td>\n",
       "      <td>45209.90</td>\n",
       "      <td>1900</td>\n",
       "      <td>50123.60</td>\n",
       "      <td>750000</td>\n",
       "      <td>39083.28</td>\n",
       "      <td>12000</td>\n",
       "      <td>50548.88</td>\n",
       "    </tr>\n",
       "    <tr>\n",
       "      <th>[2014, 2018)</th>\n",
       "      <td>599000.0</td>\n",
       "      <td>85457.47</td>\n",
       "      <td>30490.0</td>\n",
       "      <td>57805.32</td>\n",
       "      <td>450000</td>\n",
       "      <td>29615.22</td>\n",
       "      <td>1200</td>\n",
       "      <td>32691.25</td>\n",
       "      <td>425000</td>\n",
       "      <td>62245.90</td>\n",
       "      <td>15000</td>\n",
       "      <td>42670.33</td>\n",
       "    </tr>\n",
       "    <tr>\n",
       "      <th>[2018, 2022)</th>\n",
       "      <td>752020.0</td>\n",
       "      <td>106332.10</td>\n",
       "      <td>48000.0</td>\n",
       "      <td>78601.96</td>\n",
       "      <td>70000</td>\n",
       "      <td>11998.03</td>\n",
       "      <td>350</td>\n",
       "      <td>10715.46</td>\n",
       "      <td>760000</td>\n",
       "      <td>101485.49</td>\n",
       "      <td>30000</td>\n",
       "      <td>72415.92</td>\n",
       "    </tr>\n",
       "  </tbody>\n",
       "</table>\n",
       "</div>"
      ],
      "text/plain": [
       "             ex_showroom_price                                km_driven  \\\n",
       "                           max       mean      min        std       max   \n",
       "year_cat                                                                  \n",
       "[1986, 1990)               NaN        NaN      NaN        NaN     21000   \n",
       "[1990, 1994)               NaN        NaN      NaN        NaN     35000   \n",
       "[1994, 1998)               NaN        NaN      NaN        NaN    646000   \n",
       "[1998, 2002)           54852.0   54852.00  54852.0        NaN     65000   \n",
       "[2002, 2006)           54852.0   54852.00  54852.0       0.00    127000   \n",
       "[2006, 2010)           85011.0   63979.61  42859.0   15628.84    880000   \n",
       "[2010, 2014)         1278000.0   83425.72  37675.0  111236.26    500000   \n",
       "[2014, 2018)          599000.0   85457.47  30490.0   57805.32    450000   \n",
       "[2018, 2022)          752020.0  106332.10  48000.0   78601.96     70000   \n",
       "\n",
       "                                          selling_price                    \\\n",
       "                   mean    min        std           max       mean    min   \n",
       "year_cat                                                                    \n",
       "[1986, 1990)   21000.00  21000        NaN         20000   20000.00  20000   \n",
       "[1990, 1994)   22500.00  10000   17677.67        130000   68000.00   6000   \n",
       "[1994, 1998)  237118.00  20000  354329.05        150000   61666.67  10000   \n",
       "[1998, 2002)   35291.67   4000   22949.01         70000   25416.67   5000   \n",
       "[2002, 2006)   48774.61  11000   29961.34         59000   16660.87   7500   \n",
       "[2006, 2010)   64704.50   3500   99343.35        180000   26420.00   6000   \n",
       "[2010, 2014)   45209.90   1900   50123.60        750000   39083.28  12000   \n",
       "[2014, 2018)   29615.22   1200   32691.25        425000   62245.90  15000   \n",
       "[2018, 2022)   11998.03    350   10715.46        760000  101485.49  30000   \n",
       "\n",
       "                        \n",
       "                   std  \n",
       "year_cat                \n",
       "[1986, 1990)       NaN  \n",
       "[1990, 1994)  87681.24  \n",
       "[1994, 1998)  76865.68  \n",
       "[1998, 2002)  24257.93  \n",
       "[2002, 2006)  10793.30  \n",
       "[2006, 2010)  22912.10  \n",
       "[2010, 2014)  50548.88  \n",
       "[2014, 2018)  42670.33  \n",
       "[2018, 2022)  72415.92  "
      ]
     },
     "execution_count": 31,
     "metadata": {},
     "output_type": "execute_result"
    }
   ],
   "source": [
    "pd.pivot_table(bike_data, values = [\"selling_price\", \"ex_showroom_price\", \"km_driven\"],\n",
    "               index = [\"year_cat\"], aggfunc = (\"min\", \"max\", \"mean\", \"std\")).round(2)"
   ]
  },
  {
   "cell_type": "code",
   "execution_count": 33,
   "id": "fcb3b04d-0206-40ed-88b6-a8f23d379ecf",
   "metadata": {},
   "outputs": [
    {
     "data": {
      "text/plain": [
       "array([[<AxesSubplot:xlabel='selling_price', ylabel='selling_price'>,\n",
       "        <AxesSubplot:xlabel='year', ylabel='selling_price'>,\n",
       "        <AxesSubplot:xlabel='km_driven', ylabel='selling_price'>,\n",
       "        <AxesSubplot:xlabel='ex_showroom_price', ylabel='selling_price'>],\n",
       "       [<AxesSubplot:xlabel='selling_price', ylabel='year'>,\n",
       "        <AxesSubplot:xlabel='year', ylabel='year'>,\n",
       "        <AxesSubplot:xlabel='km_driven', ylabel='year'>,\n",
       "        <AxesSubplot:xlabel='ex_showroom_price', ylabel='year'>],\n",
       "       [<AxesSubplot:xlabel='selling_price', ylabel='km_driven'>,\n",
       "        <AxesSubplot:xlabel='year', ylabel='km_driven'>,\n",
       "        <AxesSubplot:xlabel='km_driven', ylabel='km_driven'>,\n",
       "        <AxesSubplot:xlabel='ex_showroom_price', ylabel='km_driven'>],\n",
       "       [<AxesSubplot:xlabel='selling_price', ylabel='ex_showroom_price'>,\n",
       "        <AxesSubplot:xlabel='year', ylabel='ex_showroom_price'>,\n",
       "        <AxesSubplot:xlabel='km_driven', ylabel='ex_showroom_price'>,\n",
       "        <AxesSubplot:xlabel='ex_showroom_price', ylabel='ex_showroom_price'>]],\n",
       "      dtype=object)"
      ]
     },
     "execution_count": 33,
     "metadata": {},
     "output_type": "execute_result"
    },
    {
     "data": {
      "image/png": "[encoded data removed]",
      "text/plain": [
       "<Figure size 432x288 with 16 Axes>"
      ]
     },
     "metadata": {
      "needs_background": "light"
     },
     "output_type": "display_data"
    }
   ],
   "source": [
    "pd.plotting.scatter_matrix(bike_data)"
   ]
  },
  {
   "cell_type": "code",
   "execution_count": 34,
   "id": "0afc7a5e-0cd4-43e2-adfb-146150eecad9",
   "metadata": {},
   "outputs": [
    {
     "data": {
      "text/html": [
       "<div>\n",
       "<style scoped>\n",
       "    .dataframe tbody tr th:only-of-type {\n",
       "        vertical-align: middle;\n",
       "    }\n",
       "\n",
       "    .dataframe tbody tr th {\n",
       "        vertical-align: top;\n",
       "    }\n",
       "\n",
       "    .dataframe thead th {\n",
       "        text-align: right;\n",
       "    }\n",
       "</style>\n",
       "<table border=\"1\" class=\"dataframe\">\n",
       "  <thead>\n",
       "    <tr style=\"text-align: right;\">\n",
       "      <th></th>\n",
       "      <th>selling_price</th>\n",
       "      <th>year</th>\n",
       "      <th>km_driven</th>\n",
       "      <th>ex_showroom_price</th>\n",
       "    </tr>\n",
       "  </thead>\n",
       "  <tbody>\n",
       "    <tr>\n",
       "      <th>count</th>\n",
       "      <td>1061.00</td>\n",
       "      <td>1061.00</td>\n",
       "      <td>1061.00</td>\n",
       "      <td>626.00</td>\n",
       "    </tr>\n",
       "    <tr>\n",
       "      <th>mean</th>\n",
       "      <td>59638.15</td>\n",
       "      <td>2013.87</td>\n",
       "      <td>34359.83</td>\n",
       "      <td>87958.71</td>\n",
       "    </tr>\n",
       "    <tr>\n",
       "      <th>std</th>\n",
       "      <td>56304.29</td>\n",
       "      <td>4.30</td>\n",
       "      <td>51623.15</td>\n",
       "      <td>77496.59</td>\n",
       "    </tr>\n",
       "    <tr>\n",
       "      <th>min</th>\n",
       "      <td>5000.00</td>\n",
       "      <td>1988.00</td>\n",
       "      <td>350.00</td>\n",
       "      <td>30490.00</td>\n",
       "    </tr>\n",
       "    <tr>\n",
       "      <th>25%</th>\n",
       "      <td>28000.00</td>\n",
       "      <td>2011.00</td>\n",
       "      <td>13500.00</td>\n",
       "      <td>54852.00</td>\n",
       "    </tr>\n",
       "    <tr>\n",
       "      <th>50%</th>\n",
       "      <td>45000.00</td>\n",
       "      <td>2015.00</td>\n",
       "      <td>25000.00</td>\n",
       "      <td>72752.50</td>\n",
       "    </tr>\n",
       "    <tr>\n",
       "      <th>75%</th>\n",
       "      <td>70000.00</td>\n",
       "      <td>2017.00</td>\n",
       "      <td>43000.00</td>\n",
       "      <td>87031.50</td>\n",
       "    </tr>\n",
       "    <tr>\n",
       "      <th>max</th>\n",
       "      <td>760000.00</td>\n",
       "      <td>2020.00</td>\n",
       "      <td>880000.00</td>\n",
       "      <td>1278000.00</td>\n",
       "    </tr>\n",
       "  </tbody>\n",
       "</table>\n",
       "</div>"
      ],
      "text/plain": [
       "       selling_price     year  km_driven  ex_showroom_price\n",
       "count        1061.00  1061.00    1061.00             626.00\n",
       "mean        59638.15  2013.87   34359.83           87958.71\n",
       "std         56304.29     4.30   51623.15           77496.59\n",
       "min          5000.00  1988.00     350.00           30490.00\n",
       "25%         28000.00  2011.00   13500.00           54852.00\n",
       "50%         45000.00  2015.00   25000.00           72752.50\n",
       "75%         70000.00  2017.00   43000.00           87031.50\n",
       "max        760000.00  2020.00  880000.00         1278000.00"
      ]
     },
     "execution_count": 34,
     "metadata": {},
     "output_type": "execute_result"
    }
   ],
   "source": [
    "#using the .describe() method to get a first look at the numeric variables\n",
    "#in the dataset. Although you would not necessarily perform math on the listed \n",
    "#years for each bike, seeing info like the average year is meaningful.\n",
    "bike_data.describe().round(2)"
   ]
  },
  {
   "cell_type": "code",
   "execution_count": 43,
   "id": "5ef4126e-1876-4f34-b85c-3143d3061f33",
   "metadata": {},
   "outputs": [
    {
     "data": {
      "text/plain": [
       "Index(['name', 'selling_price', 'year', 'seller_type', 'owner', 'km_driven',\n",
       "       'ex_showroom_price', 'year_cat'],\n",
       "      dtype='object')"
      ]
     },
     "execution_count": 43,
     "metadata": {},
     "output_type": "execute_result"
    }
   ],
   "source": [
    "bike_data.columns\n",
    "#note: our columns are name, selling_price, year,\n",
    "#seller_type, owner, km_driven, and ex_showroom_price"
   ]
  },
  {
   "cell_type": "code",
   "execution_count": 44,
   "id": "ee440115-6573-4e9e-a640-eada3a6c302a",
   "metadata": {},
   "outputs": [],
   "source": [
    "#bike_data_numeric = bike_data['selling_price', 'km_driven', 'ex_showrooom_price']\n",
    "\n",
    "#previously I tried to do what I was doing above exactly in the way he does it\n",
    "#in the video and got the same error\n",
    "\n",
    "#Fixed to grab desired columns from bike_data for all rows\n",
    "bike_data_numeric = bike_data.loc[:, ['selling_price', 'year', 'km_driven', 'ex_showroom_price']]\n"
   ]
  },
  {
   "cell_type": "code",
   "execution_count": 52,
   "id": "08f5033d-4d79-4d66-8fd5-2acbdfbc98cf",
   "metadata": {},
   "outputs": [
    {
     "data": {
      "text/plain": [
       "42000.0"
      ]
     },
     "execution_count": 52,
     "metadata": {},
     "output_type": "execute_result"
    }
   ],
   "source": [
    "#interquartile range for selling_price\n",
    "q1 = bike_data.selling_price.quantile(q = [.25])\n",
    "q3 = bike_data.selling_price.quantile(q = [.75])\n",
    "IQR_selling_price = q3[.75] - q1[.25]\n",
    "IQR_selling_price"
   ]
  },
  {
   "cell_type": "code",
   "execution_count": 55,
   "id": "dbb7a6a0-1a4e-4be0-a798-402c97b44990",
   "metadata": {},
   "outputs": [
    {
     "data": {
      "text/html": [
       "<div>\n",
       "<style scoped>\n",
       "    .dataframe tbody tr th:only-of-type {\n",
       "        vertical-align: middle;\n",
       "    }\n",
       "\n",
       "    .dataframe tbody tr th {\n",
       "        vertical-align: top;\n",
       "    }\n",
       "\n",
       "    .dataframe thead th {\n",
       "        text-align: right;\n",
       "    }\n",
       "</style>\n",
       "<table border=\"1\" class=\"dataframe\">\n",
       "  <thead>\n",
       "    <tr style=\"text-align: right;\">\n",
       "      <th></th>\n",
       "      <th>selling_price</th>\n",
       "      <th>year</th>\n",
       "      <th>km_driven</th>\n",
       "      <th>ex_showroom_price</th>\n",
       "    </tr>\n",
       "  </thead>\n",
       "  <tbody>\n",
       "    <tr>\n",
       "      <th>selling_price</th>\n",
       "      <td>1.000</td>\n",
       "      <td>0.402</td>\n",
       "      <td>-0.213</td>\n",
       "      <td>0.919</td>\n",
       "    </tr>\n",
       "    <tr>\n",
       "      <th>year</th>\n",
       "      <td>0.402</td>\n",
       "      <td>1.000</td>\n",
       "      <td>-0.289</td>\n",
       "      <td>0.126</td>\n",
       "    </tr>\n",
       "    <tr>\n",
       "      <th>km_driven</th>\n",
       "      <td>-0.213</td>\n",
       "      <td>-0.289</td>\n",
       "      <td>1.000</td>\n",
       "      <td>-0.122</td>\n",
       "    </tr>\n",
       "    <tr>\n",
       "      <th>ex_showroom_price</th>\n",
       "      <td>0.919</td>\n",
       "      <td>0.126</td>\n",
       "      <td>-0.122</td>\n",
       "      <td>1.000</td>\n",
       "    </tr>\n",
       "  </tbody>\n",
       "</table>\n",
       "</div>"
      ],
      "text/plain": [
       "                   selling_price   year  km_driven  ex_showroom_price\n",
       "selling_price              1.000  0.402     -0.213              0.919\n",
       "year                       0.402  1.000     -0.289              0.126\n",
       "km_driven                 -0.213 -0.289      1.000             -0.122\n",
       "ex_showroom_price          0.919  0.126     -0.122              1.000"
      ]
     },
     "execution_count": 55,
     "metadata": {},
     "output_type": "execute_result"
    }
   ],
   "source": [
    "#finding correlation between the numeric variables in the data set\n",
    "bike_data_numeric.corr().round(3)"
   ]
  },
  {
   "cell_type": "markdown",
   "id": "57d9f8e1-a70b-4fa9-ae53-e951b89eda2c",
   "metadata": {},
   "source": [
    "We see that selling_price and ex_showroom_price are highly correlated, in fact even more highly correlated than I anticipated or what it looked like from a cursory look at the data. They in fact boast a roughly 92% correlation with one another. Also, selling_price and km_driven are negatively correlated as one would expect (the more use a vehicle has the lower the price all else being equal). Insofar as it is meaningful the positive correlation shown between year and selling_price also makes sense because a larger number for year represents a newer vehicle. One might expect that until a bike is so old as to be considered a collector's item or an antique that an older bike would be worth less."
   ]
  },
  {
   "cell_type": "code",
   "execution_count": 56,
   "id": "be9830fe-75f1-4d3b-ac5a-0d416f698700",
   "metadata": {},
   "outputs": [
    {
     "data": {
      "text/html": [
       "<div>\n",
       "<style scoped>\n",
       "    .dataframe tbody tr th:only-of-type {\n",
       "        vertical-align: middle;\n",
       "    }\n",
       "\n",
       "    .dataframe tbody tr th {\n",
       "        vertical-align: top;\n",
       "    }\n",
       "\n",
       "    .dataframe thead th {\n",
       "        text-align: right;\n",
       "    }\n",
       "</style>\n",
       "<table border=\"1\" class=\"dataframe\">\n",
       "  <thead>\n",
       "    <tr style=\"text-align: right;\">\n",
       "      <th></th>\n",
       "      <th>selling_price</th>\n",
       "      <th>km_driven</th>\n",
       "      <th>ex_showroom_price</th>\n",
       "    </tr>\n",
       "    <tr>\n",
       "      <th>seller_type</th>\n",
       "      <th></th>\n",
       "      <th></th>\n",
       "      <th></th>\n",
       "    </tr>\n",
       "  </thead>\n",
       "  <tbody>\n",
       "    <tr>\n",
       "      <th>Dealer</th>\n",
       "      <td>46666.67</td>\n",
       "      <td>35258.83</td>\n",
       "      <td>88536.00</td>\n",
       "    </tr>\n",
       "    <tr>\n",
       "      <th>Individual</th>\n",
       "      <td>59711.92</td>\n",
       "      <td>34354.72</td>\n",
       "      <td>87955.93</td>\n",
       "    </tr>\n",
       "  </tbody>\n",
       "</table>\n",
       "</div>"
      ],
      "text/plain": [
       "             selling_price  km_driven  ex_showroom_price\n",
       "seller_type                                             \n",
       "Dealer            46666.67   35258.83           88536.00\n",
       "Individual        59711.92   34354.72           87955.93"
      ]
     },
     "execution_count": 56,
     "metadata": {},
     "output_type": "execute_result"
    }
   ],
   "source": [
    "bike_data.drop([\"year\"], axis = 1).groupby(\"seller_type\").mean().round(2)"
   ]
  },
  {
   "cell_type": "code",
   "execution_count": 57,
   "id": "b6cf9444-cd81-499c-b062-1f2c3ad6eedc",
   "metadata": {},
   "outputs": [
    {
     "data": {
      "text/html": [
       "<div>\n",
       "<style scoped>\n",
       "    .dataframe tbody tr th:only-of-type {\n",
       "        vertical-align: middle;\n",
       "    }\n",
       "\n",
       "    .dataframe tbody tr th {\n",
       "        vertical-align: top;\n",
       "    }\n",
       "\n",
       "    .dataframe thead th {\n",
       "        text-align: right;\n",
       "    }\n",
       "</style>\n",
       "<table border=\"1\" class=\"dataframe\">\n",
       "  <thead>\n",
       "    <tr style=\"text-align: right;\">\n",
       "      <th></th>\n",
       "      <th>selling_price</th>\n",
       "      <th>km_driven</th>\n",
       "      <th>ex_showroom_price</th>\n",
       "    </tr>\n",
       "    <tr>\n",
       "      <th>owner</th>\n",
       "      <th></th>\n",
       "      <th></th>\n",
       "      <th></th>\n",
       "    </tr>\n",
       "  </thead>\n",
       "  <tbody>\n",
       "    <tr>\n",
       "      <th>1st owner</th>\n",
       "      <td>60022.81</td>\n",
       "      <td>32816.58</td>\n",
       "      <td>84362.80</td>\n",
       "    </tr>\n",
       "    <tr>\n",
       "      <th>2nd owner</th>\n",
       "      <td>55666.66</td>\n",
       "      <td>39288.99</td>\n",
       "      <td>112554.65</td>\n",
       "    </tr>\n",
       "    <tr>\n",
       "      <th>3rd owner</th>\n",
       "      <td>55727.27</td>\n",
       "      <td>33292.18</td>\n",
       "      <td>64611.00</td>\n",
       "    </tr>\n",
       "    <tr>\n",
       "      <th>4th owner</th>\n",
       "      <td>118333.33</td>\n",
       "      <td>311500.00</td>\n",
       "      <td>534000.00</td>\n",
       "    </tr>\n",
       "  </tbody>\n",
       "</table>\n",
       "</div>"
      ],
      "text/plain": [
       "           selling_price  km_driven  ex_showroom_price\n",
       "owner                                                 \n",
       "1st owner       60022.81   32816.58           84362.80\n",
       "2nd owner       55666.66   39288.99          112554.65\n",
       "3rd owner       55727.27   33292.18           64611.00\n",
       "4th owner      118333.33  311500.00          534000.00"
      ]
     },
     "execution_count": 57,
     "metadata": {},
     "output_type": "execute_result"
    }
   ],
   "source": [
    "bike_data.drop([\"year\"], axis = 1).groupby(\"owner\").mean().round(2)"
   ]
  },
  {
   "cell_type": "markdown",
   "id": "9b83eccf-a2e0-428a-978b-7815346be306",
   "metadata": {},
   "source": [
    "We can see that dealers tend to sell their bikes for about 13,000 dollars less than individuals do as well as sell slightly older bikes that have been ridden a little farther. Very interestingly, in the second set of grouped means we see that by far the most lucrative sales occur by the 4th owner. Intuitively one might expect a bike that has been sold at least three times before might be worth less, but that is clearly not the case. This owner status, particularly in the case of \"4th owner\" could be a powerful predictive attribute."
   ]
  },
  {
   "cell_type": "code",
   "execution_count": 58,
   "id": "ac5510fc-a1f1-4352-ae5f-e43896541579",
   "metadata": {},
   "outputs": [
    {
     "data": {
      "text/html": [
       "<div>\n",
       "<style scoped>\n",
       "    .dataframe tbody tr th:only-of-type {\n",
       "        vertical-align: middle;\n",
       "    }\n",
       "\n",
       "    .dataframe tbody tr th {\n",
       "        vertical-align: top;\n",
       "    }\n",
       "\n",
       "    .dataframe thead th {\n",
       "        text-align: right;\n",
       "    }\n",
       "</style>\n",
       "<table border=\"1\" class=\"dataframe\">\n",
       "  <thead>\n",
       "    <tr style=\"text-align: right;\">\n",
       "      <th></th>\n",
       "      <th>selling_price</th>\n",
       "      <th>km_driven</th>\n",
       "      <th>ex_showroom_price</th>\n",
       "    </tr>\n",
       "    <tr>\n",
       "      <th>year_cat</th>\n",
       "      <th></th>\n",
       "      <th></th>\n",
       "      <th></th>\n",
       "    </tr>\n",
       "  </thead>\n",
       "  <tbody>\n",
       "    <tr>\n",
       "      <th>[1986, 1990)</th>\n",
       "      <td>20000.00</td>\n",
       "      <td>21000.00</td>\n",
       "      <td>NaN</td>\n",
       "    </tr>\n",
       "    <tr>\n",
       "      <th>[1990, 1994)</th>\n",
       "      <td>68000.00</td>\n",
       "      <td>22500.00</td>\n",
       "      <td>NaN</td>\n",
       "    </tr>\n",
       "    <tr>\n",
       "      <th>[1994, 1998)</th>\n",
       "      <td>61666.67</td>\n",
       "      <td>237118.00</td>\n",
       "      <td>NaN</td>\n",
       "    </tr>\n",
       "    <tr>\n",
       "      <th>[1998, 2002)</th>\n",
       "      <td>25416.67</td>\n",
       "      <td>35291.67</td>\n",
       "      <td>54852.00</td>\n",
       "    </tr>\n",
       "    <tr>\n",
       "      <th>[2002, 2006)</th>\n",
       "      <td>16660.87</td>\n",
       "      <td>48774.61</td>\n",
       "      <td>54852.00</td>\n",
       "    </tr>\n",
       "    <tr>\n",
       "      <th>[2006, 2010)</th>\n",
       "      <td>26420.00</td>\n",
       "      <td>64704.50</td>\n",
       "      <td>63979.61</td>\n",
       "    </tr>\n",
       "    <tr>\n",
       "      <th>[2010, 2014)</th>\n",
       "      <td>39083.28</td>\n",
       "      <td>45209.90</td>\n",
       "      <td>83425.72</td>\n",
       "    </tr>\n",
       "    <tr>\n",
       "      <th>[2014, 2018)</th>\n",
       "      <td>62245.90</td>\n",
       "      <td>29615.22</td>\n",
       "      <td>85457.47</td>\n",
       "    </tr>\n",
       "    <tr>\n",
       "      <th>[2018, 2022)</th>\n",
       "      <td>101485.49</td>\n",
       "      <td>11998.03</td>\n",
       "      <td>106332.10</td>\n",
       "    </tr>\n",
       "  </tbody>\n",
       "</table>\n",
       "</div>"
      ],
      "text/plain": [
       "              selling_price  km_driven  ex_showroom_price\n",
       "year_cat                                                 \n",
       "[1986, 1990)       20000.00   21000.00                NaN\n",
       "[1990, 1994)       68000.00   22500.00                NaN\n",
       "[1994, 1998)       61666.67  237118.00                NaN\n",
       "[1998, 2002)       25416.67   35291.67           54852.00\n",
       "[2002, 2006)       16660.87   48774.61           54852.00\n",
       "[2006, 2010)       26420.00   64704.50           63979.61\n",
       "[2010, 2014)       39083.28   45209.90           83425.72\n",
       "[2014, 2018)       62245.90   29615.22           85457.47\n",
       "[2018, 2022)      101485.49   11998.03          106332.10"
      ]
     },
     "execution_count": 58,
     "metadata": {},
     "output_type": "execute_result"
    }
   ],
   "source": [
    "bike_data.drop([\"year\"], axis = 1).groupby(\"year_cat\").mean().round(2)"
   ]
  },
  {
   "cell_type": "markdown",
   "id": "cfd8b8b4-cee9-414d-ae9c-e603edb8cafa",
   "metadata": {},
   "source": [
    "#### Prediction of Selling Price"
   ]
  },
  {
   "cell_type": "markdown",
   "id": "4aec814b-2d6a-42aa-bcb9-3ea61f52bb4e",
   "metadata": {},
   "source": [
    "Using our findings from the our exploratory data analysis, we set forth to create algorithms for predicting the selling_price of a motorcycle. We quantified the quality of our prediction through a loss function. Our primary metric was Root Mean Square Error or RMSE. We took two different approaches to optimizing our predictions grid search and gradient descent."
   ]
  },
  {
   "cell_type": "markdown",
   "id": "cd707195-3508-4ce2-af1e-e8bc5c6a522d",
   "metadata": {
    "tags": []
   },
   "source": [
    "##### Grid Search Algorithm"
   ]
  },
  {
   "cell_type": "markdown",
   "id": "827a26c5-372b-451e-b2ec-213749cf1a00",
   "metadata": {},
   "source": [
    "In this section we implemented a grid search to find the optimal constant to minimize RMSE. To do this, we created a grid of potential constant or *c* values as and calculated the resulting RMSE. The constant value that resulted in the lowest RMSE was selected as our optimal value and used for prediction. RMSE was reduced using both a one-dimensional grid of constant values and a two-dimensional grid of intercept (b0) and slope values (b0).\n",
    "\n",
    "After selecting the grid values, both the one-dimensional grid and two-dimensional grid were processed by generating an RMSE value for the candidate constant or slope and intercept terms. This RMSE was then compared with conditional logic to select the optimal candidate *c* or *b0* and *b1* values."
   ]
  },
  {
   "cell_type": "markdown",
   "id": "496218b8-2897-438a-a933-bffdab476bbc",
   "metadata": {},
   "source": [
    "**For Predictions based on just a y, response variable, and a constant, c:**\n",
    "The candidate *c* values were generated from the IQR of the supplied response variable. Values were incremented by 100 from the 25th quantile to the 75th quantile. We believed IQR was an acceptable basis for generating *c* values as it represents the central 50% of the data. The increments of 100 allow for reasonably small changes between values in `selling_price` while maintaining a finite amount of potential constants. As our algorithm can also be used to predict `km_driven`, we felt that increments of 100 applied well to both scenarios."
   ]
  },
  {
   "cell_type": "code",
   "execution_count": 1,
   "id": "7f5c0e52-5405-4bcc-8840-c4d2fcc6dfeb",
   "metadata": {},
   "outputs": [],
   "source": [
    "#Generates constant values for a given response variable\n",
    "def get_c_vals(y): \n",
    "    \"\"\"\n",
    "    Generate a series of c values for the response variable y\n",
    "    y is aassumed to be a numpy array (1D) or Pandas series\n",
    "    Data is assumed to have no missing values\n",
    "    \"\"\"\n",
    "    #Calculating 25th and 75th quantiles\n",
    "    q1 = bike_data.selling_price.quantile(q = [.25])\n",
    "    q3 = bike_data.selling_price.quantile(q = [.75])\n",
    "    #Creating a series of values from the response IQR in increments of 100\n",
    "    c = pd.Series(range(int(q1[0.25]),int(q3[0.75]+1),100))\n",
    "    #Returning constant grid\n",
    "    return c\n",
    "\n",
    "#Calculates RMSE for a response variable and supplied constant\n",
    "def get_rmse_y(y, c):\n",
    "    \"\"\"\n",
    "    Computes RMSE\n",
    "    y is assumed to be a numpy array (1D) or Pandas series\n",
    "    c is assumed to be an integer or float\n",
    "    Data is assumed to have no missing values\n",
    "    \"\"\"\n",
    "    sums = 0\n",
    "    #Loops through all values of why to calculate square error loss\n",
    "    for i in range(0, len(y)):\n",
    "        sums += (y[i] - c)**2\n",
    "    #Returns RMSE\n",
    "    return math.sqrt((1/len(y))*sums)\n",
    "\n",
    "\n",
    "#Creating variables for conditional logic\n",
    "best_c = small_e = float(1000000)\n",
    "\n",
    "#Searches grid of all candidate values calculate RMSE\n",
    "#Returns constant value with lowest RMSE as prediction\n",
    "def grid_search_y(y):\n",
    "    \"\"\"\n",
    "    Calculates best prediction value with lowest RMSE\n",
    "    y is assumed to be a numpy arrays (1D) or Pandas series\n",
    "    Data is assumed to have no missing values\n",
    "    \"\"\"\n",
    "    c = get_c_vals(y)\n",
    "    global small_e\n",
    "    global best_c\n",
    "    for i in range(0, len(c)):\n",
    "        e = get_rmse_y(y, c[i])\n",
    "        if e < small_e:\n",
    "            small_e = e\n",
    "            best_c = c[i]\n",
    "        else:\n",
    "            continue\n",
    "    return best_c"
   ]
  },
  {
   "cell_type": "code",
   "execution_count": 26,
   "id": "54f5eabf-4d0d-4347-92f1-2c679f51fe73",
   "metadata": {},
   "outputs": [
    {
     "name": "stdout",
     "output_type": "stream",
     "text": [
      "The optimal prediction for selling price is 34400 with an RMSE of 54987.079 . The mean value for this variable is $ 59638.15\n"
     ]
    }
   ],
   "source": [
    "#Calls the grid search algorithm for response variable selling price\n",
    "optimal_pred_sp = grid_search_y(bike_data.selling_price)\n",
    "print(\"The optimal prediction for selling price is\", optimal_pred_sp,\n",
    "      \"with an RMSE of\", round(small_e,3),\n",
    "      \". The mean value for this variable is $\",\n",
    "      round(bike_data.selling_price.mean(), 2))"
   ]
  },
  {
   "cell_type": "code",
   "execution_count": 28,
   "id": "02efe065-ba83-4d22-be73-125cf927b64f",
   "metadata": {},
   "outputs": [
    {
     "name": "stdout",
     "output_type": "stream",
     "text": [
      "The optimal prediction for kilometers driven is 34400 with an RMSE of  51598.835 . The mean value for this variable is 34359.83 km driven.\n"
     ]
    }
   ],
   "source": [
    "optimal_pred_km = grid_search_y(bike_data.km_driven)\n",
    "print(\"The optimal prediction for kilometers driven is\", optimal_pred_km,\n",
    "      \"with an RMSE of \", round(small_e,3),\n",
    "      \". The mean value for this variable is\",\n",
    "      round(bike_data.km_driven.mean(), 2), \"km driven.\")"
   ]
  },
  {
   "cell_type": "markdown",
   "id": "b57bb1e5-ab4b-44dd-85d7-2bce8485a22a",
   "metadata": {},
   "source": [
    "As you can see from the printed statements above the grid search for just a response variable, y, produces a prediction and RMSE."
   ]
  },
  {
   "cell_type": "markdown",
   "id": "501c289a-6a1d-4d54-a01a-d042109f9a33",
   "metadata": {},
   "source": [
    "**For predictions based on y, a response variable, and x, a predictor variable:**\n",
    "Candidate values for this method are intercept, *b0*, and slope, *b1* values. This suggested to us that using simple linear regression estimates for these values could be beneficial when building our two-dimensional grid. As with the *c* values, we selected to represent our candidate values by using something similar to the IQR for each metric.\n",
    "\n",
    "Our algorithm takes in response and predictor variables to obtain mean and standard error values for *b0* and *b1* estimates. This allows for the grid ranges to capture the approximate IQR. As `selling_price` is our response variable of interest we modified these ranges to fit incompass a wide range of values. For illustrative purposes, we isolated the code for computing quantiles for both *b0* and *b1*. We applied a simplistic mean +/- 2 * sd approach to find these quantiles."
   ]
  },
  {
   "cell_type": "code",
   "execution_count": 9,
   "id": "73fd2f79-ad29-443b-a0df-129eb90914a1",
   "metadata": {},
   "outputs": [
    {
     "name": "stdout",
     "output_type": "stream",
     "text": [
      "For linear regression of selling_price as a response and km_driven as the predictor, the quantiles for the intercept are 63557.9403 (25th) and 71678.204 (75th). The quantiles for the slope are -0.2977 (25th) and  -0.1668 (75th).\n"
     ]
    }
   ],
   "source": [
    "#Creates a linear regression model for finding b0 and b1 values\n",
    "slr = stats.linregress(bike_data.km_driven, bike_data.selling_price)\n",
    "b0_q1 = slr.intercept - 2*slr.intercept_stderr\n",
    "b0_q3 = slr.intercept + 2*slr.intercept_stderr\n",
    "b1_q1 = slr.slope - 2*slr.stderr\n",
    "b1_q3 = slr.slope + 2*slr.stderr\n",
    "print(\"For linear regression of selling_price as a response and km_driven\",\n",
    "      \"as the predictor, the quantiles for the intercept are\", round(b0_q1, 4),\n",
    "      \"(25th) and\", round(b0_q3, 4), \"(75th). The quantiles for the slope are\",\n",
    "      round(b1_q1, 4), \"(25th) and \", round(b1_q3, 4), \"(75th).\") "
   ]
  },
  {
   "cell_type": "markdown",
   "id": "70c2831d-ef04-42ab-adef-69dd6962e6d7",
   "metadata": {},
   "source": [
    "Given the results above, we selected to approximate the IQR for intercept by subtracting 50 from the lower bound and adding 100 to the upper bound while incrementing in steps of 50. This allowed for us to capture both the 25th and 75th quartiles in our grid. For the slope values, we had coded a range of -0.3 to -0.1 in increments of 0.0001. This allowed for us to include both tails of the range with small step changes."
   ]
  },
  {
   "cell_type": "code",
   "execution_count": 10,
   "id": "57d4fa7c-78af-46ab-856e-bd6dd8ead772",
   "metadata": {},
   "outputs": [],
   "source": [
    "#Function to generate b0 and b1 values\n",
    "def get_beta_vals(y, x): \n",
    "    \"\"\"\n",
    "    Creates a data frame of beta values\n",
    "    y and x are assumed to be numpy arrays (1D) or Pandas series\n",
    "    Data is assumed to have no missing values\n",
    "    \"\"\"\n",
    "    #Use linear regression to estimate b0 and b1 for grid values\n",
    "    slr = stats.linregress(x, y)\n",
    "    b0_q1 = slr.intercept - 2*slr.intercept_stderr\n",
    "    b0_q3 = slr.intercept + 2*slr.intercept_stderr\n",
    "    b1_q1 = slr.slope - 2*slr.stderr\n",
    "    b1_q3 = slr.slope + 2*slr.stderr\n",
    "    b0 = pd.Series(np.arange((int(b0_q1) - 50), (int(b0_q3)+100), 50))\n",
    "    b1 = pd.Series(np.arange(-.3, -.1, 0.001))\n",
    "    #Creates a dataframe from the b0 and b1 series\n",
    "    betas = pd.DataFrame(zip(b0, b1), columns = [\"b0\", \"b1\"])\n",
    "    #Returns two dimensional dataframe\n",
    "    return betas\n",
    "\n",
    "#Takes in a response and predictor variable as well as a grid\n",
    "#for b0 and a grid for b1\n",
    "def rmse_yx(y, x, b0, b1):\n",
    "    \"\"\"\n",
    "    Computes RMSE\n",
    "    y, x, b0, and b1 are assumed to be numpy arrays (1D) or Pandas series\n",
    "    Data is assumed to have no missing values\n",
    "    \"\"\"\n",
    "    #Combines squared error loss with RMSE\n",
    "    sums = 0\n",
    "    for i in range(0,len(y)):\n",
    "        sums += (y[i] - (b0 + b1 * x[i]))**2\n",
    "    rmse = math.sqrt(1/(len(y)) * sums)\n",
    "    return rmse\n",
    "            \n",
    "#RMSE place holder object for conditional logic\n",
    "small_e = float(1000000)\n",
    "\n",
    "#Primary alogorithm to implement grid search\n",
    "#Loop to apply the RMSE all values of b0 and b1\n",
    "def grid_search_yx(y, x):\n",
    "    \"\"\"\n",
    "    Generates RMSE value and selects the best b0 and b1 values\n",
    "    y, x, b0, and b1 are assumed to be numpy arrays (1D) or Pandas series\n",
    "    Data is assumed to have no missing values\n",
    "    \"\"\"\n",
    "    betas = get_beta_vals(y, x)\n",
    "    b0 = betas[\"b0\"]\n",
    "    b1 = betas[\"b1\"]\n",
    "    #RMSE\n",
    "    global small_e\n",
    "    #Best b0\n",
    "    global best_b0\n",
    "    #Best b1\n",
    "    global best_b1\n",
    "    for i in range(0,len(b0)):\n",
    "        for j in range(0,len(b1)):\n",
    "            e = rmse_yx(y, x, float(b0[i]), (b1[j]))\n",
    "            if e < small_e:\n",
    "                small_e = e\n",
    "                best_b0 = b0[i]\n",
    "                best_b1 = b1[j]\n",
    "            else:\n",
    "                continue\n",
    "\n",
    "#Helper function to generate yhat from optimal values of b0, b1, and\n",
    "#the predictor variable\n",
    "def get_prediction_xy(x):\n",
    "    return best_b0 + best_b1*x"
   ]
  },
  {
   "cell_type": "markdown",
   "id": "3ebd6bb4-1ce7-4ea6-88af-b54ddcc974d9",
   "metadata": {},
   "source": [
    "The step below calls the grid search function to select optimal *b0* and *b1* values for the given response and predictor variables."
   ]
  },
  {
   "cell_type": "code",
   "execution_count": 11,
   "id": "6dc9ebed-a8a0-4700-af6e-9786aeb36c46",
   "metadata": {},
   "outputs": [],
   "source": [
    "#Calls the grid search to calculate optimal b0 and b1 values\n",
    "grid_search_yx(bike_data.selling_price, bike_data.km_driven)"
   ]
  },
  {
   "cell_type": "code",
   "execution_count": 12,
   "id": "018591b4-548e-462c-ad1e-c6632232e3de",
   "metadata": {},
   "outputs": [
    {
     "name": "stdout",
     "output_type": "stream",
     "text": [
      "The optimal b0 value for predicting selling price from km driven is 67607 and the optimal b1 value is -0.232 .\n"
     ]
    }
   ],
   "source": [
    "print(\"The optimal b0 value for predicting selling price from km driven is\",\n",
    "     round(best_b0, 3), \"and the optimal b1 value is\", round(best_b1, 4), \".\")"
   ]
  },
  {
   "cell_type": "markdown",
   "id": "c2d0e1e4-ab5a-4a3d-aff4-c270e6789298",
   "metadata": {},
   "source": [
    "Using these optimal combinates of *b0* and *b1* we have calculated predictions for `selling_price` at 10000, 25000, and 35000 `km_driven`."
   ]
  },
  {
   "cell_type": "code",
   "execution_count": 13,
   "id": "016de9af-d9bf-42fa-9273-801a64b58f1d",
   "metadata": {},
   "outputs": [],
   "source": [
    "#Calls the prediction function for the desired x values\n",
    "a = get_prediction_xy(10000)\n",
    "b = get_prediction_xy(25000)\n",
    "c = get_prediction_xy(35000)"
   ]
  },
  {
   "cell_type": "code",
   "execution_count": 14,
   "id": "e3ff4a29-2d52-4f50-89a2-08fc45dfc982",
   "metadata": {},
   "outputs": [
    {
     "name": "stdout",
     "output_type": "stream",
     "text": [
      "Grid search predictions: The predicted selling price for a motorcycle with 10,000 km driven is 65287.0 . The predicted selling price for a motorcycle with 25,000 km driven is, 61807.0 . The predicted selling price for a motorcycle with 35,000 km driven is 59487.0 .\n"
     ]
    }
   ],
   "source": [
    "print(\"Grid search predictions: The predicted selling price for a motorcycle with 10,000 km driven is\",\n",
    "      round(a,2), \". The predicted selling price for a motorcycle with 25,000 km driven is,\",\n",
    "      round(b,2), \". The predicted selling price for a motorcycle with 35,000 km driven is\",\n",
    "      round(c,2), \".\")"
   ]
  },
  {
   "cell_type": "markdown",
   "id": "5f03d3b1-1a22-412b-9d2d-dbe6102e6376",
   "metadata": {},
   "source": [
    "##### Gradient Descent Algorithm"
   ]
  },
  {
   "cell_type": "markdown",
   "id": "f7e0a4ba-12f2-4c92-b129-c4c92d86ebab",
   "metadata": {},
   "source": [
    "The general process of gradient descent is to apply calculus principals to approximate the average rate of change and select the values which minimize this rate. We start with initial guesses for our slope and intercept values and then update guesses based on a step size. This updated slope and intercept values are compared to the initial guesses for these values. If the distance between the original values and the new values is within a tolerance level, the new values are considered optimal. However, if if the new values are outside this range, the search continues.\n",
    "\n",
    "As with the previous algorithms for grid search, we separated gradient descent into two algorithms. The first is gradient descent just using a response variable or y, (`selling_price`) and the second is using both a response variable and predictor variable or x, (`km_driven`)."
   ]
  },
  {
   "cell_type": "markdown",
   "id": "b8e336ad-8b6a-4140-b4e0-b41031c3ba90",
   "metadata": {},
   "source": [
    "**Gradient descent algorithm for just y:** Similar to the grid search for y alone, the response variable will be predicted using a constant *c* value. The starting guess for *c* was set at the mean of the response variable. The response variable is `selling_price` and it's mean is $59638.15. A tolerance level of 0.001 was selected to assess the optimal nature of generated *c* values."
   ]
  },
  {
   "cell_type": "code",
   "execution_count": 15,
   "id": "80453a2f-c9bf-41b3-af0a-5b2a02be59dd",
   "metadata": {},
   "outputs": [],
   "source": [
    "#Creates a squared error loss\n",
    "def get_sq_e_loss(y, c):\n",
    "    \"\"\"\n",
    "    Generates squared error loss\n",
    "    y, c are assumed to be integers or floats\n",
    "    \"\"\"\n",
    "    return (y - c)**2\n",
    "\n",
    "#Creates an RMSE value\n",
    "def get_rmse(y, c):\n",
    "    \"\"\"\n",
    "    Generates RMSE\n",
    "    y is assumed to be a numpy array (1D) or Pandas series\n",
    "    c is assumed to be an integers or float\n",
    "    Data is assumed to have no missing values\n",
    "    \"\"\"\n",
    "    sums = 0\n",
    "    #Loops through all values of y and sums squared error loss\n",
    "    for i in range(0, len(y)):\n",
    "        sums += get_sq_e_loss(y[i], c)\n",
    "    #Returns RMSE\n",
    "    return math.sqrt((1/len(y))*sums)\n",
    "\n",
    "#Creates a difference quotient\n",
    "def get_dif_q(c, delta, y):\n",
    "    \"\"\"\n",
    "    Produces a difference qutient\n",
    "    y and c are assumed to be numpy arrays (1D) or Pandas series\n",
    "    delta is assumed to be an integers or float\n",
    "    Data is assumed to have no missing values\n",
    "    \"\"\"\n",
    "    #Numerator\n",
    "    a = get_rmse(y, (c+delta))\n",
    "    #Denominator\n",
    "    b = get_rmse(y, c)\n",
    "    return (a - b)/delta\n",
    "\n",
    "#Finds optimal value of c for given response variable\n",
    "def get_grad_desc(y):\n",
    "    \"\"\"\n",
    "    Produces a gradient descent for y\n",
    "    y is assumed to be a numpy array (1D) or Pandas series\n",
    "    Data is assumed to have no missing values\n",
    "    \"\"\"\n",
    "\n",
    "    #Tolerance level\n",
    "    num_tol = 0.001\n",
    "    #Sets start current c value\n",
    "    cur_c = y.mean()\n",
    "    #Initiates attempt count for shut off element\n",
    "    attempt = 1\n",
    "    \n",
    "    #Loop which performs grad desc for 1000 iterations\n",
    "    while attempt < 1001:\n",
    "        #Calls differenc quotion function\n",
    "        diff_quotient = get_dif_q(cur_c, 0.01, y)\n",
    "        #Step 6.\n",
    "        new_c = cur_c - diff_quotient * -0.01\n",
    "        #Tests new c against current c\n",
    "        if abs(new_c - cur_c) < num_tol:\n",
    "            cur_c = new_c\n",
    "            attempt = 1001\n",
    "        #Continues loop otherwise\n",
    "        else:\n",
    "            cur_c = new_c\n",
    "            attempt += 1\n",
    "    #Stores optimal as a prediction\n",
    "    prediction = cur_c\n",
    "    #Returns the optimal value\n",
    "    return prediction"
   ]
  },
  {
   "cell_type": "markdown",
   "id": "2cf8a116-39ea-49f8-a4ff-e59b54a09091",
   "metadata": {},
   "source": [
    "Below we have two calls to the gradient descent for just y alone. The first call is to predict `selling_price` and the second predicts `km_driven`."
   ]
  },
  {
   "cell_type": "code",
   "execution_count": 18,
   "id": "029141a2-da63-4132-926d-2fa32749cf79",
   "metadata": {},
   "outputs": [
    {
     "name": "stdout",
     "output_type": "stream",
     "text": [
      "For gradient descent, the prediction for selling price is 59638.15  and the prediction for km driven is 34359.83 .\n"
     ]
    }
   ],
   "source": [
    "#Reports prediction for selling_price using optimal c value\n",
    "pred_sp = get_grad_desc(bike_data.selling_price)\n",
    "#Demonstrates generalization of algorithm\n",
    "pred_km = get_grad_desc(bike_data.km_driven)  \n",
    "print(\"For gradient descent, the prediction for selling price is\",\n",
    "      round(pred_sp, 2), \" and the prediction for km driven is\",\n",
    "      round(pred_km,2), \".\")"
   ]
  },
  {
   "cell_type": "markdown",
   "id": "c0dbe513-d52c-4294-8d75-e917df4f898e",
   "metadata": {},
   "source": [
    "**Gradient descent algorithm for y and x:** This algorithm uses a response variable and a predictor variable to find optimal estimates for *b0* and *b1*. The process is similar to the gradient descent algorithm for a single variable in that it optimizes for values based on a threshold. The threshold for this algorithm is euclidean distance between the new vector and the previous vector. After some trial and error, we selected a starting estimate of *b0* to be the mean of `selling_price` and *b1* to be 0.0001. This is based on the previously described linear regression model values. Given the magnitude of these starting estimates, we selected a step size for *b0* to be 10 and *b1* to be 0.000001. The delta values for *b0* and *b1* were selected to be 0.001 and 0.0001, respectively. The choice of step size and delta value were chosen to produce final results that closely mirrored our previous expectations."
   ]
  },
  {
   "cell_type": "code",
   "execution_count": 20,
   "id": "11c8835f-1106-4579-af03-de65f80cee19",
   "metadata": {},
   "outputs": [],
   "source": [
    "#Squared error loss function\n",
    "def get_sq_e_loss_yx(y, x, b0, b1):\n",
    "    \"\"\"\n",
    "    Generates squared error loss\n",
    "    y, x, b0, b1 are assumed to be integers or floats\n",
    "    \"\"\"\n",
    "    return (y - b0 - b1*x)**2\n",
    "\n",
    "#RMSE function\n",
    "def get_rmse_yx(y, x, b0, b1):\n",
    "    \"\"\"\n",
    "    Generates RMSE\n",
    "    b0, b1 are assumed to be integers or floats\n",
    "    y, x assumed to be a numpy arrays (1D) or Pandas series\n",
    "    Data is assumed to have no missing values\n",
    "    \"\"\"\n",
    "    sums = 0\n",
    "    #Loops over all pairs of y and x to generate RMSE\n",
    "    #for the given b0 and b1 values\n",
    "    for i in range(0, len(y)):\n",
    "        sums += get_sq_e_loss_yx(y[i], x[i], b0, b1)\n",
    "    return math.sqrt((1/len(y))*sums)\n",
    "\n",
    "#Difference quotient function for b0\n",
    "def get_dif_q_b0(y, x, b0, delta0, b1):\n",
    "    \"\"\"\n",
    "    Generates difference quotion for b0\n",
    "    b0, delta0, b1 are assumed to be integers or floats\n",
    "    y, x assumed to be a numpy arrays (1D) or Pandas series\n",
    "    Data is assumed to have no missing values\n",
    "    \"\"\"\n",
    "    #Numerator\n",
    "    a = get_rmse_yx(y, x, (b0+delta0), b1)\n",
    "    #Denominator\n",
    "    b = get_rmse_yx(y, x, b0, b1)\n",
    "    return (a - b)/delta0\n",
    "\n",
    "#Difference quotient function for b1\n",
    "def get_dif_q_b1(y, x, b0, delta1, b1):\n",
    "    \"\"\"\n",
    "    Generates difference quotion for b1\n",
    "    b0, delta1, b1 are assumed to be integers or floats\n",
    "    y, x assumed to be a numpy arrays (1D) or Pandas series\n",
    "    Data is assumed to have no missing values\n",
    "    \"\"\"\n",
    "    #Numerator\n",
    "    a = get_rmse_yx(y, x, b0, (b1+delta1))\n",
    "    #Denominator\n",
    "    b = get_rmse_yx(y, x, b0, b1)\n",
    "    return (a - b)/delta1\n",
    "\n",
    "#Gradient descent function for y and x  \n",
    "def get_grad_desc_yx(y, x):\n",
    "    \"\"\"\n",
    "    Generates gradient descent\n",
    "    y, x assumed to be a numpy arrays (1D) or Pandas series\n",
    "    Data is assumed to have no missing values\n",
    "    \"\"\"\n",
    "    \n",
    "    #Picking starting values b0\n",
    "    global est_b0 \n",
    "    est_b0 = y.mean()\n",
    "    cur_b0 = est_b0 \n",
    "    \n",
    "    #Step 6. Picking starting values for b1\n",
    "    global est_b1\n",
    "    est_b1 = 0.0001\n",
    "    cur_b1 = est_b1\n",
    "    \n",
    "    #Setting step size for b0\n",
    "    step_size_b0 = 10\n",
    "    #Setting step size for b1\n",
    "    step_size_b1 = 0.000001\n",
    "    \n",
    "    #Euclidean distance tolerance level\n",
    "    dist_tol = 0.1\n",
    "    \n",
    "    #Attempt counter for shut off of loop\n",
    "    attempt = 1\n",
    "    \n",
    "    #Loops to find optimal b0 and b1 for 1000 iterations\n",
    "    while attempt < 1001:\n",
    "        #Calls difference quotient function for b0 \n",
    "        diff_quotient_b0 = get_dif_q_b0(y, x, cur_b0, 0.001, cur_b1)\n",
    "        #Creates new b0\n",
    "        new_b0 = cur_b0 - diff_quotient_b0 * (-step_size_b0)\n",
    "        \n",
    "        \n",
    "        #Calls difference quotient function for b1\n",
    "        diff_quotient_b1 = get_dif_q_b1(y, x, cur_b0, 0.0001, cur_b1)\n",
    "        #Creates new b1\n",
    "        new_b1 = cur_b1 - diff_quotient_b1 * (-step_size_b1)\n",
    "        \n",
    "        #Calculating euclidean distance\n",
    "        point1 = np.array((cur_b0, cur_b1))\n",
    "        point2 = np.array((new_b0, new_b1))\n",
    "        dist = np.linalg.norm(point1 - point2)\n",
    "        \n",
    "        #Checking to see if distance is within tolerance range\n",
    "        if dist < dist_tol:\n",
    "            cur_b0 = new_b0\n",
    "            cur_b1 = new_b1\n",
    "            attempt = 1001\n",
    "        else:\n",
    "            cur_b0 = new_b0\n",
    "            cur_b1 = new_b1\n",
    "            attempt += 1\n",
    "\n",
    "    #Setting optimal b0 and b1 values\n",
    "    est_b0 = cur_b0\n",
    "    est_b1 = cur_b1"
   ]
  },
  {
   "cell_type": "markdown",
   "id": "f3ecc5e9-7f45-4c2e-a77e-06a98d59ccfe",
   "metadata": {},
   "source": [
    "The function below returns a predicted selling price when supplied km driven."
   ]
  },
  {
   "cell_type": "code",
   "execution_count": 22,
   "id": "0d558832-3003-4eca-8502-e659e3a11f34",
   "metadata": {},
   "outputs": [],
   "source": [
    "#Helper function to generate yhat from optimal values of b0, b1, and\n",
    "#the predictor variable\n",
    "def get_grad_pred(x):\n",
    "    \"\"\"\n",
    "    Creates gradient descent prediction\n",
    "    x is assumed to be a numpy array or Pandas series\n",
    "    Data assumed to contain no missing values\n",
    "    \"\"\"\n",
    "    return est_b0 + est_b1*x"
   ]
  },
  {
   "cell_type": "markdown",
   "id": "3bf46b05-5518-4b0b-96a2-87de141a9999",
   "metadata": {},
   "source": [
    "The code below calls the two variable gradient descent for `selling_price` and `km_driven` to provide optimal estimates of *b0* and *b1*."
   ]
  },
  {
   "cell_type": "code",
   "execution_count": 23,
   "id": "273eabe6-a68a-48ee-ae57-044b534a5d0d",
   "metadata": {},
   "outputs": [
    {
     "name": "stdout",
     "output_type": "stream",
     "text": [
      "The optimal b0 value as calculated by the gradient descent algorithm is 59638.15235365436 and the optimal b1 value is 0.0111 .\n"
     ]
    }
   ],
   "source": [
    "#Calls gradient descent function\n",
    "get_grad_desc_yx(bike_data.selling_price, bike_data.km_driven)\n",
    "print(\"The optimal b0 value as calculated by the gradient descent algorithm is\",\n",
    "     est_b0, \"and the optimal b1 value is\", round(est_b1, 4), \".\")"
   ]
  },
  {
   "cell_type": "code",
   "execution_count": 24,
   "id": "c78d6011-9de8-4f0b-b3b9-5106416a1b08",
   "metadata": {},
   "outputs": [],
   "source": [
    "#Predictions\n",
    "a = get_grad_pred(10000)\n",
    "b = get_grad_pred(25000)\n",
    "c = get_grad_pred(35000)"
   ]
  },
  {
   "cell_type": "code",
   "execution_count": 25,
   "id": "9fbc41ab-aaff-4925-99a5-9b5663c3fece",
   "metadata": {},
   "outputs": [
    {
     "name": "stdout",
     "output_type": "stream",
     "text": [
      "Gradient descent predictions: The predicted selling price for a motorcycle with 10,000 km driven is 59749.12 . The predicted selling price for a motorcycle with 25,000 km driven is, 59915.58 . The predicted selling price for a motorcycle with 35,000 km driven is 60026.55 .\n"
     ]
    }
   ],
   "source": [
    "print(\"Gradient descent predictions: The predicted selling price for a motorcycle with 10,000 km driven is\",\n",
    "      round(a,2), \". The predicted selling price for a motorcycle with 25,000 km driven is,\",\n",
    "      round(b,2), \". The predicted selling price for a motorcycle with 35,000 km driven is\",\n",
    "      round(c,2), \".\")"
   ]
  },
  {
   "cell_type": "markdown",
   "id": "769df606-2922-457b-99c8-c848e3f6deea",
   "metadata": {},
   "source": [
    "#### Conclusion"
   ]
  },
  {
   "cell_type": "markdown",
   "id": "8ff6422b-602d-4151-949f-509d3c6141f5",
   "metadata": {},
   "source": [
    "As one might expect, motorcycle selling price appears to decrease with an increase in kilometers driven. However, best on our exploratory analysis there is a weakly negative correlation, -0.213, between selling price and kilometers driven. By the correlations table results and graphical summaries, it appears that expected show room price is more highly correlated to selling price. These two variables have a correlation 0.919.\n",
    "\n",
    "The strength of the correlation between selling price and km driven was evident in the prediction results. For both grid and gradient algorithms, the intercept value contributed to a large portion of selling price than did km driven.\n",
    "\n",
    "In comparing the the prediction methods we notice, that grid search predictions were typically higher than gradient descent predictions. The grid search predicted selling price for a motorcycle with 10,000 km driven was 65287.0. The predicted selling price for a motorcycle with 25,000 km driven was 61807.00. The predicted selling price for a motorcycle with 35,000 km driven was 59487.00. That is compared to the gradient descent predicted values of 59749.12, 59915.58, 60026.55 for 10k, 25k, and 35k km driven, respectively. Interestingly, the gradient descent method produced a higher predicted value for a motorcycle with 35,000 km driven than the lower kilometers driven.\n",
    "\n",
    "It is possible our selection of step size, delta, and starting values caused our gradient descent to produces less variable predictions for three vastly different km driven values. It is also likely, that lack of variation in gradient values and difference between grid search and gradient values is because of the weak correlation between the response and predictor variables."
   ]
  }
 ],
 "metadata": {
  "kernelspec": {
   "display_name": "Python 3 (ipykernel)",
   "language": "python",
   "name": "python3"
  },
  "language_info": {
   "codemirror_mode": {
    "name": "ipython",
    "version": 3
   },
   "file_extension": ".py",
   "mimetype": "text/x-python",
   "name": "python",
   "nbconvert_exporter": "python",
   "pygments_lexer": "ipython3",
   "version": "3.10.1"
  }
 },
 "nbformat": 4,
 "nbformat_minor": 5
}

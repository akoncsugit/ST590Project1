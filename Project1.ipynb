{
 "cells": [
  {
   "cell_type": "markdown",
   "id": "daf03897-877d-4f59-a893-f169928df46b",
   "metadata": {},
   "source": [
    "# ST590: Project 1"
   ]
  },
  {
   "cell_type": "markdown",
   "id": "330b6fe7-ce1f-4ff9-8565-a86dae102dd2",
   "metadata": {},
   "source": [
    "### Authors: George Bridges and Ashley Ko\n",
    "### Date: 2/13/2022"
   ]
  },
  {
   "cell_type": "markdown",
   "id": "2b913121-6e21-4ea9-8649-026e57502f3d",
   "metadata": {},
   "source": [
    "#### Introduction"
   ]
  },
  {
   "cell_type": "markdown",
   "id": "d883dc76-1128-4bcf-a796-32c9aa95ceb0",
   "metadata": {},
   "source": [
    "#### Data frame creation"
   ]
  },
  {
   "cell_type": "code",
   "execution_count": null,
   "id": "3f9bed38-653e-42e2-bcbd-c69547ea93b7",
   "metadata": {},
   "outputs": [],
   "source": [
    "#Importing pandas as pd\n",
    "import pandas as pd\n",
    "\n",
    "#import numpy as np\n",
    "import numpy as np\n",
    "\n",
    "#Setting options to display full data frame rows\n",
    "#pd.set_option(\"display.max_rows\", None, \"display.max_columns\", None)"
   ]
  },
  {
   "cell_type": "code",
   "execution_count": null,
   "id": "7bfaf32a-56f0-4be6-b492-eb7ce2a5126c",
   "metadata": {},
   "outputs": [],
   "source": [
    "#Reading in bikeDetails data set using pandas\n",
    "bike_data = pd.read_csv(\"bikeDetails.csv\")"
   ]
  },
  {
   "cell_type": "code",
   "execution_count": null,
   "id": "18f4df2a-50ba-470d-bdba-dff42efc7f13",
   "metadata": {},
   "outputs": [],
   "source": [
    "#Displays the first 5 observations from the bike_data data set\n",
    "bike_data.head()"
   ]
  },
  {
   "cell_type": "code",
   "execution_count": null,
   "id": "945eb9e6-ec33-4606-9d1b-5159469da9b5",
   "metadata": {},
   "outputs": [],
   "source": [
    "# Adding\n",
    "bike_data.name = bike_data.name.astype(\"category\")\n",
    "bike_data.seller_type = bike_data.seller_type.astype(\"category\")\n",
    "bike_data.owner = bike_data.owner.astype(\"category\")\n",
    "bike_data['year_cat'] = pd.cut(bike_data.year,\n",
    "                               bins = [1986, 1990, 1994, 1998, 2002, 2006, 2010, 2014, 2018, 2022],\n",
    "                               right = False, include_lowest = True)\n",
    "#bike_data['year_int'] = bike_data.year - 1988 + 1"
   ]
  },
  {
   "cell_type": "code",
   "execution_count": null,
   "id": "94109fa3-a14e-4893-83be-4e0081a362f0",
   "metadata": {},
   "outputs": [],
   "source": [
    "bike_data.dtypes"
   ]
  },
  {
   "cell_type": "markdown",
   "id": "d436b91f-236f-4897-9479-f1606ba9bb7c",
   "metadata": {},
   "source": [
    "#### EDA"
   ]
  },
  {
   "cell_type": "code",
   "execution_count": null,
   "id": "858b0df3-a2f5-44f1-b949-86e9e819af0e",
   "metadata": {},
   "outputs": [],
   "source": []
  },
  {
   "cell_type": "markdown",
   "id": "f10b651c-1076-4505-9d60-969cc6e48aaa",
   "metadata": {
    "tags": []
   },
   "source": [
    "## Ashley's EDA"
   ]
  },
  {
   "cell_type": "code",
   "execution_count": null,
   "id": "f15ed6f7-3882-4f05-844a-01532850b898",
   "metadata": {},
   "outputs": [],
   "source": [
    "bike_data['year_cat'].value_counts(dropna = False)"
   ]
  },
  {
   "cell_type": "code",
   "execution_count": null,
   "id": "bcdf48b3-6af4-4ec7-85e1-a3301530c53f",
   "metadata": {},
   "outputs": [],
   "source": [
    "bike_data['seller_type'].value_counts(dropna = False)"
   ]
  },
  {
   "cell_type": "code",
   "execution_count": null,
   "id": "958899c3-4559-47a2-b9aa-8626eaa3662e",
   "metadata": {},
   "outputs": [],
   "source": [
    "bike_data['owner'].value_counts(dropna = False)"
   ]
  },
  {
   "cell_type": "code",
   "execution_count": null,
   "id": "ad5bc308-8ecd-48ed-a719-a1c3ac887f36",
   "metadata": {},
   "outputs": [],
   "source": [
    "pd.crosstab([bike_data.seller_type, bike_data.year_cat], bike_data.owner, margins = True,\n",
    "           dropna = False)"
   ]
  },
  {
   "cell_type": "code",
   "execution_count": null,
   "id": "ca9c7c3c-abde-4153-b8fb-2983967b14d7",
   "metadata": {},
   "outputs": [],
   "source": [
    "pd.crosstab(bike_data.year_cat, bike_data.seller_type, dropna = True)\n",
    "pd.crosstab(bike_data.year_cat, bike_data.owner, dropna = True)\n",
    "#pd.crosstab(bike_data.seller_type, bike_data.owner, dropna = True)"
   ]
  },
  {
   "cell_type": "code",
   "execution_count": null,
   "id": "c7fa677c-0bbe-4542-9c65-a8e3d68974a7",
   "metadata": {},
   "outputs": [],
   "source": [
    "pd.pivot_table(bike_data, values = [\"selling_price\", \"ex_showroom_price\", \"km_driven\"],\n",
    "               index = [\"seller_type\"], aggfunc = (\"min\", \"max\", \"mean\", \"std\")).round(2)\n",
    "# pd.pivot_table(bike_data, values = [\"selling_price\", \"ex_showroom_price\", \"km_driven\"],\n",
    "#               index = \"owner\", aggfunc = [\"mean\", \"std\", \"q25\", \"median\", \"q75\"])"
   ]
  },
  {
   "cell_type": "code",
   "execution_count": null,
   "id": "989a07c6-8db9-4a08-b6fa-7d22cf971b84",
   "metadata": {},
   "outputs": [],
   "source": [
    "pd.pivot_table(bike_data, values = [\"selling_price\", \"ex_showroom_price\", \"km_driven\"],\n",
    "               index = [\"owner\"], aggfunc = (\"min\", \"max\", \"mean\", \"std\")).round(2)"
   ]
  },
  {
   "cell_type": "code",
   "execution_count": null,
   "id": "309d9986-c2a0-419b-ad5a-7c9e59dbe141",
   "metadata": {},
   "outputs": [],
   "source": [
    "pd.pivot_table(bike_data, values = [\"selling_price\", \"ex_showroom_price\", \"km_driven\"],\n",
    "               index = [\"year_cat\"], aggfunc = (\"min\", \"max\", \"mean\", \"std\")).round(2)"
   ]
  },
  {
   "cell_type": "code",
   "execution_count": null,
   "id": "6519081f-b7d0-411d-b6a3-762bdc0d35bb",
   "metadata": {},
   "outputs": [],
   "source": [
    "max_selling = bike_data.groupby(\"year\")\\\n",
    ".agg(\n",
    "    max_selling = (\"selling_price\", max), \n",
    "    median_sellling = (\"selling_price\", np.median),\n",
    "    min_selling = (\"selling_price\", min), \n",
    ")\n",
    "max_selling.plot.line()"
   ]
  },
  {
   "cell_type": "code",
   "execution_count": null,
   "id": "fcb3b04d-0206-40ed-88b6-a8f23d379ecf",
   "metadata": {},
   "outputs": [],
   "source": [
    "pd.plotting.scatter_matrix(bike_data)"
   ]
  },
  {
   "cell_type": "markdown",
   "id": "99ae62c8-e755-4d38-bba2-7ed4bf7ff142",
   "metadata": {},
   "source": [
    "## George's EDA"
   ]
  },
  {
   "cell_type": "code",
   "execution_count": null,
   "id": "0afc7a5e-0cd4-43e2-adfb-146150eecad9",
   "metadata": {},
   "outputs": [],
   "source": [
    "#using the .describe() method to get a first look at the numeric variables in the dataset. Although you would not necessarily perform math on the listed years for each bike, seeing info like the average year is meaningful.\n",
    "bike_data.describe().round(2)"
   ]
  },
  {
   "cell_type": "code",
   "execution_count": null,
   "id": "5ef4126e-1876-4f34-b85c-3143d3061f33",
   "metadata": {},
   "outputs": [],
   "source": [
    "bike_data.columns\n",
    "#note: our columns are name, selling_price, year, seller_type, owner, km_driven, and ex_showroom_price"
   ]
  },
  {
   "cell_type": "code",
   "execution_count": null,
   "id": "ee440115-6573-4e9e-a640-eada3a6c302a",
   "metadata": {},
   "outputs": [],
   "source": [
    "#bike_data_numeric = bike_data['selling_price', 'km_driven', 'ex_showrooom_price']\n",
    "\n",
    "#previously I tried to do what I was doing above exactly in the way he does it\n",
    "#in the video and got the same error\n",
    "\n",
    "#Fixed to grab desired columns from bike_data for all rows\n",
    "bike_data_numeric = bike_data.loc[:, ['selling_price', 'year', 'km_driven', 'ex_showroom_price']]\n"
   ]
  },
  {
   "cell_type": "code",
   "execution_count": null,
   "id": "51d8b921-91a3-4ea3-b0be-22900927cb80",
   "metadata": {},
   "outputs": [],
   "source": [
    "#finding mean and median of all the numeric variables using the .mean and .median methods\n",
    "bike_data['selling_price'].mean()"
   ]
  },
  {
   "cell_type": "code",
   "execution_count": null,
   "id": "5959146c-25b4-4414-9579-96cf13824064",
   "metadata": {},
   "outputs": [],
   "source": [
    "bike_data['selling_price'].median()"
   ]
  },
  {
   "cell_type": "code",
   "execution_count": null,
   "id": "3f561b19-8a59-4519-9633-63ee7b9c0015",
   "metadata": {},
   "outputs": [],
   "source": [
    "bike_data['km_driven'].mean()"
   ]
  },
  {
   "cell_type": "code",
   "execution_count": null,
   "id": "9a29b84e-9df7-4c7e-929b-3a99b44cecbc",
   "metadata": {},
   "outputs": [],
   "source": [
    "bike_data['km_driven'].median()"
   ]
  },
  {
   "cell_type": "code",
   "execution_count": null,
   "id": "0439c6b1-3cd2-42dc-a843-8f2c5fc09736",
   "metadata": {},
   "outputs": [],
   "source": [
    "bike_data['ex_showroom_price'].mean()"
   ]
  },
  {
   "cell_type": "code",
   "execution_count": null,
   "id": "67a2dcf9-5ba4-4dd9-838c-eb1061a75b7c",
   "metadata": {},
   "outputs": [],
   "source": [
    "bike_data['ex_showroom_price'].median()"
   ]
  },
  {
   "cell_type": "code",
   "execution_count": null,
   "id": "c06f2933-6f1f-4326-ab95-55d47199a7e1",
   "metadata": {},
   "outputs": [],
   "source": [
    "#similarly finding standard deviations of the numeric variables\n",
    "bike_data.selling_price.std()"
   ]
  },
  {
   "cell_type": "code",
   "execution_count": null,
   "id": "54d0bb08-35c9-406b-8c09-de6aa7721e5d",
   "metadata": {},
   "outputs": [],
   "source": [
    "bike_data.km_driven.std()"
   ]
  },
  {
   "cell_type": "code",
   "execution_count": null,
   "id": "4778d18d-b678-4ee0-b6da-4054ba3f5512",
   "metadata": {},
   "outputs": [],
   "source": [
    "bike_data.ex_showroom_price.std()"
   ]
  },
  {
   "cell_type": "code",
   "execution_count": null,
   "id": "92dd5d5b-f436-482b-8b5b-b6a36bfcb4c3",
   "metadata": {},
   "outputs": [],
   "source": [
    "#similarly finding more fine-tuned quantiles\n",
    "bike_data.selling_price.quantile(q = [.05, .10, .15, .20, .25,\n",
    "                                      .30, .35, .40, .45, .50,\n",
    "                                      .55, .60, .65, .70, .75,\n",
    "                                      .80, .85, .90, .95])"
   ]
  },
  {
   "cell_type": "code",
   "execution_count": null,
   "id": "a8e4d5c7-94b9-4889-955d-61d5a04971d3",
   "metadata": {},
   "outputs": [],
   "source": [
    "bike_data.km_driven.quantile(q = [.05, .10, .15, .20, .25,\n",
    "                                  .30, .35, .40, .45, .50,\n",
    "                                  .55, .60, .65, .70, .75,\n",
    "                                  .80, .85, .90, .95])"
   ]
  },
  {
   "cell_type": "code",
   "execution_count": null,
   "id": "d9431c26-b58c-480b-a8a0-0058091345da",
   "metadata": {},
   "outputs": [],
   "source": [
    "bike_data.ex_showroom_price.quantile(q = [.05, .10, .15, .20, .25,\n",
    "                                          .30, .35, .40, .45, .50,\n",
    "                                          .55, .60, .65, .70, .75,\n",
    "                                          .80, .85, .90, .95])"
   ]
  },
  {
   "cell_type": "code",
   "execution_count": null,
   "id": "08f5033d-4d79-4d66-8fd5-2acbdfbc98cf",
   "metadata": {},
   "outputs": [],
   "source": [
    "#interquartile range for selling_price\n",
    "q1 = bike_data.selling_price.quantile(q = [.25])\n",
    "q3 = bike_data.selling_price.quantile(q = [.75])\n",
    "q1\n",
    "q3\n",
    "q3[.75] - q1[.25]"
   ]
  },
  {
   "cell_type": "code",
   "execution_count": null,
   "id": "dbb7a6a0-1a4e-4be0-a798-402c97b44990",
   "metadata": {},
   "outputs": [],
   "source": [
    "#finding correlation between the numeric variables in the data set\n",
    "bike_data_numeric.corr().round(3)"
   ]
  },
  {
   "cell_type": "markdown",
   "id": "57d9f8e1-a70b-4fa9-ae53-e951b89eda2c",
   "metadata": {},
   "source": [
    "We see that selling_price and ex_showroom_price are highly correlated, in fact even more highly correlated than I anticipated or what it looked like from a cursory look at the data. They in fact boast a roughly 92% correlation with one another. Also, selling_price and km_driven are negatively correlated as one would expect (the more use a vehicle has the lower the price all else being equal). Insofar as it is meaningful the positive correlation shown between year and selling_price also makes sense because a larger number for year represents a newer vehicle. One might expect that until a bike is so old as to be considered a collector's item or an antique that an older bike would be worth less."
   ]
  },
  {
   "cell_type": "code",
   "execution_count": null,
   "id": "be9830fe-75f1-4d3b-ac5a-0d416f698700",
   "metadata": {},
   "outputs": [],
   "source": [
    "bike_data.drop([\"year\"], axis = 1).groupby(\"seller_type\").mean().round(2)"
   ]
  },
  {
   "cell_type": "code",
   "execution_count": null,
   "id": "b6cf9444-cd81-499c-b062-1f2c3ad6eedc",
   "metadata": {},
   "outputs": [],
   "source": [
    "bike_data.drop([\"year\"], axis = 1).groupby(\"owner\").mean().round(2)"
   ]
  },
  {
   "cell_type": "markdown",
   "id": "9b83eccf-a2e0-428a-978b-7815346be306",
   "metadata": {},
   "source": [
    "We can see that dealers tend to sell their bikes for about 13,000 dollars less than individuals do as well as sell slightly older bikes that have been ridden a little farther. Very interestingly, in the second set of grouped means we see that by far the most lucrative sales occur by the 4th owner. Intuitively one might expect a bike that has been sold at least three times before might be worth less, but that is clearly not the case. This owner status, particularly in the case of \"4th owner\" could be a powerful predictive attribute."
   ]
  },
  {
   "cell_type": "code",
   "execution_count": 294,
   "id": "ac5510fc-a1f1-4352-ae5f-e43896541579",
   "metadata": {},
   "outputs": [
    {
     "data": {
      "text/html": [
       "<div>\n",
       "<style scoped>\n",
       "    .dataframe tbody tr th:only-of-type {\n",
       "        vertical-align: middle;\n",
       "    }\n",
       "\n",
       "    .dataframe tbody tr th {\n",
       "        vertical-align: top;\n",
       "    }\n",
       "\n",
       "    .dataframe thead th {\n",
       "        text-align: right;\n",
       "    }\n",
       "</style>\n",
       "<table border=\"1\" class=\"dataframe\">\n",
       "  <thead>\n",
       "    <tr style=\"text-align: right;\">\n",
       "      <th></th>\n",
       "      <th>selling_price</th>\n",
       "      <th>km_driven</th>\n",
       "      <th>ex_showroom_price</th>\n",
       "    </tr>\n",
       "    <tr>\n",
       "      <th>year_cat</th>\n",
       "      <th></th>\n",
       "      <th></th>\n",
       "      <th></th>\n",
       "    </tr>\n",
       "  </thead>\n",
       "  <tbody>\n",
       "    <tr>\n",
       "      <th>[1986, 1990)</th>\n",
       "      <td>20000.00</td>\n",
       "      <td>21000.00</td>\n",
       "      <td>NaN</td>\n",
       "    </tr>\n",
       "    <tr>\n",
       "      <th>[1990, 1994)</th>\n",
       "      <td>68000.00</td>\n",
       "      <td>22500.00</td>\n",
       "      <td>NaN</td>\n",
       "    </tr>\n",
       "    <tr>\n",
       "      <th>[1994, 1998)</th>\n",
       "      <td>61666.67</td>\n",
       "      <td>237118.00</td>\n",
       "      <td>NaN</td>\n",
       "    </tr>\n",
       "    <tr>\n",
       "      <th>[1998, 2002)</th>\n",
       "      <td>25416.67</td>\n",
       "      <td>35291.67</td>\n",
       "      <td>54852.00</td>\n",
       "    </tr>\n",
       "    <tr>\n",
       "      <th>[2002, 2006)</th>\n",
       "      <td>16660.87</td>\n",
       "      <td>48774.61</td>\n",
       "      <td>54852.00</td>\n",
       "    </tr>\n",
       "    <tr>\n",
       "      <th>[2006, 2010)</th>\n",
       "      <td>26420.00</td>\n",
       "      <td>64704.50</td>\n",
       "      <td>63979.61</td>\n",
       "    </tr>\n",
       "    <tr>\n",
       "      <th>[2010, 2014)</th>\n",
       "      <td>39083.28</td>\n",
       "      <td>45209.90</td>\n",
       "      <td>83425.72</td>\n",
       "    </tr>\n",
       "    <tr>\n",
       "      <th>[2014, 2018)</th>\n",
       "      <td>62245.90</td>\n",
       "      <td>29615.22</td>\n",
       "      <td>85457.47</td>\n",
       "    </tr>\n",
       "    <tr>\n",
       "      <th>[2018, 2022)</th>\n",
       "      <td>101485.49</td>\n",
       "      <td>11998.03</td>\n",
       "      <td>106332.10</td>\n",
       "    </tr>\n",
       "  </tbody>\n",
       "</table>\n",
       "</div>"
      ],
      "text/plain": [
       "              selling_price  km_driven  ex_showroom_price\n",
       "year_cat                                                 \n",
       "[1986, 1990)       20000.00   21000.00                NaN\n",
       "[1990, 1994)       68000.00   22500.00                NaN\n",
       "[1994, 1998)       61666.67  237118.00                NaN\n",
       "[1998, 2002)       25416.67   35291.67           54852.00\n",
       "[2002, 2006)       16660.87   48774.61           54852.00\n",
       "[2006, 2010)       26420.00   64704.50           63979.61\n",
       "[2010, 2014)       39083.28   45209.90           83425.72\n",
       "[2014, 2018)       62245.90   29615.22           85457.47\n",
       "[2018, 2022)      101485.49   11998.03          106332.10"
      ]
     },
     "execution_count": 294,
     "metadata": {},
     "output_type": "execute_result"
    }
   ],
   "source": [
    "bike_data.drop([\"year\"], axis = 1).groupby(\"year_cat\").mean().round(2)"
   ]
  },
  {
   "cell_type": "markdown",
   "id": "cfd8b8b4-cee9-414d-ae9c-e603edb8cafa",
   "metadata": {},
   "source": [
    "#### Prediction of Selling Price"
   ]
  },
  {
   "cell_type": "markdown",
   "id": "cd707195-3508-4ce2-af1e-e8bc5c6a522d",
   "metadata": {},
   "source": [
    "##### Grid Search Algorithm"
   ]
  },
  {
   "cell_type": "markdown",
   "id": "9a5057bb-8fac-4598-aad5-12ae80773c17",
   "metadata": {},
   "source": [
    "##### Gradient Descent Algorithm"
   ]
  },
  {
   "cell_type": "markdown",
   "id": "769df606-2922-457b-99c8-c848e3f6deea",
   "metadata": {},
   "source": [
    "#### Conclusion"
   ]
  }
 ],
 "metadata": {
  "kernelspec": {
   "display_name": "Python 3 (ipykernel)",
   "language": "python",
   "name": "python3"
  },
  "language_info": {
   "codemirror_mode": {
    "name": "ipython",
    "version": 3
   },
   "file_extension": ".py",
   "mimetype": "text/x-python",
   "name": "python",
   "nbconvert_exporter": "python",
   "pygments_lexer": "ipython3",
   "version": "3.10.1"
  }
 },
 "nbformat": 4,
 "nbformat_minor": 5
}

{
 "cells": [
  {
   "cell_type": "markdown",
   "id": "daf03897-877d-4f59-a893-f169928df46b",
   "metadata": {},
   "source": [
    "# Project 1"
   ]
  },
  {
   "cell_type": "code",
   "execution_count": 129,
   "id": "3f9bed38-653e-42e2-bcbd-c69547ea93b7",
   "metadata": {},
   "outputs": [],
   "source": [
    "#Importing pandas as pd\n",
    "import pandas as pd\n",
    "\n",
    "#import numpy as np\n",
    "import numpy as np\n",
    "\n",
    "#Setting options to display full data frame rows\n",
    "#pd.set_option(\"display.max_rows\", None, \"display.max_columns\", None)"
   ]
  },
  {
   "cell_type": "code",
   "execution_count": 37,
   "id": "7bfaf32a-56f0-4be6-b492-eb7ce2a5126c",
   "metadata": {},
   "outputs": [],
   "source": [
    "#Reading in bikeDetails data set using pandas\n",
    "bike_data = pd.read_csv(\"bikeDetails.csv\")"
   ]
  },
  {
   "cell_type": "code",
   "execution_count": 56,
   "id": "18f4df2a-50ba-470d-bdba-dff42efc7f13",
   "metadata": {},
   "outputs": [
    {
     "data": {
      "text/html": [
       "<div>\n",
       "<style scoped>\n",
       "    .dataframe tbody tr th:only-of-type {\n",
       "        vertical-align: middle;\n",
       "    }\n",
       "\n",
       "    .dataframe tbody tr th {\n",
       "        vertical-align: top;\n",
       "    }\n",
       "\n",
       "    .dataframe thead th {\n",
       "        text-align: right;\n",
       "    }\n",
       "</style>\n",
       "<table border=\"1\" class=\"dataframe\">\n",
       "  <thead>\n",
       "    <tr style=\"text-align: right;\">\n",
       "      <th></th>\n",
       "      <th>name</th>\n",
       "      <th>selling_price</th>\n",
       "      <th>year</th>\n",
       "      <th>seller_type</th>\n",
       "      <th>owner</th>\n",
       "      <th>km_driven</th>\n",
       "      <th>ex_showroom_price</th>\n",
       "      <th>year_cat</th>\n",
       "      <th>year_int</th>\n",
       "    </tr>\n",
       "  </thead>\n",
       "  <tbody>\n",
       "    <tr>\n",
       "      <th>0</th>\n",
       "      <td>Royal Enfield Classic 350</td>\n",
       "      <td>175000</td>\n",
       "      <td>2019</td>\n",
       "      <td>Individual</td>\n",
       "      <td>1st owner</td>\n",
       "      <td>350</td>\n",
       "      <td>NaN</td>\n",
       "      <td>[2017, 2021)</td>\n",
       "      <td>32</td>\n",
       "    </tr>\n",
       "    <tr>\n",
       "      <th>1</th>\n",
       "      <td>Honda Dio</td>\n",
       "      <td>45000</td>\n",
       "      <td>2017</td>\n",
       "      <td>Individual</td>\n",
       "      <td>1st owner</td>\n",
       "      <td>5650</td>\n",
       "      <td>NaN</td>\n",
       "      <td>[2017, 2021)</td>\n",
       "      <td>30</td>\n",
       "    </tr>\n",
       "    <tr>\n",
       "      <th>2</th>\n",
       "      <td>Royal Enfield Classic Gunmetal Grey</td>\n",
       "      <td>150000</td>\n",
       "      <td>2018</td>\n",
       "      <td>Individual</td>\n",
       "      <td>1st owner</td>\n",
       "      <td>12000</td>\n",
       "      <td>148114.0</td>\n",
       "      <td>[2017, 2021)</td>\n",
       "      <td>31</td>\n",
       "    </tr>\n",
       "    <tr>\n",
       "      <th>3</th>\n",
       "      <td>Yamaha Fazer FI V 2.0 [2016-2018]</td>\n",
       "      <td>65000</td>\n",
       "      <td>2015</td>\n",
       "      <td>Individual</td>\n",
       "      <td>1st owner</td>\n",
       "      <td>23000</td>\n",
       "      <td>89643.0</td>\n",
       "      <td>[2013, 2017)</td>\n",
       "      <td>28</td>\n",
       "    </tr>\n",
       "    <tr>\n",
       "      <th>4</th>\n",
       "      <td>Yamaha SZ [2013-2014]</td>\n",
       "      <td>20000</td>\n",
       "      <td>2011</td>\n",
       "      <td>Individual</td>\n",
       "      <td>2nd owner</td>\n",
       "      <td>21000</td>\n",
       "      <td>NaN</td>\n",
       "      <td>[2009, 2013)</td>\n",
       "      <td>24</td>\n",
       "    </tr>\n",
       "  </tbody>\n",
       "</table>\n",
       "</div>"
      ],
      "text/plain": [
       "                                  name  selling_price  year seller_type  \\\n",
       "0            Royal Enfield Classic 350         175000  2019  Individual   \n",
       "1                            Honda Dio          45000  2017  Individual   \n",
       "2  Royal Enfield Classic Gunmetal Grey         150000  2018  Individual   \n",
       "3    Yamaha Fazer FI V 2.0 [2016-2018]          65000  2015  Individual   \n",
       "4                Yamaha SZ [2013-2014]          20000  2011  Individual   \n",
       "\n",
       "       owner  km_driven  ex_showroom_price      year_cat  year_int  \n",
       "0  1st owner        350                NaN  [2017, 2021)        32  \n",
       "1  1st owner       5650                NaN  [2017, 2021)        30  \n",
       "2  1st owner      12000           148114.0  [2017, 2021)        31  \n",
       "3  1st owner      23000            89643.0  [2013, 2017)        28  \n",
       "4  2nd owner      21000                NaN  [2009, 2013)        24  "
      ]
     },
     "execution_count": 56,
     "metadata": {},
     "output_type": "execute_result"
    }
   ],
   "source": [
    "#Displays the first 5 observations from the bike_data data set\n",
    "bike_data.head()"
   ]
  },
  {
   "cell_type": "code",
   "execution_count": 57,
   "id": "945eb9e6-ec33-4606-9d1b-5159469da9b5",
   "metadata": {},
   "outputs": [],
   "source": [
    "# Adding\n",
    "bike_data.name = bike_data.name.astype(\"category\")\n",
    "bike_data.seller_type = bike_data.seller_type.astype(\"category\")\n",
    "bike_data.owner = bike_data.owner.astype(\"category\")\n",
    "bike_data['year_cat'] = pd.cut(bike_data.year, bins = [1988, 1992, 1996, 2000, 2004, 2008, 2012, 2016, 2020],\n",
    "                               right = False)\n",
    "bike_data['year_int'] = bike_data.year - 1988 + 1"
   ]
  },
  {
   "cell_type": "code",
   "execution_count": 35,
   "id": "94109fa3-a14e-4893-83be-4e0081a362f0",
   "metadata": {},
   "outputs": [
    {
     "data": {
      "text/plain": [
       "name                 category\n",
       "selling_price           int64\n",
       "year                    int64\n",
       "seller_type          category\n",
       "owner                category\n",
       "km_driven               int64\n",
       "ex_showroom_price     float64\n",
       "year_cat             category\n",
       "year_int                int64\n",
       "dtype: object"
      ]
     },
     "execution_count": 35,
     "metadata": {},
     "output_type": "execute_result"
    }
   ],
   "source": [
    "bike_data.dtypes"
   ]
  },
  {
   "cell_type": "markdown",
   "id": "f10b651c-1076-4505-9d60-969cc6e48aaa",
   "metadata": {
    "tags": []
   },
   "source": [
    "## Ashley's EDA"
   ]
  },
  {
   "cell_type": "code",
   "execution_count": 61,
   "id": "e5acdbf3-9716-4e3b-a33c-56fb903b7193",
   "metadata": {},
   "outputs": [
    {
     "data": {
      "text/plain": [
       "[2016, 2020)    457\n",
       "[2012, 2016)    334\n",
       "[2008, 2012)    177\n",
       "[2004, 2008)     68\n",
       "[2000, 2004)     12\n",
       "[1996, 2000)      6\n",
       "[1988, 1992)      2\n",
       "[1992, 1996)      2\n",
       "Name: year_cat, dtype: int64"
      ]
     },
     "execution_count": 61,
     "metadata": {},
     "output_type": "execute_result"
    }
   ],
   "source": [
    "bike_data['year_cat'].value_counts()"
   ]
  },
  {
   "cell_type": "code",
   "execution_count": 73,
   "id": "bcdf48b3-6af4-4ec7-85e1-a3301530c53f",
   "metadata": {},
   "outputs": [
    {
     "data": {
      "text/plain": [
       "Individual    1055\n",
       "Dealer           6\n",
       "Name: seller_type, dtype: int64"
      ]
     },
     "execution_count": 73,
     "metadata": {},
     "output_type": "execute_result"
    }
   ],
   "source": [
    "bike_data['seller_type'].value_counts()"
   ]
  },
  {
   "cell_type": "code",
   "execution_count": 77,
   "id": "958899c3-4559-47a2-b9aa-8626eaa3662e",
   "metadata": {},
   "outputs": [
    {
     "data": {
      "text/plain": [
       "1st owner    924\n",
       "2nd owner    123\n",
       "3rd owner     11\n",
       "4th owner      3\n",
       "Name: owner, dtype: int64"
      ]
     },
     "execution_count": 77,
     "metadata": {},
     "output_type": "execute_result"
    }
   ],
   "source": [
    "bike_data['owner'].value_counts()"
   ]
  },
  {
   "cell_type": "code",
   "execution_count": 72,
   "id": "ad5bc308-8ecd-48ed-a719-a1c3ac887f36",
   "metadata": {},
   "outputs": [
    {
     "data": {
      "text/html": [
       "<div>\n",
       "<style scoped>\n",
       "    .dataframe tbody tr th:only-of-type {\n",
       "        vertical-align: middle;\n",
       "    }\n",
       "\n",
       "    .dataframe tbody tr th {\n",
       "        vertical-align: top;\n",
       "    }\n",
       "\n",
       "    .dataframe thead th {\n",
       "        text-align: right;\n",
       "    }\n",
       "</style>\n",
       "<table border=\"1\" class=\"dataframe\">\n",
       "  <thead>\n",
       "    <tr style=\"text-align: right;\">\n",
       "      <th></th>\n",
       "      <th>owner</th>\n",
       "      <th>1st owner</th>\n",
       "      <th>2nd owner</th>\n",
       "      <th>3rd owner</th>\n",
       "      <th>4th owner</th>\n",
       "      <th>All</th>\n",
       "    </tr>\n",
       "    <tr>\n",
       "      <th>seller_type</th>\n",
       "      <th>year_cat</th>\n",
       "      <th></th>\n",
       "      <th></th>\n",
       "      <th></th>\n",
       "      <th></th>\n",
       "      <th></th>\n",
       "    </tr>\n",
       "  </thead>\n",
       "  <tbody>\n",
       "    <tr>\n",
       "      <th rowspan=\"8\" valign=\"top\">Dealer</th>\n",
       "      <th>[1988, 1992)</th>\n",
       "      <td>0</td>\n",
       "      <td>0</td>\n",
       "      <td>0</td>\n",
       "      <td>0</td>\n",
       "      <td>NaN</td>\n",
       "    </tr>\n",
       "    <tr>\n",
       "      <th>[1992, 1996)</th>\n",
       "      <td>0</td>\n",
       "      <td>0</td>\n",
       "      <td>0</td>\n",
       "      <td>0</td>\n",
       "      <td>NaN</td>\n",
       "    </tr>\n",
       "    <tr>\n",
       "      <th>[1996, 2000)</th>\n",
       "      <td>0</td>\n",
       "      <td>1</td>\n",
       "      <td>0</td>\n",
       "      <td>0</td>\n",
       "      <td>1.0</td>\n",
       "    </tr>\n",
       "    <tr>\n",
       "      <th>[2000, 2004)</th>\n",
       "      <td>0</td>\n",
       "      <td>0</td>\n",
       "      <td>0</td>\n",
       "      <td>0</td>\n",
       "      <td>NaN</td>\n",
       "    </tr>\n",
       "    <tr>\n",
       "      <th>[2004, 2008)</th>\n",
       "      <td>0</td>\n",
       "      <td>0</td>\n",
       "      <td>0</td>\n",
       "      <td>0</td>\n",
       "      <td>NaN</td>\n",
       "    </tr>\n",
       "    <tr>\n",
       "      <th>[2008, 2012)</th>\n",
       "      <td>0</td>\n",
       "      <td>1</td>\n",
       "      <td>0</td>\n",
       "      <td>0</td>\n",
       "      <td>1.0</td>\n",
       "    </tr>\n",
       "    <tr>\n",
       "      <th>[2012, 2016)</th>\n",
       "      <td>2</td>\n",
       "      <td>0</td>\n",
       "      <td>0</td>\n",
       "      <td>0</td>\n",
       "      <td>2.0</td>\n",
       "    </tr>\n",
       "    <tr>\n",
       "      <th>[2016, 2020)</th>\n",
       "      <td>2</td>\n",
       "      <td>0</td>\n",
       "      <td>0</td>\n",
       "      <td>0</td>\n",
       "      <td>2.0</td>\n",
       "    </tr>\n",
       "    <tr>\n",
       "      <th rowspan=\"8\" valign=\"top\">Individual</th>\n",
       "      <th>[1988, 1992)</th>\n",
       "      <td>2</td>\n",
       "      <td>0</td>\n",
       "      <td>0</td>\n",
       "      <td>0</td>\n",
       "      <td>2.0</td>\n",
       "    </tr>\n",
       "    <tr>\n",
       "      <th>[1992, 1996)</th>\n",
       "      <td>0</td>\n",
       "      <td>1</td>\n",
       "      <td>1</td>\n",
       "      <td>0</td>\n",
       "      <td>2.0</td>\n",
       "    </tr>\n",
       "    <tr>\n",
       "      <th>[1996, 2000)</th>\n",
       "      <td>4</td>\n",
       "      <td>0</td>\n",
       "      <td>1</td>\n",
       "      <td>0</td>\n",
       "      <td>5.0</td>\n",
       "    </tr>\n",
       "    <tr>\n",
       "      <th>[2000, 2004)</th>\n",
       "      <td>7</td>\n",
       "      <td>3</td>\n",
       "      <td>1</td>\n",
       "      <td>1</td>\n",
       "      <td>12.0</td>\n",
       "    </tr>\n",
       "    <tr>\n",
       "      <th>[2004, 2008)</th>\n",
       "      <td>56</td>\n",
       "      <td>12</td>\n",
       "      <td>0</td>\n",
       "      <td>0</td>\n",
       "      <td>68.0</td>\n",
       "    </tr>\n",
       "    <tr>\n",
       "      <th>[2008, 2012)</th>\n",
       "      <td>142</td>\n",
       "      <td>29</td>\n",
       "      <td>4</td>\n",
       "      <td>1</td>\n",
       "      <td>176.0</td>\n",
       "    </tr>\n",
       "    <tr>\n",
       "      <th>[2012, 2016)</th>\n",
       "      <td>278</td>\n",
       "      <td>50</td>\n",
       "      <td>3</td>\n",
       "      <td>1</td>\n",
       "      <td>332.0</td>\n",
       "    </tr>\n",
       "    <tr>\n",
       "      <th>[2016, 2020)</th>\n",
       "      <td>428</td>\n",
       "      <td>26</td>\n",
       "      <td>1</td>\n",
       "      <td>0</td>\n",
       "      <td>455.0</td>\n",
       "    </tr>\n",
       "    <tr>\n",
       "      <th>All</th>\n",
       "      <th></th>\n",
       "      <td>924</td>\n",
       "      <td>123</td>\n",
       "      <td>11</td>\n",
       "      <td>3</td>\n",
       "      <td>1061.0</td>\n",
       "    </tr>\n",
       "  </tbody>\n",
       "</table>\n",
       "</div>"
      ],
      "text/plain": [
       "owner                     1st owner  2nd owner  3rd owner  4th owner     All\n",
       "seller_type year_cat                                                        \n",
       "Dealer      [1988, 1992)          0          0          0          0     NaN\n",
       "            [1992, 1996)          0          0          0          0     NaN\n",
       "            [1996, 2000)          0          1          0          0     1.0\n",
       "            [2000, 2004)          0          0          0          0     NaN\n",
       "            [2004, 2008)          0          0          0          0     NaN\n",
       "            [2008, 2012)          0          1          0          0     1.0\n",
       "            [2012, 2016)          2          0          0          0     2.0\n",
       "            [2016, 2020)          2          0          0          0     2.0\n",
       "Individual  [1988, 1992)          2          0          0          0     2.0\n",
       "            [1992, 1996)          0          1          1          0     2.0\n",
       "            [1996, 2000)          4          0          1          0     5.0\n",
       "            [2000, 2004)          7          3          1          1    12.0\n",
       "            [2004, 2008)         56         12          0          0    68.0\n",
       "            [2008, 2012)        142         29          4          1   176.0\n",
       "            [2012, 2016)        278         50          3          1   332.0\n",
       "            [2016, 2020)        428         26          1          0   455.0\n",
       "All                             924        123         11          3  1061.0"
      ]
     },
     "execution_count": 72,
     "metadata": {},
     "output_type": "execute_result"
    }
   ],
   "source": [
    "pd.crosstab([bike_data.seller_type, bike_data.year_cat], bike_data.owner, margins = True,\n",
    "           dropna = False)"
   ]
  },
  {
   "cell_type": "code",
   "execution_count": 70,
   "id": "fb55c8d8-8c16-4d80-abff-6f53911acd15",
   "metadata": {},
   "outputs": [
    {
     "data": {
      "text/html": [
       "<div>\n",
       "<style scoped>\n",
       "    .dataframe tbody tr th:only-of-type {\n",
       "        vertical-align: middle;\n",
       "    }\n",
       "\n",
       "    .dataframe tbody tr th {\n",
       "        vertical-align: top;\n",
       "    }\n",
       "\n",
       "    .dataframe thead th {\n",
       "        text-align: right;\n",
       "    }\n",
       "</style>\n",
       "<table border=\"1\" class=\"dataframe\">\n",
       "  <thead>\n",
       "    <tr style=\"text-align: right;\">\n",
       "      <th></th>\n",
       "      <th>name</th>\n",
       "      <th>selling_price</th>\n",
       "      <th>year</th>\n",
       "      <th>seller_type</th>\n",
       "      <th>owner</th>\n",
       "      <th>km_driven</th>\n",
       "      <th>ex_showroom_price</th>\n",
       "      <th>year_cat</th>\n",
       "      <th>year_int</th>\n",
       "    </tr>\n",
       "  </thead>\n",
       "  <tbody>\n",
       "    <tr>\n",
       "      <th>0</th>\n",
       "      <td>Royal Enfield Classic 350</td>\n",
       "      <td>175000</td>\n",
       "      <td>2019</td>\n",
       "      <td>Individual</td>\n",
       "      <td>1st owner</td>\n",
       "      <td>350</td>\n",
       "      <td>NaN</td>\n",
       "      <td>[2016, 2020)</td>\n",
       "      <td>32</td>\n",
       "    </tr>\n",
       "    <tr>\n",
       "      <th>1</th>\n",
       "      <td>Honda Dio</td>\n",
       "      <td>45000</td>\n",
       "      <td>2017</td>\n",
       "      <td>Individual</td>\n",
       "      <td>1st owner</td>\n",
       "      <td>5650</td>\n",
       "      <td>NaN</td>\n",
       "      <td>[2016, 2020)</td>\n",
       "      <td>30</td>\n",
       "    </tr>\n",
       "    <tr>\n",
       "      <th>2</th>\n",
       "      <td>Royal Enfield Classic Gunmetal Grey</td>\n",
       "      <td>150000</td>\n",
       "      <td>2018</td>\n",
       "      <td>Individual</td>\n",
       "      <td>1st owner</td>\n",
       "      <td>12000</td>\n",
       "      <td>148114.0</td>\n",
       "      <td>[2016, 2020)</td>\n",
       "      <td>31</td>\n",
       "    </tr>\n",
       "    <tr>\n",
       "      <th>3</th>\n",
       "      <td>Yamaha Fazer FI V 2.0 [2016-2018]</td>\n",
       "      <td>65000</td>\n",
       "      <td>2015</td>\n",
       "      <td>Individual</td>\n",
       "      <td>1st owner</td>\n",
       "      <td>23000</td>\n",
       "      <td>89643.0</td>\n",
       "      <td>[2012, 2016)</td>\n",
       "      <td>28</td>\n",
       "    </tr>\n",
       "    <tr>\n",
       "      <th>4</th>\n",
       "      <td>Yamaha SZ [2013-2014]</td>\n",
       "      <td>20000</td>\n",
       "      <td>2011</td>\n",
       "      <td>Individual</td>\n",
       "      <td>2nd owner</td>\n",
       "      <td>21000</td>\n",
       "      <td>NaN</td>\n",
       "      <td>[2008, 2012)</td>\n",
       "      <td>24</td>\n",
       "    </tr>\n",
       "  </tbody>\n",
       "</table>\n",
       "</div>"
      ],
      "text/plain": [
       "                                  name  selling_price  year seller_type  \\\n",
       "0            Royal Enfield Classic 350         175000  2019  Individual   \n",
       "1                            Honda Dio          45000  2017  Individual   \n",
       "2  Royal Enfield Classic Gunmetal Grey         150000  2018  Individual   \n",
       "3    Yamaha Fazer FI V 2.0 [2016-2018]          65000  2015  Individual   \n",
       "4                Yamaha SZ [2013-2014]          20000  2011  Individual   \n",
       "\n",
       "       owner  km_driven  ex_showroom_price      year_cat  year_int  \n",
       "0  1st owner        350                NaN  [2016, 2020)        32  \n",
       "1  1st owner       5650                NaN  [2016, 2020)        30  \n",
       "2  1st owner      12000           148114.0  [2016, 2020)        31  \n",
       "3  1st owner      23000            89643.0  [2012, 2016)        28  \n",
       "4  2nd owner      21000                NaN  [2008, 2012)        24  "
      ]
     },
     "execution_count": 70,
     "metadata": {},
     "output_type": "execute_result"
    }
   ],
   "source": [
    "bike_data.head()"
   ]
  },
  {
   "cell_type": "code",
   "execution_count": 125,
   "id": "c7fa677c-0bbe-4542-9c65-a8e3d68974a7",
   "metadata": {},
   "outputs": [
    {
     "data": {
      "text/html": [
       "<div>\n",
       "<style scoped>\n",
       "    .dataframe tbody tr th:only-of-type {\n",
       "        vertical-align: middle;\n",
       "    }\n",
       "\n",
       "    .dataframe tbody tr th {\n",
       "        vertical-align: top;\n",
       "    }\n",
       "\n",
       "    .dataframe thead tr th {\n",
       "        text-align: left;\n",
       "    }\n",
       "\n",
       "    .dataframe thead tr:last-of-type th {\n",
       "        text-align: right;\n",
       "    }\n",
       "</style>\n",
       "<table border=\"1\" class=\"dataframe\">\n",
       "  <thead>\n",
       "    <tr>\n",
       "      <th></th>\n",
       "      <th colspan=\"4\" halign=\"left\">ex_showroom_price</th>\n",
       "      <th colspan=\"4\" halign=\"left\">km_driven</th>\n",
       "      <th colspan=\"4\" halign=\"left\">selling_price</th>\n",
       "    </tr>\n",
       "    <tr>\n",
       "      <th></th>\n",
       "      <th>max</th>\n",
       "      <th>mean</th>\n",
       "      <th>min</th>\n",
       "      <th>std</th>\n",
       "      <th>max</th>\n",
       "      <th>mean</th>\n",
       "      <th>min</th>\n",
       "      <th>std</th>\n",
       "      <th>max</th>\n",
       "      <th>mean</th>\n",
       "      <th>min</th>\n",
       "      <th>std</th>\n",
       "    </tr>\n",
       "    <tr>\n",
       "      <th>seller_type</th>\n",
       "      <th></th>\n",
       "      <th></th>\n",
       "      <th></th>\n",
       "      <th></th>\n",
       "      <th></th>\n",
       "      <th></th>\n",
       "      <th></th>\n",
       "      <th></th>\n",
       "      <th></th>\n",
       "      <th></th>\n",
       "      <th></th>\n",
       "      <th></th>\n",
       "    </tr>\n",
       "  </thead>\n",
       "  <tbody>\n",
       "    <tr>\n",
       "      <th>Dealer</th>\n",
       "      <td>118997.0</td>\n",
       "      <td>88536.00</td>\n",
       "      <td>61600.0</td>\n",
       "      <td>28860.41</td>\n",
       "      <td>100000</td>\n",
       "      <td>35258.83</td>\n",
       "      <td>5500</td>\n",
       "      <td>37470.92</td>\n",
       "      <td>80000</td>\n",
       "      <td>46666.67</td>\n",
       "      <td>15000</td>\n",
       "      <td>25734.54</td>\n",
       "    </tr>\n",
       "    <tr>\n",
       "      <th>Individual</th>\n",
       "      <td>1278000.0</td>\n",
       "      <td>87955.93</td>\n",
       "      <td>30490.0</td>\n",
       "      <td>77666.00</td>\n",
       "      <td>880000</td>\n",
       "      <td>34354.72</td>\n",
       "      <td>350</td>\n",
       "      <td>51705.46</td>\n",
       "      <td>760000</td>\n",
       "      <td>59711.92</td>\n",
       "      <td>5000</td>\n",
       "      <td>56427.96</td>\n",
       "    </tr>\n",
       "  </tbody>\n",
       "</table>\n",
       "</div>"
      ],
      "text/plain": [
       "            ex_showroom_price                              km_driven  \\\n",
       "                          max      mean      min       std       max   \n",
       "seller_type                                                            \n",
       "Dealer               118997.0  88536.00  61600.0  28860.41    100000   \n",
       "Individual          1278000.0  87955.93  30490.0  77666.00    880000   \n",
       "\n",
       "                                      selling_price                             \n",
       "                 mean   min       std           max      mean    min       std  \n",
       "seller_type                                                                     \n",
       "Dealer       35258.83  5500  37470.92         80000  46666.67  15000  25734.54  \n",
       "Individual   34354.72   350  51705.46        760000  59711.92   5000  56427.96  "
      ]
     },
     "execution_count": 125,
     "metadata": {},
     "output_type": "execute_result"
    }
   ],
   "source": [
    "pd.pivot_table(bike_data, values = [\"selling_price\", \"ex_showroom_price\", \"km_driven\"],\n",
    "               index = [\"seller_type\"], aggfunc = (\"min\", \"max\", \"mean\", \"std\")).round(2)\n",
    "# pd.pivot_table(bike_data, values = [\"selling_price\", \"ex_showroom_price\", \"km_driven\"],\n",
    "#               index = \"owner\", aggfunc = [\"mean\", \"std\", \"q25\", \"median\", \"q75\"])"
   ]
  },
  {
   "cell_type": "code",
   "execution_count": 120,
   "id": "989a07c6-8db9-4a08-b6fa-7d22cf971b84",
   "metadata": {},
   "outputs": [
    {
     "data": {
      "text/html": [
       "<div>\n",
       "<style scoped>\n",
       "    .dataframe tbody tr th:only-of-type {\n",
       "        vertical-align: middle;\n",
       "    }\n",
       "\n",
       "    .dataframe tbody tr th {\n",
       "        vertical-align: top;\n",
       "    }\n",
       "\n",
       "    .dataframe thead tr th {\n",
       "        text-align: left;\n",
       "    }\n",
       "\n",
       "    .dataframe thead tr:last-of-type th {\n",
       "        text-align: right;\n",
       "    }\n",
       "</style>\n",
       "<table border=\"1\" class=\"dataframe\">\n",
       "  <thead>\n",
       "    <tr>\n",
       "      <th></th>\n",
       "      <th colspan=\"4\" halign=\"left\">ex_showroom_price</th>\n",
       "      <th colspan=\"4\" halign=\"left\">km_driven</th>\n",
       "      <th colspan=\"4\" halign=\"left\">selling_price</th>\n",
       "    </tr>\n",
       "    <tr>\n",
       "      <th></th>\n",
       "      <th>max</th>\n",
       "      <th>mean</th>\n",
       "      <th>min</th>\n",
       "      <th>std</th>\n",
       "      <th>max</th>\n",
       "      <th>mean</th>\n",
       "      <th>min</th>\n",
       "      <th>std</th>\n",
       "      <th>max</th>\n",
       "      <th>mean</th>\n",
       "      <th>min</th>\n",
       "      <th>std</th>\n",
       "    </tr>\n",
       "    <tr>\n",
       "      <th>owner</th>\n",
       "      <th></th>\n",
       "      <th></th>\n",
       "      <th></th>\n",
       "      <th></th>\n",
       "      <th></th>\n",
       "      <th></th>\n",
       "      <th></th>\n",
       "      <th></th>\n",
       "      <th></th>\n",
       "      <th></th>\n",
       "      <th></th>\n",
       "      <th></th>\n",
       "    </tr>\n",
       "  </thead>\n",
       "  <tbody>\n",
       "    <tr>\n",
       "      <th>1st owner</th>\n",
       "      <td>752020.0</td>\n",
       "      <td>84362.80</td>\n",
       "      <td>30490.0</td>\n",
       "      <td>54520.04</td>\n",
       "      <td>646000</td>\n",
       "      <td>32816.58</td>\n",
       "      <td>350</td>\n",
       "      <td>45870.37</td>\n",
       "      <td>760000</td>\n",
       "      <td>60022.81</td>\n",
       "      <td>5000</td>\n",
       "      <td>51542.57</td>\n",
       "    </tr>\n",
       "    <tr>\n",
       "      <th>2nd owner</th>\n",
       "      <td>1278000.0</td>\n",
       "      <td>112554.65</td>\n",
       "      <td>42859.0</td>\n",
       "      <td>168949.65</td>\n",
       "      <td>340000</td>\n",
       "      <td>39288.99</td>\n",
       "      <td>3500</td>\n",
       "      <td>35886.63</td>\n",
       "      <td>750000</td>\n",
       "      <td>55666.66</td>\n",
       "      <td>6000</td>\n",
       "      <td>81671.92</td>\n",
       "    </tr>\n",
       "    <tr>\n",
       "      <th>3rd owner</th>\n",
       "      <td>84751.0</td>\n",
       "      <td>64611.00</td>\n",
       "      <td>44493.0</td>\n",
       "      <td>20129.01</td>\n",
       "      <td>70000</td>\n",
       "      <td>33292.18</td>\n",
       "      <td>5000</td>\n",
       "      <td>20934.50</td>\n",
       "      <td>150000</td>\n",
       "      <td>55727.27</td>\n",
       "      <td>20000</td>\n",
       "      <td>38385.13</td>\n",
       "    </tr>\n",
       "    <tr>\n",
       "      <th>4th owner</th>\n",
       "      <td>534000.0</td>\n",
       "      <td>534000.00</td>\n",
       "      <td>534000.0</td>\n",
       "      <td>NaN</td>\n",
       "      <td>880000</td>\n",
       "      <td>311500.00</td>\n",
       "      <td>6500</td>\n",
       "      <td>492772.51</td>\n",
       "      <td>330000</td>\n",
       "      <td>118333.33</td>\n",
       "      <td>10000</td>\n",
       "      <td>183325.76</td>\n",
       "    </tr>\n",
       "  </tbody>\n",
       "</table>\n",
       "</div>"
      ],
      "text/plain": [
       "          ex_showroom_price                                 km_driven  \\\n",
       "                        max       mean       min        std       max   \n",
       "owner                                                                   \n",
       "1st owner          752020.0   84362.80   30490.0   54520.04    646000   \n",
       "2nd owner         1278000.0  112554.65   42859.0  168949.65    340000   \n",
       "3rd owner           84751.0   64611.00   44493.0   20129.01     70000   \n",
       "4th owner          534000.0  534000.00  534000.0        NaN    880000   \n",
       "\n",
       "                                      selling_price                    \\\n",
       "                mean   min        std           max       mean    min   \n",
       "owner                                                                   \n",
       "1st owner   32816.58   350   45870.37        760000   60022.81   5000   \n",
       "2nd owner   39288.99  3500   35886.63        750000   55666.66   6000   \n",
       "3rd owner   33292.18  5000   20934.50        150000   55727.27  20000   \n",
       "4th owner  311500.00  6500  492772.51        330000  118333.33  10000   \n",
       "\n",
       "                      \n",
       "                 std  \n",
       "owner                 \n",
       "1st owner   51542.57  \n",
       "2nd owner   81671.92  \n",
       "3rd owner   38385.13  \n",
       "4th owner  183325.76  "
      ]
     },
     "execution_count": 120,
     "metadata": {},
     "output_type": "execute_result"
    }
   ],
   "source": [
    "pd.pivot_table(bike_data, values = [\"selling_price\", \"ex_showroom_price\", \"km_driven\"],\n",
    "               index = [\"owner\"], aggfunc = (\"min\", \"max\", \"mean\", \"std\")).round(2)"
   ]
  },
  {
   "cell_type": "code",
   "execution_count": 127,
   "id": "309d9986-c2a0-419b-ad5a-7c9e59dbe141",
   "metadata": {},
   "outputs": [
    {
     "data": {
      "text/html": [
       "<div>\n",
       "<style scoped>\n",
       "    .dataframe tbody tr th:only-of-type {\n",
       "        vertical-align: middle;\n",
       "    }\n",
       "\n",
       "    .dataframe tbody tr th {\n",
       "        vertical-align: top;\n",
       "    }\n",
       "\n",
       "    .dataframe thead tr th {\n",
       "        text-align: left;\n",
       "    }\n",
       "\n",
       "    .dataframe thead tr:last-of-type th {\n",
       "        text-align: right;\n",
       "    }\n",
       "</style>\n",
       "<table border=\"1\" class=\"dataframe\">\n",
       "  <thead>\n",
       "    <tr>\n",
       "      <th></th>\n",
       "      <th colspan=\"4\" halign=\"left\">ex_showroom_price</th>\n",
       "      <th colspan=\"4\" halign=\"left\">km_driven</th>\n",
       "      <th colspan=\"4\" halign=\"left\">selling_price</th>\n",
       "    </tr>\n",
       "    <tr>\n",
       "      <th></th>\n",
       "      <th>max</th>\n",
       "      <th>mean</th>\n",
       "      <th>min</th>\n",
       "      <th>std</th>\n",
       "      <th>max</th>\n",
       "      <th>mean</th>\n",
       "      <th>min</th>\n",
       "      <th>std</th>\n",
       "      <th>max</th>\n",
       "      <th>mean</th>\n",
       "      <th>min</th>\n",
       "      <th>std</th>\n",
       "    </tr>\n",
       "    <tr>\n",
       "      <th>year_cat</th>\n",
       "      <th></th>\n",
       "      <th></th>\n",
       "      <th></th>\n",
       "      <th></th>\n",
       "      <th></th>\n",
       "      <th></th>\n",
       "      <th></th>\n",
       "      <th></th>\n",
       "      <th></th>\n",
       "      <th></th>\n",
       "      <th></th>\n",
       "      <th></th>\n",
       "    </tr>\n",
       "  </thead>\n",
       "  <tbody>\n",
       "    <tr>\n",
       "      <th>[1988, 1992)</th>\n",
       "      <td>NaN</td>\n",
       "      <td>NaN</td>\n",
       "      <td>NaN</td>\n",
       "      <td>NaN</td>\n",
       "      <td>35000</td>\n",
       "      <td>28000.00</td>\n",
       "      <td>21000</td>\n",
       "      <td>9899.49</td>\n",
       "      <td>20000</td>\n",
       "      <td>13000.00</td>\n",
       "      <td>6000</td>\n",
       "      <td>9899.49</td>\n",
       "    </tr>\n",
       "    <tr>\n",
       "      <th>[1992, 1996)</th>\n",
       "      <td>NaN</td>\n",
       "      <td>NaN</td>\n",
       "      <td>NaN</td>\n",
       "      <td>NaN</td>\n",
       "      <td>20000</td>\n",
       "      <td>15000.00</td>\n",
       "      <td>10000</td>\n",
       "      <td>7071.07</td>\n",
       "      <td>150000</td>\n",
       "      <td>140000.00</td>\n",
       "      <td>130000</td>\n",
       "      <td>14142.14</td>\n",
       "    </tr>\n",
       "    <tr>\n",
       "      <th>[1996, 2000)</th>\n",
       "      <td>NaN</td>\n",
       "      <td>NaN</td>\n",
       "      <td>NaN</td>\n",
       "      <td>NaN</td>\n",
       "      <td>646000</td>\n",
       "      <td>140475.67</td>\n",
       "      <td>10000</td>\n",
       "      <td>248664.34</td>\n",
       "      <td>65000</td>\n",
       "      <td>22500.00</td>\n",
       "      <td>5000</td>\n",
       "      <td>21851.77</td>\n",
       "    </tr>\n",
       "    <tr>\n",
       "      <th>[2000, 2004)</th>\n",
       "      <td>54852.0</td>\n",
       "      <td>54852.00</td>\n",
       "      <td>54852.0</td>\n",
       "      <td>NaN</td>\n",
       "      <td>66191</td>\n",
       "      <td>39057.58</td>\n",
       "      <td>4000</td>\n",
       "      <td>20592.50</td>\n",
       "      <td>70000</td>\n",
       "      <td>22916.67</td>\n",
       "      <td>8000</td>\n",
       "      <td>20830.30</td>\n",
       "    </tr>\n",
       "    <tr>\n",
       "      <th>[2004, 2008)</th>\n",
       "      <td>85011.0</td>\n",
       "      <td>59888.00</td>\n",
       "      <td>46575.0</td>\n",
       "      <td>13621.10</td>\n",
       "      <td>127000</td>\n",
       "      <td>54082.31</td>\n",
       "      <td>3500</td>\n",
       "      <td>28868.67</td>\n",
       "      <td>99000</td>\n",
       "      <td>22113.24</td>\n",
       "      <td>6000</td>\n",
       "      <td>17297.85</td>\n",
       "    </tr>\n",
       "    <tr>\n",
       "      <th>[2008, 2012)</th>\n",
       "      <td>589000.0</td>\n",
       "      <td>77059.20</td>\n",
       "      <td>37675.0</td>\n",
       "      <td>67452.90</td>\n",
       "      <td>880000</td>\n",
       "      <td>56541.59</td>\n",
       "      <td>1900</td>\n",
       "      <td>87708.57</td>\n",
       "      <td>300000</td>\n",
       "      <td>32012.42</td>\n",
       "      <td>7500</td>\n",
       "      <td>28957.01</td>\n",
       "    </tr>\n",
       "    <tr>\n",
       "      <th>[2012, 2016)</th>\n",
       "      <td>1278000.0</td>\n",
       "      <td>83894.82</td>\n",
       "      <td>42859.0</td>\n",
       "      <td>90586.41</td>\n",
       "      <td>500000</td>\n",
       "      <td>36215.19</td>\n",
       "      <td>1200</td>\n",
       "      <td>40867.24</td>\n",
       "      <td>750000</td>\n",
       "      <td>48844.87</td>\n",
       "      <td>12000</td>\n",
       "      <td>49468.32</td>\n",
       "    </tr>\n",
       "    <tr>\n",
       "      <th>[2016, 2020)</th>\n",
       "      <td>752020.0</td>\n",
       "      <td>95288.69</td>\n",
       "      <td>30490.0</td>\n",
       "      <td>69371.29</td>\n",
       "      <td>345000</td>\n",
       "      <td>20293.67</td>\n",
       "      <td>350</td>\n",
       "      <td>24234.46</td>\n",
       "      <td>760000</td>\n",
       "      <td>84301.95</td>\n",
       "      <td>18000</td>\n",
       "      <td>61682.03</td>\n",
       "    </tr>\n",
       "  </tbody>\n",
       "</table>\n",
       "</div>"
      ],
      "text/plain": [
       "             ex_showroom_price                              km_driven  \\\n",
       "                           max      mean      min       std       max   \n",
       "year_cat                                                                \n",
       "[1988, 1992)               NaN       NaN      NaN       NaN     35000   \n",
       "[1992, 1996)               NaN       NaN      NaN       NaN     20000   \n",
       "[1996, 2000)               NaN       NaN      NaN       NaN    646000   \n",
       "[2000, 2004)           54852.0  54852.00  54852.0       NaN     66191   \n",
       "[2004, 2008)           85011.0  59888.00  46575.0  13621.10    127000   \n",
       "[2008, 2012)          589000.0  77059.20  37675.0  67452.90    880000   \n",
       "[2012, 2016)         1278000.0  83894.82  42859.0  90586.41    500000   \n",
       "[2016, 2020)          752020.0  95288.69  30490.0  69371.29    345000   \n",
       "\n",
       "                                          selling_price                     \\\n",
       "                   mean    min        std           max       mean     min   \n",
       "year_cat                                                                     \n",
       "[1988, 1992)   28000.00  21000    9899.49         20000   13000.00    6000   \n",
       "[1992, 1996)   15000.00  10000    7071.07        150000  140000.00  130000   \n",
       "[1996, 2000)  140475.67  10000  248664.34         65000   22500.00    5000   \n",
       "[2000, 2004)   39057.58   4000   20592.50         70000   22916.67    8000   \n",
       "[2004, 2008)   54082.31   3500   28868.67         99000   22113.24    6000   \n",
       "[2008, 2012)   56541.59   1900   87708.57        300000   32012.42    7500   \n",
       "[2012, 2016)   36215.19   1200   40867.24        750000   48844.87   12000   \n",
       "[2016, 2020)   20293.67    350   24234.46        760000   84301.95   18000   \n",
       "\n",
       "                        \n",
       "                   std  \n",
       "year_cat                \n",
       "[1988, 1992)   9899.49  \n",
       "[1992, 1996)  14142.14  \n",
       "[1996, 2000)  21851.77  \n",
       "[2000, 2004)  20830.30  \n",
       "[2004, 2008)  17297.85  \n",
       "[2008, 2012)  28957.01  \n",
       "[2012, 2016)  49468.32  \n",
       "[2016, 2020)  61682.03  "
      ]
     },
     "execution_count": 127,
     "metadata": {},
     "output_type": "execute_result"
    }
   ],
   "source": [
    "pd.pivot_table(bike_data, values = [\"selling_price\", \"ex_showroom_price\", \"km_driven\"],\n",
    "               index = [\"year_cat\"], aggfunc = (\"min\", \"max\", \"mean\", \"std\")).round(2)"
   ]
  },
  {
   "cell_type": "code",
   "execution_count": 134,
   "id": "6519081f-b7d0-411d-b6a3-762bdc0d35bb",
   "metadata": {},
   "outputs": [
    {
     "ename": "KeyError",
     "evalue": "'season'",
     "output_type": "error",
     "traceback": [
      "\u001b[0;31m---------------------------------------------------------------------------\u001b[0m",
      "\u001b[0;31mKeyError\u001b[0m                                  Traceback (most recent call last)",
      "Input \u001b[0;32mIn [134]\u001b[0m, in \u001b[0;36m<module>\u001b[0;34m\u001b[0m\n\u001b[0;32m----> 1\u001b[0m max_selling \u001b[38;5;241m=\u001b[39m \u001b[43mbike_data\u001b[49m\u001b[38;5;241;43m.\u001b[39;49m\u001b[43mgroupby\u001b[49m\u001b[43m(\u001b[49m\u001b[38;5;124;43m\"\u001b[39;49m\u001b[38;5;124;43mseason\u001b[39;49m\u001b[38;5;124;43m\"\u001b[39;49m\u001b[43m,\u001b[49m\u001b[43m \u001b[49m\u001b[43maxis\u001b[49m\u001b[43m \u001b[49m\u001b[38;5;241;43m=\u001b[39;49m\u001b[43m \u001b[49m\u001b[38;5;241;43m1\u001b[39;49m\u001b[43m)\u001b[49m\u001b[38;5;241m.\u001b[39mdropna(axis \u001b[38;5;241m=\u001b[39m \u001b[38;5;241m0\u001b[39m)\\\n\u001b[1;32m      2\u001b[0m \u001b[38;5;241m.\u001b[39magg(\n\u001b[1;32m      3\u001b[0m     max_selling \u001b[38;5;241m=\u001b[39m (\u001b[38;5;124m\"\u001b[39m\u001b[38;5;124mselling_price\u001b[39m\u001b[38;5;124m\"\u001b[39m, \u001b[38;5;28mmax\u001b[39m), \n\u001b[1;32m      4\u001b[0m     max_showroom \u001b[38;5;241m=\u001b[39m (\u001b[38;5;124m\"\u001b[39m\u001b[38;5;124mex_showroom_price\u001b[39m\u001b[38;5;124m\"\u001b[39m, \u001b[38;5;28mmax\u001b[39m),\n\u001b[1;32m      5\u001b[0m     median_sellling \u001b[38;5;241m=\u001b[39m (\u001b[38;5;124m\"\u001b[39m\u001b[38;5;124mselling_price\u001b[39m\u001b[38;5;124m\"\u001b[39m, np\u001b[38;5;241m.\u001b[39mmedian), \n\u001b[1;32m      6\u001b[0m     median_showroom \u001b[38;5;241m=\u001b[39m (\u001b[38;5;124m\"\u001b[39m\u001b[38;5;124mex_showroom_price\u001b[39m\u001b[38;5;124m\"\u001b[39m, np\u001b[38;5;241m.\u001b[39mmedian),\n\u001b[1;32m      7\u001b[0m     min_selling \u001b[38;5;241m=\u001b[39m (\u001b[38;5;124m\"\u001b[39m\u001b[38;5;124mselling_price\u001b[39m\u001b[38;5;124m\"\u001b[39m, \u001b[38;5;28mmin\u001b[39m), \n\u001b[1;32m      8\u001b[0m     min_showroom \u001b[38;5;241m=\u001b[39m (\u001b[38;5;124m\"\u001b[39m\u001b[38;5;124mex_showroom_price\u001b[39m\u001b[38;5;124m\"\u001b[39m, \u001b[38;5;28mmin\u001b[39m)\n\u001b[1;32m      9\u001b[0m )\n",
      "File \u001b[0;32m/Library/Frameworks/Python.framework/Versions/3.10/lib/python3.10/site-packages/pandas/core/frame.py:7714\u001b[0m, in \u001b[0;36mDataFrame.groupby\u001b[0;34m(self, by, axis, level, as_index, sort, group_keys, squeeze, observed, dropna)\u001b[0m\n\u001b[1;32m   7709\u001b[0m axis \u001b[38;5;241m=\u001b[39m \u001b[38;5;28mself\u001b[39m\u001b[38;5;241m.\u001b[39m_get_axis_number(axis)\n\u001b[1;32m   7711\u001b[0m \u001b[38;5;66;03m# https://github.com/python/mypy/issues/7642\u001b[39;00m\n\u001b[1;32m   7712\u001b[0m \u001b[38;5;66;03m# error: Argument \"squeeze\" to \"DataFrameGroupBy\" has incompatible type\u001b[39;00m\n\u001b[1;32m   7713\u001b[0m \u001b[38;5;66;03m# \"Union[bool, NoDefault]\"; expected \"bool\"\u001b[39;00m\n\u001b[0;32m-> 7714\u001b[0m \u001b[38;5;28;01mreturn\u001b[39;00m \u001b[43mDataFrameGroupBy\u001b[49m\u001b[43m(\u001b[49m\n\u001b[1;32m   7715\u001b[0m \u001b[43m    \u001b[49m\u001b[43mobj\u001b[49m\u001b[38;5;241;43m=\u001b[39;49m\u001b[38;5;28;43mself\u001b[39;49m\u001b[43m,\u001b[49m\n\u001b[1;32m   7716\u001b[0m \u001b[43m    \u001b[49m\u001b[43mkeys\u001b[49m\u001b[38;5;241;43m=\u001b[39;49m\u001b[43mby\u001b[49m\u001b[43m,\u001b[49m\n\u001b[1;32m   7717\u001b[0m \u001b[43m    \u001b[49m\u001b[43maxis\u001b[49m\u001b[38;5;241;43m=\u001b[39;49m\u001b[43maxis\u001b[49m\u001b[43m,\u001b[49m\n\u001b[1;32m   7718\u001b[0m \u001b[43m    \u001b[49m\u001b[43mlevel\u001b[49m\u001b[38;5;241;43m=\u001b[39;49m\u001b[43mlevel\u001b[49m\u001b[43m,\u001b[49m\n\u001b[1;32m   7719\u001b[0m \u001b[43m    \u001b[49m\u001b[43mas_index\u001b[49m\u001b[38;5;241;43m=\u001b[39;49m\u001b[43mas_index\u001b[49m\u001b[43m,\u001b[49m\n\u001b[1;32m   7720\u001b[0m \u001b[43m    \u001b[49m\u001b[43msort\u001b[49m\u001b[38;5;241;43m=\u001b[39;49m\u001b[43msort\u001b[49m\u001b[43m,\u001b[49m\n\u001b[1;32m   7721\u001b[0m \u001b[43m    \u001b[49m\u001b[43mgroup_keys\u001b[49m\u001b[38;5;241;43m=\u001b[39;49m\u001b[43mgroup_keys\u001b[49m\u001b[43m,\u001b[49m\n\u001b[1;32m   7722\u001b[0m \u001b[43m    \u001b[49m\u001b[43msqueeze\u001b[49m\u001b[38;5;241;43m=\u001b[39;49m\u001b[43msqueeze\u001b[49m\u001b[43m,\u001b[49m\u001b[43m  \u001b[49m\u001b[38;5;66;43;03m# type: ignore[arg-type]\u001b[39;49;00m\n\u001b[1;32m   7723\u001b[0m \u001b[43m    \u001b[49m\u001b[43mobserved\u001b[49m\u001b[38;5;241;43m=\u001b[39;49m\u001b[43mobserved\u001b[49m\u001b[43m,\u001b[49m\n\u001b[1;32m   7724\u001b[0m \u001b[43m    \u001b[49m\u001b[43mdropna\u001b[49m\u001b[38;5;241;43m=\u001b[39;49m\u001b[43mdropna\u001b[49m\u001b[43m,\u001b[49m\n\u001b[1;32m   7725\u001b[0m \u001b[43m\u001b[49m\u001b[43m)\u001b[49m\n",
      "File \u001b[0;32m/Library/Frameworks/Python.framework/Versions/3.10/lib/python3.10/site-packages/pandas/core/groupby/groupby.py:882\u001b[0m, in \u001b[0;36mGroupBy.__init__\u001b[0;34m(self, obj, keys, axis, level, grouper, exclusions, selection, as_index, sort, group_keys, squeeze, observed, mutated, dropna)\u001b[0m\n\u001b[1;32m    879\u001b[0m \u001b[38;5;28;01mif\u001b[39;00m grouper \u001b[38;5;129;01mis\u001b[39;00m \u001b[38;5;28;01mNone\u001b[39;00m:\n\u001b[1;32m    880\u001b[0m     \u001b[38;5;28;01mfrom\u001b[39;00m \u001b[38;5;21;01mpandas\u001b[39;00m\u001b[38;5;21;01m.\u001b[39;00m\u001b[38;5;21;01mcore\u001b[39;00m\u001b[38;5;21;01m.\u001b[39;00m\u001b[38;5;21;01mgroupby\u001b[39;00m\u001b[38;5;21;01m.\u001b[39;00m\u001b[38;5;21;01mgrouper\u001b[39;00m \u001b[38;5;28;01mimport\u001b[39;00m get_grouper\n\u001b[0;32m--> 882\u001b[0m     grouper, exclusions, obj \u001b[38;5;241m=\u001b[39m \u001b[43mget_grouper\u001b[49m\u001b[43m(\u001b[49m\n\u001b[1;32m    883\u001b[0m \u001b[43m        \u001b[49m\u001b[43mobj\u001b[49m\u001b[43m,\u001b[49m\n\u001b[1;32m    884\u001b[0m \u001b[43m        \u001b[49m\u001b[43mkeys\u001b[49m\u001b[43m,\u001b[49m\n\u001b[1;32m    885\u001b[0m \u001b[43m        \u001b[49m\u001b[43maxis\u001b[49m\u001b[38;5;241;43m=\u001b[39;49m\u001b[43maxis\u001b[49m\u001b[43m,\u001b[49m\n\u001b[1;32m    886\u001b[0m \u001b[43m        \u001b[49m\u001b[43mlevel\u001b[49m\u001b[38;5;241;43m=\u001b[39;49m\u001b[43mlevel\u001b[49m\u001b[43m,\u001b[49m\n\u001b[1;32m    887\u001b[0m \u001b[43m        \u001b[49m\u001b[43msort\u001b[49m\u001b[38;5;241;43m=\u001b[39;49m\u001b[43msort\u001b[49m\u001b[43m,\u001b[49m\n\u001b[1;32m    888\u001b[0m \u001b[43m        \u001b[49m\u001b[43mobserved\u001b[49m\u001b[38;5;241;43m=\u001b[39;49m\u001b[43mobserved\u001b[49m\u001b[43m,\u001b[49m\n\u001b[1;32m    889\u001b[0m \u001b[43m        \u001b[49m\u001b[43mmutated\u001b[49m\u001b[38;5;241;43m=\u001b[39;49m\u001b[38;5;28;43mself\u001b[39;49m\u001b[38;5;241;43m.\u001b[39;49m\u001b[43mmutated\u001b[49m\u001b[43m,\u001b[49m\n\u001b[1;32m    890\u001b[0m \u001b[43m        \u001b[49m\u001b[43mdropna\u001b[49m\u001b[38;5;241;43m=\u001b[39;49m\u001b[38;5;28;43mself\u001b[39;49m\u001b[38;5;241;43m.\u001b[39;49m\u001b[43mdropna\u001b[49m\u001b[43m,\u001b[49m\n\u001b[1;32m    891\u001b[0m \u001b[43m    \u001b[49m\u001b[43m)\u001b[49m\n\u001b[1;32m    893\u001b[0m \u001b[38;5;28mself\u001b[39m\u001b[38;5;241m.\u001b[39mobj \u001b[38;5;241m=\u001b[39m obj\n\u001b[1;32m    894\u001b[0m \u001b[38;5;28mself\u001b[39m\u001b[38;5;241m.\u001b[39maxis \u001b[38;5;241m=\u001b[39m obj\u001b[38;5;241m.\u001b[39m_get_axis_number(axis)\n",
      "File \u001b[0;32m/Library/Frameworks/Python.framework/Versions/3.10/lib/python3.10/site-packages/pandas/core/groupby/grouper.py:882\u001b[0m, in \u001b[0;36mget_grouper\u001b[0;34m(obj, key, axis, level, sort, observed, mutated, validate, dropna)\u001b[0m\n\u001b[1;32m    880\u001b[0m         in_axis, level, gpr \u001b[38;5;241m=\u001b[39m \u001b[38;5;28;01mFalse\u001b[39;00m, gpr, \u001b[38;5;28;01mNone\u001b[39;00m\n\u001b[1;32m    881\u001b[0m     \u001b[38;5;28;01melse\u001b[39;00m:\n\u001b[0;32m--> 882\u001b[0m         \u001b[38;5;28;01mraise\u001b[39;00m \u001b[38;5;167;01mKeyError\u001b[39;00m(gpr)\n\u001b[1;32m    883\u001b[0m \u001b[38;5;28;01melif\u001b[39;00m \u001b[38;5;28misinstance\u001b[39m(gpr, Grouper) \u001b[38;5;129;01mand\u001b[39;00m gpr\u001b[38;5;241m.\u001b[39mkey \u001b[38;5;129;01mis\u001b[39;00m \u001b[38;5;129;01mnot\u001b[39;00m \u001b[38;5;28;01mNone\u001b[39;00m:\n\u001b[1;32m    884\u001b[0m     \u001b[38;5;66;03m# Add key to exclusions\u001b[39;00m\n\u001b[1;32m    885\u001b[0m     exclusions\u001b[38;5;241m.\u001b[39madd(gpr\u001b[38;5;241m.\u001b[39mkey)\n",
      "\u001b[0;31mKeyError\u001b[0m: 'season'"
     ]
    }
   ],
   "source": [
    "max_selling = bike_data.groupby(\"season\", axis = 1).dropna(axis = 0)\\\n",
    ".agg(\n",
    "    max_selling = (\"selling_price\", max), \n",
    "    max_showroom = (\"ex_showroom_price\", max),\n",
    "    median_sellling = (\"selling_price\", np.median), \n",
    "    median_showroom = (\"ex_showroom_price\", np.median),\n",
    "    min_selling = (\"selling_price\", min), \n",
    "    min_showroom = (\"ex_showroom_price\", min)\n",
    ")"
   ]
  },
  {
   "cell_type": "markdown",
   "id": "99ae62c8-e755-4d38-bba2-7ed4bf7ff142",
   "metadata": {},
   "source": [
    "## George's EDA"
   ]
  },
  {
   "cell_type": "code",
   "execution_count": 112,
   "id": "0afc7a5e-0cd4-43e2-adfb-146150eecad9",
   "metadata": {},
   "outputs": [
    {
     "data": {
      "text/html": [
       "<div>\n",
       "<style scoped>\n",
       "    .dataframe tbody tr th:only-of-type {\n",
       "        vertical-align: middle;\n",
       "    }\n",
       "\n",
       "    .dataframe tbody tr th {\n",
       "        vertical-align: top;\n",
       "    }\n",
       "\n",
       "    .dataframe thead th {\n",
       "        text-align: right;\n",
       "    }\n",
       "</style>\n",
       "<table border=\"1\" class=\"dataframe\">\n",
       "  <thead>\n",
       "    <tr style=\"text-align: right;\">\n",
       "      <th></th>\n",
       "      <th>selling_price</th>\n",
       "      <th>year</th>\n",
       "      <th>km_driven</th>\n",
       "      <th>ex_showroom_price</th>\n",
       "    </tr>\n",
       "  </thead>\n",
       "  <tbody>\n",
       "    <tr>\n",
       "      <th>count</th>\n",
       "      <td>1061.00</td>\n",
       "      <td>1061.00</td>\n",
       "      <td>1061.00</td>\n",
       "      <td>626.00</td>\n",
       "    </tr>\n",
       "    <tr>\n",
       "      <th>mean</th>\n",
       "      <td>59638.15</td>\n",
       "      <td>2013.87</td>\n",
       "      <td>34359.83</td>\n",
       "      <td>87958.71</td>\n",
       "    </tr>\n",
       "    <tr>\n",
       "      <th>std</th>\n",
       "      <td>56304.29</td>\n",
       "      <td>4.30</td>\n",
       "      <td>51623.15</td>\n",
       "      <td>77496.59</td>\n",
       "    </tr>\n",
       "    <tr>\n",
       "      <th>min</th>\n",
       "      <td>5000.00</td>\n",
       "      <td>1988.00</td>\n",
       "      <td>350.00</td>\n",
       "      <td>30490.00</td>\n",
       "    </tr>\n",
       "    <tr>\n",
       "      <th>25%</th>\n",
       "      <td>28000.00</td>\n",
       "      <td>2011.00</td>\n",
       "      <td>13500.00</td>\n",
       "      <td>54852.00</td>\n",
       "    </tr>\n",
       "    <tr>\n",
       "      <th>50%</th>\n",
       "      <td>45000.00</td>\n",
       "      <td>2015.00</td>\n",
       "      <td>25000.00</td>\n",
       "      <td>72752.50</td>\n",
       "    </tr>\n",
       "    <tr>\n",
       "      <th>75%</th>\n",
       "      <td>70000.00</td>\n",
       "      <td>2017.00</td>\n",
       "      <td>43000.00</td>\n",
       "      <td>87031.50</td>\n",
       "    </tr>\n",
       "    <tr>\n",
       "      <th>max</th>\n",
       "      <td>760000.00</td>\n",
       "      <td>2020.00</td>\n",
       "      <td>880000.00</td>\n",
       "      <td>1278000.00</td>\n",
       "    </tr>\n",
       "  </tbody>\n",
       "</table>\n",
       "</div>"
      ],
      "text/plain": [
       "       selling_price     year  km_driven  ex_showroom_price\n",
       "count        1061.00  1061.00    1061.00             626.00\n",
       "mean        59638.15  2013.87   34359.83           87958.71\n",
       "std         56304.29     4.30   51623.15           77496.59\n",
       "min          5000.00  1988.00     350.00           30490.00\n",
       "25%         28000.00  2011.00   13500.00           54852.00\n",
       "50%         45000.00  2015.00   25000.00           72752.50\n",
       "75%         70000.00  2017.00   43000.00           87031.50\n",
       "max        760000.00  2020.00  880000.00         1278000.00"
      ]
     },
     "execution_count": 112,
     "metadata": {},
     "output_type": "execute_result"
    }
   ],
   "source": [
    "#using the .describe() method to get a first look at the numeric variables in the dataset. Although you would not necessarily perform math on the listed years for each bike, seeing info like the average year is meaningful.\n",
    "bike_data.drop([\"year_int\"], axis = 1).describe().round(2)"
   ]
  },
  {
   "cell_type": "code",
   "execution_count": 40,
   "id": "5ef4126e-1876-4f34-b85c-3143d3061f33",
   "metadata": {},
   "outputs": [
    {
     "data": {
      "text/plain": [
       "Index(['name', 'selling_price', 'year', 'seller_type', 'owner', 'km_driven',\n",
       "       'ex_showroom_price', 'year_cat', 'year_int'],\n",
       "      dtype='object')"
      ]
     },
     "execution_count": 40,
     "metadata": {},
     "output_type": "execute_result"
    }
   ],
   "source": [
    "bike_data.columns\n",
    "#note: our columns are name, selling_price, year, seller_type, owner, km_driven, and ex_showroom_price"
   ]
  },
  {
   "cell_type": "code",
   "execution_count": 77,
   "id": "ee440115-6573-4e9e-a640-eada3a6c302a",
   "metadata": {},
   "outputs": [],
   "source": [
    "#bike_data_numeric = bike_data['selling_price', 'km_driven', 'ex_showrooom_price']\n",
    "\n",
    "#previously I tried to do what I was doing above exactly in the way he does it\n",
    "#in the video and got the same error\n",
    "\n",
    "#Fixed to grab desired columns from bike_data for all rows\n",
    "bike_data_numeric = bike_data.loc[:, ['selling_price', 'km_driven', 'ex_showroom_price']]\n"
   ]
  },
  {
   "cell_type": "code",
   "execution_count": null,
   "id": "51d8b921-91a3-4ea3-b0be-22900927cb80",
   "metadata": {},
   "outputs": [
    {
     "data": {
      "text/plain": [
       "59638.151743638075"
      ]
     },
     "execution_count": 8,
     "metadata": {},
     "output_type": "execute_result"
    }
   ],
   "source": [
    "#finding mean and median of all the numeric variables using the .mean and .median methods\n",
    "bike_data['selling_price'].mean()"
   ]
  },
  {
   "cell_type": "code",
   "execution_count": null,
   "id": "5959146c-25b4-4414-9579-96cf13824064",
   "metadata": {},
   "outputs": [
    {
     "data": {
      "text/plain": [
       "45000.0"
      ]
     },
     "execution_count": 9,
     "metadata": {},
     "output_type": "execute_result"
    }
   ],
   "source": [
    "bike_data['selling_price'].median()"
   ]
  },
  {
   "cell_type": "code",
   "execution_count": null,
   "id": "3f561b19-8a59-4519-9633-63ee7b9c0015",
   "metadata": {},
   "outputs": [
    {
     "data": {
      "text/plain": [
       "34359.83317624882"
      ]
     },
     "execution_count": 10,
     "metadata": {},
     "output_type": "execute_result"
    }
   ],
   "source": [
    "bike_data['km_driven'].mean()"
   ]
  },
  {
   "cell_type": "code",
   "execution_count": null,
   "id": "9a29b84e-9df7-4c7e-929b-3a99b44cecbc",
   "metadata": {},
   "outputs": [
    {
     "data": {
      "text/plain": [
       "25000.0"
      ]
     },
     "execution_count": 11,
     "metadata": {},
     "output_type": "execute_result"
    }
   ],
   "source": [
    "bike_data['km_driven'].median()"
   ]
  },
  {
   "cell_type": "code",
   "execution_count": null,
   "id": "0439c6b1-3cd2-42dc-a843-8f2c5fc09736",
   "metadata": {},
   "outputs": [
    {
     "data": {
      "text/plain": [
       "87958.71405750798"
      ]
     },
     "execution_count": 12,
     "metadata": {},
     "output_type": "execute_result"
    }
   ],
   "source": [
    "bike_data['ex_showroom_price'].mean()"
   ]
  },
  {
   "cell_type": "code",
   "execution_count": null,
   "id": "67a2dcf9-5ba4-4dd9-838c-eb1061a75b7c",
   "metadata": {},
   "outputs": [
    {
     "data": {
      "text/plain": [
       "72752.5"
      ]
     },
     "execution_count": 13,
     "metadata": {},
     "output_type": "execute_result"
    }
   ],
   "source": [
    "bike_data['ex_showroom_price'].median()"
   ]
  },
  {
   "cell_type": "code",
   "execution_count": null,
   "id": "c06f2933-6f1f-4326-ab95-55d47199a7e1",
   "metadata": {},
   "outputs": [
    {
     "data": {
      "text/plain": [
       "56304.29197302419"
      ]
     },
     "execution_count": 14,
     "metadata": {},
     "output_type": "execute_result"
    }
   ],
   "source": [
    "#similarly finding standard deviations of the numeric variables\n",
    "bike_data.selling_price.std()"
   ]
  },
  {
   "cell_type": "code",
   "execution_count": null,
   "id": "54d0bb08-35c9-406b-8c09-de6aa7721e5d",
   "metadata": {},
   "outputs": [
    {
     "data": {
      "text/plain": [
       "51623.15270159632"
      ]
     },
     "execution_count": 15,
     "metadata": {},
     "output_type": "execute_result"
    }
   ],
   "source": [
    "bike_data.km_driven.std()"
   ]
  },
  {
   "cell_type": "code",
   "execution_count": null,
   "id": "4778d18d-b678-4ee0-b6da-4054ba3f5512",
   "metadata": {},
   "outputs": [
    {
     "data": {
      "text/plain": [
       "77496.5871894531"
      ]
     },
     "execution_count": 16,
     "metadata": {},
     "output_type": "execute_result"
    }
   ],
   "source": [
    "bike_data.ex_showroom_price.std()"
   ]
  },
  {
   "cell_type": "code",
   "execution_count": null,
   "id": "92dd5d5b-f436-482b-8b5b-b6a36bfcb4c3",
   "metadata": {},
   "outputs": [
    {
     "data": {
      "text/plain": [
       "0.05     15000.0\n",
       "0.10     20000.0\n",
       "0.15     23000.0\n",
       "0.20     25000.0\n",
       "0.25     28000.0\n",
       "0.30     30000.0\n",
       "0.35     35000.0\n",
       "0.40     38000.0\n",
       "0.45     40000.0\n",
       "0.50     45000.0\n",
       "0.55     47000.0\n",
       "0.60     50000.0\n",
       "0.65     58000.0\n",
       "0.70     62000.0\n",
       "0.75     70000.0\n",
       "0.80     80000.0\n",
       "0.85    100000.0\n",
       "0.90    120000.0\n",
       "0.95    150000.0\n",
       "Name: selling_price, dtype: float64"
      ]
     },
     "execution_count": 17,
     "metadata": {},
     "output_type": "execute_result"
    }
   ],
   "source": [
    "#similarly finding more fine-tuned quantiles\n",
    "bike_data.selling_price.quantile(q = [.05, .10, .15, .20, .25, .30, .35, .40, .45, .50, .55, .60, .65, .70, .75, .80, .85, .90, .95])"
   ]
  },
  {
   "cell_type": "code",
   "execution_count": null,
   "id": "befd4fc1-8271-411d-af48-101423598fb2",
   "metadata": {},
   "outputs": [],
   "source": []
  },
  {
   "cell_type": "code",
   "execution_count": 1,
   "id": "a8e4d5c7-94b9-4889-955d-61d5a04971d3",
   "metadata": {},
   "outputs": [
    {
     "data": {
      "text/plain": [
       "0.05     3500.0\n",
       "0.10     6000.0\n",
       "0.15     8000.0\n",
       "0.20    10950.0\n",
       "0.25    13500.0\n",
       "0.30    15000.0\n",
       "0.35    17500.0\n",
       "0.40    20000.0\n",
       "0.45    22000.0\n",
       "0.50    25000.0\n",
       "0.55    28000.0\n",
       "0.60    31000.0\n",
       "0.65    35000.0\n",
       "0.70    39448.0\n",
       "0.75    43000.0\n",
       "0.80    49000.0\n",
       "0.85    52500.0\n",
       "0.90    65000.0\n",
       "0.95    80000.0\n",
       "Name: km_driven, dtype: float64"
      ]
     },
     "execution_count": 18,
     "metadata": {},
     "output_type": "execute_result"
    }
   ],
   "source": [
    "bike_data.km_driven.quantile(q = [.05, .10, .15, .20, .25, .30, .35, .40, .45, .50, .55, .60, .65, .70, .75, .80, .85, .90, .95])"
   ]
  },
  {
   "cell_type": "code",
   "execution_count": null,
   "id": "d9431c26-b58c-480b-a8a0-0058091345da",
   "metadata": {},
   "outputs": [
    {
     "data": {
      "text/plain": [
       "0.05     47277.00\n",
       "0.10     50267.00\n",
       "0.15     52203.25\n",
       "0.20     54299.00\n",
       "0.25     54852.00\n",
       "0.30     57549.00\n",
       "0.35     59362.25\n",
       "0.40     61653.00\n",
       "0.45     65669.50\n",
       "0.50     72752.50\n",
       "0.55     75936.00\n",
       "0.60     78712.00\n",
       "0.65     81508.00\n",
       "0.70     84751.00\n",
       "0.75     87031.50\n",
       "0.80     94000.00\n",
       "0.85    117926.00\n",
       "0.90    147000.00\n",
       "0.95    181445.00\n",
       "Name: ex_showroom_price, dtype: float64"
      ]
     },
     "execution_count": 19,
     "metadata": {},
     "output_type": "execute_result"
    }
   ],
   "source": [
    "bike_data.ex_showroom_price.quantile(q = [.05, .10, .15, .20, .25, .30, .35, .40, .45, .50, .55, .60, .65, .70, .75, .80, .85, .90, .95])"
   ]
  },
  {
   "cell_type": "code",
   "execution_count": null,
   "id": "08f5033d-4d79-4d66-8fd5-2acbdfbc98cf",
   "metadata": {},
   "outputs": [
    {
     "data": {
      "text/plain": [
       "42000.0"
      ]
     },
     "execution_count": 20,
     "metadata": {},
     "output_type": "execute_result"
    }
   ],
   "source": [
    "#interquartile range for selling_price\n",
    "q1 = bike_data.selling_price.quantile(q = [.25])\n",
    "q3 = bike_data.selling_price.quantile(q = [.75])\n",
    "q1\n",
    "q3\n",
    "q3[.75] - q1[.25]"
   ]
  },
  {
   "cell_type": "code",
   "execution_count": 80,
   "id": "dbb7a6a0-1a4e-4be0-a798-402c97b44990",
   "metadata": {},
   "outputs": [
    {
     "data": {
      "text/html": [
       "<div>\n",
       "<style scoped>\n",
       "    .dataframe tbody tr th:only-of-type {\n",
       "        vertical-align: middle;\n",
       "    }\n",
       "\n",
       "    .dataframe tbody tr th {\n",
       "        vertical-align: top;\n",
       "    }\n",
       "\n",
       "    .dataframe thead th {\n",
       "        text-align: right;\n",
       "    }\n",
       "</style>\n",
       "<table border=\"1\" class=\"dataframe\">\n",
       "  <thead>\n",
       "    <tr style=\"text-align: right;\">\n",
       "      <th></th>\n",
       "      <th>selling_price</th>\n",
       "      <th>year</th>\n",
       "      <th>km_driven</th>\n",
       "      <th>ex_showroom_price</th>\n",
       "      <th>year_int</th>\n",
       "    </tr>\n",
       "  </thead>\n",
       "  <tbody>\n",
       "    <tr>\n",
       "      <th>selling_price</th>\n",
       "      <td>1.000</td>\n",
       "      <td>0.402</td>\n",
       "      <td>-0.213</td>\n",
       "      <td>0.919</td>\n",
       "      <td>0.402</td>\n",
       "    </tr>\n",
       "    <tr>\n",
       "      <th>year</th>\n",
       "      <td>0.402</td>\n",
       "      <td>1.000</td>\n",
       "      <td>-0.289</td>\n",
       "      <td>0.126</td>\n",
       "      <td>1.000</td>\n",
       "    </tr>\n",
       "    <tr>\n",
       "      <th>km_driven</th>\n",
       "      <td>-0.213</td>\n",
       "      <td>-0.289</td>\n",
       "      <td>1.000</td>\n",
       "      <td>-0.122</td>\n",
       "      <td>-0.289</td>\n",
       "    </tr>\n",
       "    <tr>\n",
       "      <th>ex_showroom_price</th>\n",
       "      <td>0.919</td>\n",
       "      <td>0.126</td>\n",
       "      <td>-0.122</td>\n",
       "      <td>1.000</td>\n",
       "      <td>0.126</td>\n",
       "    </tr>\n",
       "    <tr>\n",
       "      <th>year_int</th>\n",
       "      <td>0.402</td>\n",
       "      <td>1.000</td>\n",
       "      <td>-0.289</td>\n",
       "      <td>0.126</td>\n",
       "      <td>1.000</td>\n",
       "    </tr>\n",
       "  </tbody>\n",
       "</table>\n",
       "</div>"
      ],
      "text/plain": [
       "                   selling_price   year  km_driven  ex_showroom_price  \\\n",
       "selling_price              1.000  0.402     -0.213              0.919   \n",
       "year                       0.402  1.000     -0.289              0.126   \n",
       "km_driven                 -0.213 -0.289      1.000             -0.122   \n",
       "ex_showroom_price          0.919  0.126     -0.122              1.000   \n",
       "year_int                   0.402  1.000     -0.289              0.126   \n",
       "\n",
       "                   year_int  \n",
       "selling_price         0.402  \n",
       "year                  1.000  \n",
       "km_driven            -0.289  \n",
       "ex_showroom_price     0.126  \n",
       "year_int              1.000  "
      ]
     },
     "execution_count": 80,
     "metadata": {},
     "output_type": "execute_result"
    }
   ],
   "source": [
    "#finding correlation between the numeric variables in the data set\n",
    "bike_data.corr().round(3)"
   ]
  },
  {
   "cell_type": "markdown",
   "id": "57d9f8e1-a70b-4fa9-ae53-e951b89eda2c",
   "metadata": {},
   "source": [
    "We see that selling_price and ex_showroom_price are highly correlated, in fact even more highly correlated than I anticipated or what it looked like from a cursory look at the data. They in fact boast a roughly 92% correlation with one another. Also, selling_price and km_driven are negatively correlated as one would expect (the more use a vehicle has the lower the price all else being equal). Insofar as it is meaningful the positive correlation shown between year and selling_price also makes sense because a larger number for year represents a newer vehicle. One might expect that until a bike is so old as to be considered a collector's item or an antique that an older bike would be worth less."
   ]
  },
  {
   "cell_type": "code",
   "execution_count": 90,
   "id": "be9830fe-75f1-4d3b-ac5a-0d416f698700",
   "metadata": {},
   "outputs": [
    {
     "data": {
      "text/html": [
       "<div>\n",
       "<style scoped>\n",
       "    .dataframe tbody tr th:only-of-type {\n",
       "        vertical-align: middle;\n",
       "    }\n",
       "\n",
       "    .dataframe tbody tr th {\n",
       "        vertical-align: top;\n",
       "    }\n",
       "\n",
       "    .dataframe thead th {\n",
       "        text-align: right;\n",
       "    }\n",
       "</style>\n",
       "<table border=\"1\" class=\"dataframe\">\n",
       "  <thead>\n",
       "    <tr style=\"text-align: right;\">\n",
       "      <th></th>\n",
       "      <th>selling_price</th>\n",
       "      <th>km_driven</th>\n",
       "      <th>ex_showroom_price</th>\n",
       "    </tr>\n",
       "    <tr>\n",
       "      <th>seller_type</th>\n",
       "      <th></th>\n",
       "      <th></th>\n",
       "      <th></th>\n",
       "    </tr>\n",
       "  </thead>\n",
       "  <tbody>\n",
       "    <tr>\n",
       "      <th>Dealer</th>\n",
       "      <td>46666.67</td>\n",
       "      <td>35258.83</td>\n",
       "      <td>88536.00</td>\n",
       "    </tr>\n",
       "    <tr>\n",
       "      <th>Individual</th>\n",
       "      <td>59711.92</td>\n",
       "      <td>34354.72</td>\n",
       "      <td>87955.93</td>\n",
       "    </tr>\n",
       "  </tbody>\n",
       "</table>\n",
       "</div>"
      ],
      "text/plain": [
       "             selling_price  km_driven  ex_showroom_price\n",
       "seller_type                                             \n",
       "Dealer            46666.67   35258.83           88536.00\n",
       "Individual        59711.92   34354.72           87955.93"
      ]
     },
     "execution_count": 90,
     "metadata": {},
     "output_type": "execute_result"
    }
   ],
   "source": [
    "bike_data.drop([\"year\",\"year_int\"], axis = 1).groupby(\"seller_type\").mean().round(2)"
   ]
  },
  {
   "cell_type": "code",
   "execution_count": 93,
   "id": "b6cf9444-cd81-499c-b062-1f2c3ad6eedc",
   "metadata": {},
   "outputs": [
    {
     "data": {
      "text/html": [
       "<div>\n",
       "<style scoped>\n",
       "    .dataframe tbody tr th:only-of-type {\n",
       "        vertical-align: middle;\n",
       "    }\n",
       "\n",
       "    .dataframe tbody tr th {\n",
       "        vertical-align: top;\n",
       "    }\n",
       "\n",
       "    .dataframe thead th {\n",
       "        text-align: right;\n",
       "    }\n",
       "</style>\n",
       "<table border=\"1\" class=\"dataframe\">\n",
       "  <thead>\n",
       "    <tr style=\"text-align: right;\">\n",
       "      <th></th>\n",
       "      <th>selling_price</th>\n",
       "      <th>km_driven</th>\n",
       "      <th>ex_showroom_price</th>\n",
       "    </tr>\n",
       "    <tr>\n",
       "      <th>owner</th>\n",
       "      <th></th>\n",
       "      <th></th>\n",
       "      <th></th>\n",
       "    </tr>\n",
       "  </thead>\n",
       "  <tbody>\n",
       "    <tr>\n",
       "      <th>1st owner</th>\n",
       "      <td>60022.81</td>\n",
       "      <td>32816.58</td>\n",
       "      <td>84362.80</td>\n",
       "    </tr>\n",
       "    <tr>\n",
       "      <th>2nd owner</th>\n",
       "      <td>55666.66</td>\n",
       "      <td>39288.99</td>\n",
       "      <td>112554.65</td>\n",
       "    </tr>\n",
       "    <tr>\n",
       "      <th>3rd owner</th>\n",
       "      <td>55727.27</td>\n",
       "      <td>33292.18</td>\n",
       "      <td>64611.00</td>\n",
       "    </tr>\n",
       "    <tr>\n",
       "      <th>4th owner</th>\n",
       "      <td>118333.33</td>\n",
       "      <td>311500.00</td>\n",
       "      <td>534000.00</td>\n",
       "    </tr>\n",
       "  </tbody>\n",
       "</table>\n",
       "</div>"
      ],
      "text/plain": [
       "           selling_price  km_driven  ex_showroom_price\n",
       "owner                                                 \n",
       "1st owner       60022.81   32816.58           84362.80\n",
       "2nd owner       55666.66   39288.99          112554.65\n",
       "3rd owner       55727.27   33292.18           64611.00\n",
       "4th owner      118333.33  311500.00          534000.00"
      ]
     },
     "execution_count": 93,
     "metadata": {},
     "output_type": "execute_result"
    }
   ],
   "source": [
    "bike_data.drop([\"year\",\"year_int\"], axis = 1).groupby(\"owner\").mean().round(2)"
   ]
  },
  {
   "cell_type": "markdown",
   "id": "9b83eccf-a2e0-428a-978b-7815346be306",
   "metadata": {},
   "source": [
    "We can see that dealers tend to sell their bikes for about 13,000 dollars less than individuals do as well as sell slightly older bikes that have been ridden a little farther. Very interestingly, in the second set of grouped means we see that by far the most lucrative sales occur by the 4th owner. Intuitively one might expect a bike that has been sold at least three times before might be worth less, but that is clearly not the case. This owner status, particularly in the case of \"4th owner\" could be a powerful predictive attribute."
   ]
  },
  {
   "cell_type": "code",
   "execution_count": 85,
   "id": "ac5510fc-a1f1-4352-ae5f-e43896541579",
   "metadata": {},
   "outputs": [
    {
     "data": {
      "text/html": [
       "<div>\n",
       "<style scoped>\n",
       "    .dataframe tbody tr th:only-of-type {\n",
       "        vertical-align: middle;\n",
       "    }\n",
       "\n",
       "    .dataframe tbody tr th {\n",
       "        vertical-align: top;\n",
       "    }\n",
       "\n",
       "    .dataframe thead th {\n",
       "        text-align: right;\n",
       "    }\n",
       "</style>\n",
       "<table border=\"1\" class=\"dataframe\">\n",
       "  <thead>\n",
       "    <tr style=\"text-align: right;\">\n",
       "      <th></th>\n",
       "      <th>selling_price</th>\n",
       "      <th>km_driven</th>\n",
       "      <th>ex_showroom_price</th>\n",
       "    </tr>\n",
       "    <tr>\n",
       "      <th>year_cat</th>\n",
       "      <th></th>\n",
       "      <th></th>\n",
       "      <th></th>\n",
       "    </tr>\n",
       "  </thead>\n",
       "  <tbody>\n",
       "    <tr>\n",
       "      <th>[1988, 1992)</th>\n",
       "      <td>13000.00</td>\n",
       "      <td>28000.00</td>\n",
       "      <td>NaN</td>\n",
       "    </tr>\n",
       "    <tr>\n",
       "      <th>[1992, 1996)</th>\n",
       "      <td>140000.00</td>\n",
       "      <td>15000.00</td>\n",
       "      <td>NaN</td>\n",
       "    </tr>\n",
       "    <tr>\n",
       "      <th>[1996, 2000)</th>\n",
       "      <td>22500.00</td>\n",
       "      <td>140475.67</td>\n",
       "      <td>NaN</td>\n",
       "    </tr>\n",
       "    <tr>\n",
       "      <th>[2000, 2004)</th>\n",
       "      <td>22916.67</td>\n",
       "      <td>39057.58</td>\n",
       "      <td>54852.00</td>\n",
       "    </tr>\n",
       "    <tr>\n",
       "      <th>[2004, 2008)</th>\n",
       "      <td>22113.24</td>\n",
       "      <td>54082.31</td>\n",
       "      <td>59888.00</td>\n",
       "    </tr>\n",
       "    <tr>\n",
       "      <th>[2008, 2012)</th>\n",
       "      <td>32012.42</td>\n",
       "      <td>56541.59</td>\n",
       "      <td>77059.20</td>\n",
       "    </tr>\n",
       "    <tr>\n",
       "      <th>[2012, 2016)</th>\n",
       "      <td>48844.87</td>\n",
       "      <td>36215.19</td>\n",
       "      <td>83894.82</td>\n",
       "    </tr>\n",
       "    <tr>\n",
       "      <th>[2016, 2020)</th>\n",
       "      <td>84301.95</td>\n",
       "      <td>20293.67</td>\n",
       "      <td>95288.69</td>\n",
       "    </tr>\n",
       "  </tbody>\n",
       "</table>\n",
       "</div>"
      ],
      "text/plain": [
       "              selling_price  km_driven  ex_showroom_price\n",
       "year_cat                                                 \n",
       "[1988, 1992)       13000.00   28000.00                NaN\n",
       "[1992, 1996)      140000.00   15000.00                NaN\n",
       "[1996, 2000)       22500.00  140475.67                NaN\n",
       "[2000, 2004)       22916.67   39057.58           54852.00\n",
       "[2004, 2008)       22113.24   54082.31           59888.00\n",
       "[2008, 2012)       32012.42   56541.59           77059.20\n",
       "[2012, 2016)       48844.87   36215.19           83894.82\n",
       "[2016, 2020)       84301.95   20293.67           95288.69"
      ]
     },
     "execution_count": 85,
     "metadata": {},
     "output_type": "execute_result"
    }
   ],
   "source": [
    "bike_data.drop([\"year\",\"year_int\"], axis = 1).groupby(\"year_cat\").mean().round(2)"
   ]
  }
 ],
 "metadata": {
  "kernelspec": {
   "display_name": "Python 3 (ipykernel)",
   "language": "python",
   "name": "python3"
  },
  "language_info": {
   "codemirror_mode": {
    "name": "ipython",
    "version": 3
   },
   "file_extension": ".py",
   "mimetype": "text/x-python",
   "name": "python",
   "nbconvert_exporter": "python",
   "pygments_lexer": "ipython3",
   "version": "3.10.1"
  }
 },
 "nbformat": 4,
 "nbformat_minor": 5
}

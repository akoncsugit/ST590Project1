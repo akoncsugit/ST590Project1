{
 "cells": [
  {
   "cell_type": "markdown",
   "id": "daf03897-877d-4f59-a893-f169928df46b",
   "metadata": {},
   "source": [
    "# ST590: Project 1"
   ]
  },
  {
   "cell_type": "markdown",
   "id": "330b6fe7-ce1f-4ff9-8565-a86dae102dd2",
   "metadata": {},
   "source": [
    "### Authors: George Bridges and Ashley Ko\n",
    "### Date: 2/13/2022"
   ]
  },
  {
   "cell_type": "markdown",
   "id": "2b913121-6e21-4ea9-8649-026e57502f3d",
   "metadata": {},
   "source": [
    "#### Introduction\n",
    "To Do: clean up this section"
   ]
  },
  {
   "cell_type": "markdown",
   "id": "8a0739e0-8ba5-4685-991a-0b556af95d9d",
   "metadata": {},
   "source": [
    "For this project we utilized python to explore used motorcycle listing data obtained from [Kaggle.com](https://www.kaggle.com/nehalbirla/motorcycle-dataset?select=BIKE+DETAILS.csv). The data set, `bikeDetails.csv`, was originally complied from [BIKEWALE](www.bikewale.com). It contains 7 variables: `name` (of motorcycle), `selling_price`, `year` (of motorcycle, not sale), `seller_type` (Individual or Dealer), `owner` (1st, 2nd, 3rd, or 4th owner), `km_driven`, `ex_showroom_price`. After processing the data appropriately, we performed exploratory data analysis to summarize the data. The results of which shaped the direction of our predictions of `selling_price`. We created algorithms to predict `selling_price` using grid search, essentially a brute force approach and gradient descent, which finds the minimum value for the loss function by ascertaining where it has zero slope which indicates an extremum. Our grid search method evaluated points in the interquartile range of our target variable at intervals of $100. Thus, the estimate for the optimum value is the nearest $100 point to the actual optimum value. "
   ]
  },
  {
   "cell_type": "markdown",
   "id": "beb38966-07ca-4990-8e48-ca6dbd5c468f",
   "metadata": {},
   "source": [
    "#### Exploratory Data Analysis"
   ]
  },
  {
   "cell_type": "markdown",
   "id": "d883dc76-1128-4bcf-a796-32c9aa95ceb0",
   "metadata": {},
   "source": [
    "##### Data frame creation"
   ]
  },
  {
   "cell_type": "markdown",
   "id": "3a948027-ddc8-4158-b37f-4d3012db54d6",
   "metadata": {},
   "source": [
    "To begin, we first imported the libraries necessary for accomplishing our goals of exploratory analysis and prediction. We used `pandas`, `numpy`, `math`, and `scipy.stats`."
   ]
  },
  {
   "cell_type": "code",
   "execution_count": 14,
   "id": "3f9bed38-653e-42e2-bcbd-c69547ea93b7",
   "metadata": {},
   "outputs": [],
   "source": [
    "#Importing pandas as pd\n",
    "import pandas as pd\n",
    "\n",
    "#Importing numpy as np\n",
    "import numpy as np\n",
    "                            \n",
    "#Importing math\n",
    "import math\n",
    "\n",
    "#Importing scipy.stats as stats\n",
    "import scipy.stats as stats\n",
    "\n",
    "#importing matplotlib.pyplot as plt\n",
    "import matplotlib.pyplot as plt"
   ]
  },
  {
   "cell_type": "markdown",
   "id": "1e7ad61f-1fc6-4369-a323-98779fcd07b6",
   "metadata": {},
   "source": [
    "For reading in the \"bikeDetails.csv\", we used the pandas function `pd.read_csv` and saved the resulting data fram as \"bike_data\"."
   ]
  },
  {
   "cell_type": "code",
   "execution_count": 15,
   "id": "7bfaf32a-56f0-4be6-b492-eb7ce2a5126c",
   "metadata": {},
   "outputs": [],
   "source": [
    "#Reading in bikeDetails data set using pandas\n",
    "bike_data = pd.read_csv(\"bikeDetails.csv\")"
   ]
  },
  {
   "cell_type": "markdown",
   "id": "0009fd28-694e-4476-8f4b-21c294cdfab1",
   "metadata": {},
   "source": [
    "We used `.head()` to get a sense what the format of the data looks like."
   ]
  },
  {
   "cell_type": "code",
   "execution_count": 16,
   "id": "18f4df2a-50ba-470d-bdba-dff42efc7f13",
   "metadata": {},
   "outputs": [
    {
     "data": {
      "text/html": [
       "<div>\n",
       "<style scoped>\n",
       "    .dataframe tbody tr th:only-of-type {\n",
       "        vertical-align: middle;\n",
       "    }\n",
       "\n",
       "    .dataframe tbody tr th {\n",
       "        vertical-align: top;\n",
       "    }\n",
       "\n",
       "    .dataframe thead th {\n",
       "        text-align: right;\n",
       "    }\n",
       "</style>\n",
       "<table border=\"1\" class=\"dataframe\">\n",
       "  <thead>\n",
       "    <tr style=\"text-align: right;\">\n",
       "      <th></th>\n",
       "      <th>name</th>\n",
       "      <th>selling_price</th>\n",
       "      <th>year</th>\n",
       "      <th>seller_type</th>\n",
       "      <th>owner</th>\n",
       "      <th>km_driven</th>\n",
       "      <th>ex_showroom_price</th>\n",
       "    </tr>\n",
       "  </thead>\n",
       "  <tbody>\n",
       "    <tr>\n",
       "      <th>0</th>\n",
       "      <td>Royal Enfield Classic 350</td>\n",
       "      <td>175000</td>\n",
       "      <td>2019</td>\n",
       "      <td>Individual</td>\n",
       "      <td>1st owner</td>\n",
       "      <td>350</td>\n",
       "      <td>NaN</td>\n",
       "    </tr>\n",
       "    <tr>\n",
       "      <th>1</th>\n",
       "      <td>Honda Dio</td>\n",
       "      <td>45000</td>\n",
       "      <td>2017</td>\n",
       "      <td>Individual</td>\n",
       "      <td>1st owner</td>\n",
       "      <td>5650</td>\n",
       "      <td>NaN</td>\n",
       "    </tr>\n",
       "    <tr>\n",
       "      <th>2</th>\n",
       "      <td>Royal Enfield Classic Gunmetal Grey</td>\n",
       "      <td>150000</td>\n",
       "      <td>2018</td>\n",
       "      <td>Individual</td>\n",
       "      <td>1st owner</td>\n",
       "      <td>12000</td>\n",
       "      <td>148114.0</td>\n",
       "    </tr>\n",
       "    <tr>\n",
       "      <th>3</th>\n",
       "      <td>Yamaha Fazer FI V 2.0 [2016-2018]</td>\n",
       "      <td>65000</td>\n",
       "      <td>2015</td>\n",
       "      <td>Individual</td>\n",
       "      <td>1st owner</td>\n",
       "      <td>23000</td>\n",
       "      <td>89643.0</td>\n",
       "    </tr>\n",
       "    <tr>\n",
       "      <th>4</th>\n",
       "      <td>Yamaha SZ [2013-2014]</td>\n",
       "      <td>20000</td>\n",
       "      <td>2011</td>\n",
       "      <td>Individual</td>\n",
       "      <td>2nd owner</td>\n",
       "      <td>21000</td>\n",
       "      <td>NaN</td>\n",
       "    </tr>\n",
       "  </tbody>\n",
       "</table>\n",
       "</div>"
      ],
      "text/plain": [
       "                                  name  selling_price  year seller_type  \\\n",
       "0            Royal Enfield Classic 350         175000  2019  Individual   \n",
       "1                            Honda Dio          45000  2017  Individual   \n",
       "2  Royal Enfield Classic Gunmetal Grey         150000  2018  Individual   \n",
       "3    Yamaha Fazer FI V 2.0 [2016-2018]          65000  2015  Individual   \n",
       "4                Yamaha SZ [2013-2014]          20000  2011  Individual   \n",
       "\n",
       "       owner  km_driven  ex_showroom_price  \n",
       "0  1st owner        350                NaN  \n",
       "1  1st owner       5650                NaN  \n",
       "2  1st owner      12000           148114.0  \n",
       "3  1st owner      23000            89643.0  \n",
       "4  2nd owner      21000                NaN  "
      ]
     },
     "execution_count": 16,
     "metadata": {},
     "output_type": "execute_result"
    }
   ],
   "source": [
    "#Displays the first 5 observations from the bike_data data set\n",
    "bike_data.head()"
   ]
  },
  {
   "cell_type": "markdown",
   "id": "a9e83a08-e3a7-4795-8370-34284a61594e",
   "metadata": {},
   "source": [
    "After observing the first 5 entries of \"bike_data\", we felt that the variables `seller_type`, `owner`, and `year` need additional modification for us to proceed. We converted both `seller_type` and`owner` to categorical variables using `.astype()` and created a new variable `year_cat` from the `year` variable using the `pandas` function `.cut()`. This new variable segmented year into nine, 4 year levels starting with 1986 and ending with 2021."
   ]
  },
  {
   "cell_type": "code",
   "execution_count": 18,
   "id": "945eb9e6-ec33-4606-9d1b-5159469da9b5",
   "metadata": {},
   "outputs": [],
   "source": [
    "#Formating seller_type as a categorical variable\n",
    "bike_data.seller_type = bike_data.seller_type.astype(\"category\")\n",
    "#Formating owner as a categorical variable\n",
    "bike_data.owner = bike_data.owner.astype(\"category\")\n",
    "#Creating a new variable for year as a categorical variable in ranges of four years\n",
    "bike_data['year_cat'] = pd.cut(bike_data.year,\n",
    "                               bins = [1986, 1990, 1994, 1998, 2002, 2006, 2010, 2014, 2018, 2022],\n",
    "                               right = False, include_lowest = True)"
   ]
  },
  {
   "cell_type": "markdown",
   "id": "e839e18b-809c-4bf6-b567-eb7e4dcf9c52",
   "metadata": {},
   "source": [
    "##### Numeric and Graphical Summaries"
   ]
  },
  {
   "cell_type": "code",
   "execution_count": 19,
   "id": "f15ed6f7-3882-4f05-844a-01532850b898",
   "metadata": {},
   "outputs": [
    {
     "data": {
      "text/plain": [
       "[2014, 2018)    431\n",
       "[2010, 2014)    264\n",
       "[2018, 2022)    220\n",
       "[2006, 2010)    105\n",
       "[2002, 2006)     23\n",
       "[1998, 2002)     12\n",
       "[1994, 1998)      3\n",
       "[1990, 1994)      2\n",
       "[1986, 1990)      1\n",
       "Name: year_cat, dtype: int64"
      ]
     },
     "execution_count": 19,
     "metadata": {},
     "output_type": "execute_result"
    }
   ],
   "source": [
    "bike_data['year_cat'].value_counts(dropna = False)"
   ]
  },
  {
   "cell_type": "markdown",
   "id": "c631e426-4ca7-477e-9ec6-604e860c5392",
   "metadata": {},
   "source": [
    "As we can see the vast majority of bikes were manufactured after the year 2006 and only six bikes were manufactured before 1998."
   ]
  },
  {
   "cell_type": "code",
   "execution_count": 20,
   "id": "bcdf48b3-6af4-4ec7-85e1-a3301530c53f",
   "metadata": {},
   "outputs": [
    {
     "data": {
      "text/plain": [
       "Individual    1055\n",
       "Dealer           6\n",
       "Name: seller_type, dtype: int64"
      ]
     },
     "execution_count": 20,
     "metadata": {},
     "output_type": "execute_result"
    }
   ],
   "source": [
    "bike_data['seller_type'].value_counts(dropna = False)"
   ]
  },
  {
   "cell_type": "markdown",
   "id": "a0d5d7a5-9847-4700-909f-49eab8e3a9a3",
   "metadata": {},
   "source": [
    "We can also see that the overwhelming majority of bike sales were completed by individuals with only six being completed by dealers."
   ]
  },
  {
   "cell_type": "code",
   "execution_count": 21,
   "id": "958899c3-4559-47a2-b9aa-8626eaa3662e",
   "metadata": {},
   "outputs": [
    {
     "data": {
      "text/plain": [
       "1st owner    924\n",
       "2nd owner    123\n",
       "3rd owner     11\n",
       "4th owner      3\n",
       "Name: owner, dtype: int64"
      ]
     },
     "execution_count": 21,
     "metadata": {},
     "output_type": "execute_result"
    }
   ],
   "source": [
    "bike_data['owner'].value_counts(dropna = False)"
   ]
  },
  {
   "cell_type": "markdown",
   "id": "dc08eb82-0879-4736-8195-39e7df709b52",
   "metadata": {},
   "source": [
    "We see above that only four bikes are on their 4th owner and most (924) are on their 1st owner."
   ]
  },
  {
   "cell_type": "code",
   "execution_count": 23,
   "id": "ad5bc308-8ecd-48ed-a719-a1c3ac887f36",
   "metadata": {},
   "outputs": [
    {
     "data": {
      "text/html": [
       "<div>\n",
       "<style scoped>\n",
       "    .dataframe tbody tr th:only-of-type {\n",
       "        vertical-align: middle;\n",
       "    }\n",
       "\n",
       "    .dataframe tbody tr th {\n",
       "        vertical-align: top;\n",
       "    }\n",
       "\n",
       "    .dataframe thead th {\n",
       "        text-align: right;\n",
       "    }\n",
       "</style>\n",
       "<table border=\"1\" class=\"dataframe\">\n",
       "  <thead>\n",
       "    <tr style=\"text-align: right;\">\n",
       "      <th></th>\n",
       "      <th>owner</th>\n",
       "      <th>1st owner</th>\n",
       "      <th>2nd owner</th>\n",
       "      <th>3rd owner</th>\n",
       "      <th>4th owner</th>\n",
       "      <th>All</th>\n",
       "    </tr>\n",
       "    <tr>\n",
       "      <th>seller_type</th>\n",
       "      <th>year_cat</th>\n",
       "      <th></th>\n",
       "      <th></th>\n",
       "      <th></th>\n",
       "      <th></th>\n",
       "      <th></th>\n",
       "    </tr>\n",
       "  </thead>\n",
       "  <tbody>\n",
       "    <tr>\n",
       "      <th rowspan=\"9\" valign=\"top\">Dealer</th>\n",
       "      <th>[1986, 1990)</th>\n",
       "      <td>0</td>\n",
       "      <td>0</td>\n",
       "      <td>0</td>\n",
       "      <td>0</td>\n",
       "      <td>NaN</td>\n",
       "    </tr>\n",
       "    <tr>\n",
       "      <th>[1990, 1994)</th>\n",
       "      <td>0</td>\n",
       "      <td>0</td>\n",
       "      <td>0</td>\n",
       "      <td>0</td>\n",
       "      <td>NaN</td>\n",
       "    </tr>\n",
       "    <tr>\n",
       "      <th>[1994, 1998)</th>\n",
       "      <td>0</td>\n",
       "      <td>0</td>\n",
       "      <td>0</td>\n",
       "      <td>0</td>\n",
       "      <td>NaN</td>\n",
       "    </tr>\n",
       "    <tr>\n",
       "      <th>[1998, 2002)</th>\n",
       "      <td>0</td>\n",
       "      <td>1</td>\n",
       "      <td>0</td>\n",
       "      <td>0</td>\n",
       "      <td>1.0</td>\n",
       "    </tr>\n",
       "    <tr>\n",
       "      <th>[2002, 2006)</th>\n",
       "      <td>0</td>\n",
       "      <td>0</td>\n",
       "      <td>0</td>\n",
       "      <td>0</td>\n",
       "      <td>NaN</td>\n",
       "    </tr>\n",
       "    <tr>\n",
       "      <th>[2006, 2010)</th>\n",
       "      <td>0</td>\n",
       "      <td>1</td>\n",
       "      <td>0</td>\n",
       "      <td>0</td>\n",
       "      <td>1.0</td>\n",
       "    </tr>\n",
       "    <tr>\n",
       "      <th>[2010, 2014)</th>\n",
       "      <td>2</td>\n",
       "      <td>0</td>\n",
       "      <td>0</td>\n",
       "      <td>0</td>\n",
       "      <td>2.0</td>\n",
       "    </tr>\n",
       "    <tr>\n",
       "      <th>[2014, 2018)</th>\n",
       "      <td>2</td>\n",
       "      <td>0</td>\n",
       "      <td>0</td>\n",
       "      <td>0</td>\n",
       "      <td>2.0</td>\n",
       "    </tr>\n",
       "    <tr>\n",
       "      <th>[2018, 2022)</th>\n",
       "      <td>0</td>\n",
       "      <td>0</td>\n",
       "      <td>0</td>\n",
       "      <td>0</td>\n",
       "      <td>NaN</td>\n",
       "    </tr>\n",
       "    <tr>\n",
       "      <th rowspan=\"9\" valign=\"top\">Individual</th>\n",
       "      <th>[1986, 1990)</th>\n",
       "      <td>1</td>\n",
       "      <td>0</td>\n",
       "      <td>0</td>\n",
       "      <td>0</td>\n",
       "      <td>1.0</td>\n",
       "    </tr>\n",
       "    <tr>\n",
       "      <th>[1990, 1994)</th>\n",
       "      <td>1</td>\n",
       "      <td>1</td>\n",
       "      <td>0</td>\n",
       "      <td>0</td>\n",
       "      <td>2.0</td>\n",
       "    </tr>\n",
       "    <tr>\n",
       "      <th>[1994, 1998)</th>\n",
       "      <td>2</td>\n",
       "      <td>0</td>\n",
       "      <td>1</td>\n",
       "      <td>0</td>\n",
       "      <td>3.0</td>\n",
       "    </tr>\n",
       "    <tr>\n",
       "      <th>[1998, 2002)</th>\n",
       "      <td>7</td>\n",
       "      <td>1</td>\n",
       "      <td>2</td>\n",
       "      <td>1</td>\n",
       "      <td>11.0</td>\n",
       "    </tr>\n",
       "    <tr>\n",
       "      <th>[2002, 2006)</th>\n",
       "      <td>17</td>\n",
       "      <td>6</td>\n",
       "      <td>0</td>\n",
       "      <td>0</td>\n",
       "      <td>23.0</td>\n",
       "    </tr>\n",
       "    <tr>\n",
       "      <th>[2006, 2010)</th>\n",
       "      <td>83</td>\n",
       "      <td>17</td>\n",
       "      <td>3</td>\n",
       "      <td>1</td>\n",
       "      <td>104.0</td>\n",
       "    </tr>\n",
       "    <tr>\n",
       "      <th>[2010, 2014)</th>\n",
       "      <td>220</td>\n",
       "      <td>39</td>\n",
       "      <td>3</td>\n",
       "      <td>0</td>\n",
       "      <td>262.0</td>\n",
       "    </tr>\n",
       "    <tr>\n",
       "      <th>[2014, 2018)</th>\n",
       "      <td>373</td>\n",
       "      <td>53</td>\n",
       "      <td>2</td>\n",
       "      <td>1</td>\n",
       "      <td>429.0</td>\n",
       "    </tr>\n",
       "    <tr>\n",
       "      <th>[2018, 2022)</th>\n",
       "      <td>216</td>\n",
       "      <td>4</td>\n",
       "      <td>0</td>\n",
       "      <td>0</td>\n",
       "      <td>220.0</td>\n",
       "    </tr>\n",
       "    <tr>\n",
       "      <th>All</th>\n",
       "      <th></th>\n",
       "      <td>924</td>\n",
       "      <td>123</td>\n",
       "      <td>11</td>\n",
       "      <td>3</td>\n",
       "      <td>1061.0</td>\n",
       "    </tr>\n",
       "  </tbody>\n",
       "</table>\n",
       "</div>"
      ],
      "text/plain": [
       "owner                     1st owner  2nd owner  3rd owner  4th owner     All\n",
       "seller_type year_cat                                                        \n",
       "Dealer      [1986, 1990)          0          0          0          0     NaN\n",
       "            [1990, 1994)          0          0          0          0     NaN\n",
       "            [1994, 1998)          0          0          0          0     NaN\n",
       "            [1998, 2002)          0          1          0          0     1.0\n",
       "            [2002, 2006)          0          0          0          0     NaN\n",
       "            [2006, 2010)          0          1          0          0     1.0\n",
       "            [2010, 2014)          2          0          0          0     2.0\n",
       "            [2014, 2018)          2          0          0          0     2.0\n",
       "            [2018, 2022)          0          0          0          0     NaN\n",
       "Individual  [1986, 1990)          1          0          0          0     1.0\n",
       "            [1990, 1994)          1          1          0          0     2.0\n",
       "            [1994, 1998)          2          0          1          0     3.0\n",
       "            [1998, 2002)          7          1          2          1    11.0\n",
       "            [2002, 2006)         17          6          0          0    23.0\n",
       "            [2006, 2010)         83         17          3          1   104.0\n",
       "            [2010, 2014)        220         39          3          0   262.0\n",
       "            [2014, 2018)        373         53          2          1   429.0\n",
       "            [2018, 2022)        216          4          0          0   220.0\n",
       "All                             924        123         11          3  1061.0"
      ]
     },
     "execution_count": 23,
     "metadata": {},
     "output_type": "execute_result"
    }
   ],
   "source": [
    "seller_year_owner = pd.crosstab([bike_data.seller_type, bike_data.year_cat], bike_data.owner, margins = True,\n",
    "           dropna = False)\n",
    "seller_year_owner"
   ]
  },
  {
   "cell_type": "code",
   "execution_count": 24,
   "id": "70efd394-a716-4248-9ec3-63eb11503cc5",
   "metadata": {},
   "outputs": [
    {
     "data": {
      "text/plain": [
       "Text(0.5, 0, 'Year Category')"
      ]
     },
     "execution_count": 24,
     "metadata": {},
     "output_type": "execute_result"
    },
    {
     "data": {
      "image/png": "[encoded data removed]",
      "text/plain": [
       "<Figure size 432x288 with 1 Axes>"
      ]
     },
     "metadata": {
      "needs_background": "light"
     },
     "output_type": "display_data"
    }
   ],
   "source": [
    "seller_year_owner.plot.bar(stacked = True)\n",
    "plt.xlabel(\"Year Category\")"
   ]
  },
  {
   "cell_type": "markdown",
   "id": "e76df847-2d0f-4645-8ab9-d67d012c0036",
   "metadata": {},
   "source": [
    "As we can see in the above contingency table and associated bar chart, the majority of bikes were manufactured after 2006 and are on their first owner. Interestingly all three of the bikes on their 4th owner was manufactured on or after 1998. One might think that a bike that has already changed hands that many times might have been manufactured earlier."
   ]
  },
  {
   "cell_type": "code",
   "execution_count": 25,
   "id": "ca9c7c3c-abde-4153-b8fb-2983967b14d7",
   "metadata": {},
   "outputs": [
    {
     "data": {
      "text/html": [
       "<div>\n",
       "<style scoped>\n",
       "    .dataframe tbody tr th:only-of-type {\n",
       "        vertical-align: middle;\n",
       "    }\n",
       "\n",
       "    .dataframe tbody tr th {\n",
       "        vertical-align: top;\n",
       "    }\n",
       "\n",
       "    .dataframe thead th {\n",
       "        text-align: right;\n",
       "    }\n",
       "</style>\n",
       "<table border=\"1\" class=\"dataframe\">\n",
       "  <thead>\n",
       "    <tr style=\"text-align: right;\">\n",
       "      <th>seller_type</th>\n",
       "      <th>Dealer</th>\n",
       "      <th>Individual</th>\n",
       "    </tr>\n",
       "    <tr>\n",
       "      <th>year_cat</th>\n",
       "      <th></th>\n",
       "      <th></th>\n",
       "    </tr>\n",
       "  </thead>\n",
       "  <tbody>\n",
       "    <tr>\n",
       "      <th>[1986, 1990)</th>\n",
       "      <td>0</td>\n",
       "      <td>1</td>\n",
       "    </tr>\n",
       "    <tr>\n",
       "      <th>[1990, 1994)</th>\n",
       "      <td>0</td>\n",
       "      <td>2</td>\n",
       "    </tr>\n",
       "    <tr>\n",
       "      <th>[1994, 1998)</th>\n",
       "      <td>0</td>\n",
       "      <td>3</td>\n",
       "    </tr>\n",
       "    <tr>\n",
       "      <th>[1998, 2002)</th>\n",
       "      <td>1</td>\n",
       "      <td>11</td>\n",
       "    </tr>\n",
       "    <tr>\n",
       "      <th>[2002, 2006)</th>\n",
       "      <td>0</td>\n",
       "      <td>23</td>\n",
       "    </tr>\n",
       "    <tr>\n",
       "      <th>[2006, 2010)</th>\n",
       "      <td>1</td>\n",
       "      <td>104</td>\n",
       "    </tr>\n",
       "    <tr>\n",
       "      <th>[2010, 2014)</th>\n",
       "      <td>2</td>\n",
       "      <td>262</td>\n",
       "    </tr>\n",
       "    <tr>\n",
       "      <th>[2014, 2018)</th>\n",
       "      <td>2</td>\n",
       "      <td>429</td>\n",
       "    </tr>\n",
       "    <tr>\n",
       "      <th>[2018, 2022)</th>\n",
       "      <td>0</td>\n",
       "      <td>220</td>\n",
       "    </tr>\n",
       "  </tbody>\n",
       "</table>\n",
       "</div>"
      ],
      "text/plain": [
       "seller_type   Dealer  Individual\n",
       "year_cat                        \n",
       "[1986, 1990)       0           1\n",
       "[1990, 1994)       0           2\n",
       "[1994, 1998)       0           3\n",
       "[1998, 2002)       1          11\n",
       "[2002, 2006)       0          23\n",
       "[2006, 2010)       1         104\n",
       "[2010, 2014)       2         262\n",
       "[2014, 2018)       2         429\n",
       "[2018, 2022)       0         220"
      ]
     },
     "execution_count": 25,
     "metadata": {},
     "output_type": "execute_result"
    }
   ],
   "source": [
    "year_seller = pd.crosstab(bike_data.year_cat, bike_data.seller_type, dropna = True)\n",
    "year_seller"
   ]
  },
  {
   "cell_type": "code",
   "execution_count": 26,
   "id": "6c17264e-a233-45ae-afbe-f6fa73224eb5",
   "metadata": {},
   "outputs": [
    {
     "data": {
      "text/plain": [
       "<AxesSubplot:xlabel='year_cat'>"
      ]
     },
     "execution_count": 26,
     "metadata": {},
     "output_type": "execute_result"
    },
    {
     "data": {
      "image/png": "[encoded data removed]",
      "text/plain": [
       "<Figure size 432x288 with 1 Axes>"
      ]
     },
     "metadata": {
      "needs_background": "light"
     },
     "output_type": "display_data"
    }
   ],
   "source": [
    "year_seller.plot.bar()"
   ]
  },
  {
   "cell_type": "markdown",
   "id": "e098ee0a-7596-4138-bef7-5b5bcc02fdda",
   "metadata": {},
   "source": [
    "We can see above that again most bikes were manufactured recently and the vast majority of sales happened by individuals as opposed to the only 6 involving dealers."
   ]
  },
  {
   "cell_type": "code",
   "execution_count": 27,
   "id": "b14501bd-60c1-4b6f-9955-caa6f60c1fdb",
   "metadata": {},
   "outputs": [
    {
     "data": {
      "text/html": [
       "<div>\n",
       "<style scoped>\n",
       "    .dataframe tbody tr th:only-of-type {\n",
       "        vertical-align: middle;\n",
       "    }\n",
       "\n",
       "    .dataframe tbody tr th {\n",
       "        vertical-align: top;\n",
       "    }\n",
       "\n",
       "    .dataframe thead th {\n",
       "        text-align: right;\n",
       "    }\n",
       "</style>\n",
       "<table border=\"1\" class=\"dataframe\">\n",
       "  <thead>\n",
       "    <tr style=\"text-align: right;\">\n",
       "      <th>owner</th>\n",
       "      <th>1st owner</th>\n",
       "      <th>2nd owner</th>\n",
       "      <th>3rd owner</th>\n",
       "      <th>4th owner</th>\n",
       "    </tr>\n",
       "    <tr>\n",
       "      <th>year_cat</th>\n",
       "      <th></th>\n",
       "      <th></th>\n",
       "      <th></th>\n",
       "      <th></th>\n",
       "    </tr>\n",
       "  </thead>\n",
       "  <tbody>\n",
       "    <tr>\n",
       "      <th>[1986, 1990)</th>\n",
       "      <td>1</td>\n",
       "      <td>0</td>\n",
       "      <td>0</td>\n",
       "      <td>0</td>\n",
       "    </tr>\n",
       "    <tr>\n",
       "      <th>[1990, 1994)</th>\n",
       "      <td>1</td>\n",
       "      <td>1</td>\n",
       "      <td>0</td>\n",
       "      <td>0</td>\n",
       "    </tr>\n",
       "    <tr>\n",
       "      <th>[1994, 1998)</th>\n",
       "      <td>2</td>\n",
       "      <td>0</td>\n",
       "      <td>1</td>\n",
       "      <td>0</td>\n",
       "    </tr>\n",
       "    <tr>\n",
       "      <th>[1998, 2002)</th>\n",
       "      <td>7</td>\n",
       "      <td>2</td>\n",
       "      <td>2</td>\n",
       "      <td>1</td>\n",
       "    </tr>\n",
       "    <tr>\n",
       "      <th>[2002, 2006)</th>\n",
       "      <td>17</td>\n",
       "      <td>6</td>\n",
       "      <td>0</td>\n",
       "      <td>0</td>\n",
       "    </tr>\n",
       "    <tr>\n",
       "      <th>[2006, 2010)</th>\n",
       "      <td>83</td>\n",
       "      <td>18</td>\n",
       "      <td>3</td>\n",
       "      <td>1</td>\n",
       "    </tr>\n",
       "    <tr>\n",
       "      <th>[2010, 2014)</th>\n",
       "      <td>222</td>\n",
       "      <td>39</td>\n",
       "      <td>3</td>\n",
       "      <td>0</td>\n",
       "    </tr>\n",
       "    <tr>\n",
       "      <th>[2014, 2018)</th>\n",
       "      <td>375</td>\n",
       "      <td>53</td>\n",
       "      <td>2</td>\n",
       "      <td>1</td>\n",
       "    </tr>\n",
       "    <tr>\n",
       "      <th>[2018, 2022)</th>\n",
       "      <td>216</td>\n",
       "      <td>4</td>\n",
       "      <td>0</td>\n",
       "      <td>0</td>\n",
       "    </tr>\n",
       "  </tbody>\n",
       "</table>\n",
       "</div>"
      ],
      "text/plain": [
       "owner         1st owner  2nd owner  3rd owner  4th owner\n",
       "year_cat                                                \n",
       "[1986, 1990)          1          0          0          0\n",
       "[1990, 1994)          1          1          0          0\n",
       "[1994, 1998)          2          0          1          0\n",
       "[1998, 2002)          7          2          2          1\n",
       "[2002, 2006)         17          6          0          0\n",
       "[2006, 2010)         83         18          3          1\n",
       "[2010, 2014)        222         39          3          0\n",
       "[2014, 2018)        375         53          2          1\n",
       "[2018, 2022)        216          4          0          0"
      ]
     },
     "execution_count": 27,
     "metadata": {},
     "output_type": "execute_result"
    }
   ],
   "source": [
    "year_owner = pd.crosstab(bike_data.year_cat, bike_data.owner, dropna = True)\n",
    "year_owner\n",
    "#pd.crosstab(bike_data.seller_type, bike_data.owner, dropna = True)"
   ]
  },
  {
   "cell_type": "code",
   "execution_count": 28,
   "id": "bee658c7-a9ad-4111-9103-6769bd027704",
   "metadata": {},
   "outputs": [
    {
     "data": {
      "text/plain": [
       "<AxesSubplot:xlabel='year_cat'>"
      ]
     },
     "execution_count": 28,
     "metadata": {},
     "output_type": "execute_result"
    },
    {
     "data": {
      "image/png": "[encoded data removed]",
      "text/plain": [
       "<Figure size 432x288 with 1 Axes>"
      ]
     },
     "metadata": {
      "needs_background": "light"
     },
     "output_type": "display_data"
    }
   ],
   "source": [
    "year_owner.plot.bar(stacked = True)"
   ]
  },
  {
   "cell_type": "code",
   "execution_count": 73,
   "id": "ff249acc-13de-49a1-b661-b5827c7ad25e",
   "metadata": {},
   "outputs": [
    {
     "data": {
      "text/html": [
       "<div>\n",
       "<style scoped>\n",
       "    .dataframe tbody tr th:only-of-type {\n",
       "        vertical-align: middle;\n",
       "    }\n",
       "\n",
       "    .dataframe tbody tr th {\n",
       "        vertical-align: top;\n",
       "    }\n",
       "\n",
       "    .dataframe thead th {\n",
       "        text-align: right;\n",
       "    }\n",
       "</style>\n",
       "<table border=\"1\" class=\"dataframe\">\n",
       "  <thead>\n",
       "    <tr style=\"text-align: right;\">\n",
       "      <th>owner</th>\n",
       "      <th>1st owner</th>\n",
       "      <th>2nd owner</th>\n",
       "      <th>3rd owner</th>\n",
       "      <th>4th owner</th>\n",
       "    </tr>\n",
       "    <tr>\n",
       "      <th>seller_type</th>\n",
       "      <th></th>\n",
       "      <th></th>\n",
       "      <th></th>\n",
       "      <th></th>\n",
       "    </tr>\n",
       "  </thead>\n",
       "  <tbody>\n",
       "    <tr>\n",
       "      <th>Dealer</th>\n",
       "      <td>4</td>\n",
       "      <td>2</td>\n",
       "      <td>0</td>\n",
       "      <td>0</td>\n",
       "    </tr>\n",
       "    <tr>\n",
       "      <th>Individual</th>\n",
       "      <td>920</td>\n",
       "      <td>121</td>\n",
       "      <td>11</td>\n",
       "      <td>3</td>\n",
       "    </tr>\n",
       "  </tbody>\n",
       "</table>\n",
       "</div>"
      ],
      "text/plain": [
       "owner        1st owner  2nd owner  3rd owner  4th owner\n",
       "seller_type                                            \n",
       "Dealer               4          2          0          0\n",
       "Individual         920        121         11          3"
      ]
     },
     "execution_count": 73,
     "metadata": {},
     "output_type": "execute_result"
    }
   ],
   "source": [
    "seller_owner = pd.crosstab(bike_data.seller_type, bike_data.owner, dropna = True)\n",
    "seller_owner"
   ]
  },
  {
   "cell_type": "code",
   "execution_count": 74,
   "id": "8e93de18-987e-4881-9928-93a40a19d7fc",
   "metadata": {},
   "outputs": [
    {
     "data": {
      "text/plain": [
       "<AxesSubplot:xlabel='seller_type'>"
      ]
     },
     "execution_count": 74,
     "metadata": {},
     "output_type": "execute_result"
    },
    {
     "data": {
      "image/png": "[encoded data removed]",
      "text/plain": [
       "<Figure size 432x288 with 1 Axes>"
      ]
     },
     "metadata": {
      "needs_background": "light"
     },
     "output_type": "display_data"
    }
   ],
   "source": [
    "seller_owner.plot.bar()"
   ]
  },
  {
   "cell_type": "code",
   "execution_count": 76,
   "id": "fc7528a9-1b47-4eb6-8bd5-c07047334ec2",
   "metadata": {},
   "outputs": [
    {
     "data": {
      "text/plain": [
       "<AxesSubplot:title={'center':'selling_price'}, xlabel='[seller_type]'>"
      ]
     },
     "execution_count": 76,
     "metadata": {},
     "output_type": "execute_result"
    },
    {
     "data": {
      "image/png": "[encoded data removed]",
      "text/plain": [
       "<Figure size 432x288 with 1 Axes>"
      ]
     },
     "metadata": {
      "needs_background": "light"
     },
     "output_type": "display_data"
    }
   ],
   "source": [
    "bike_data.boxplot(column = ['selling_price'], by = ['seller_type'])"
   ]
  },
  {
   "cell_type": "code",
   "execution_count": 77,
   "id": "007f898b-74bc-4c77-b9ca-75319812af97",
   "metadata": {},
   "outputs": [
    {
     "data": {
      "text/plain": [
       "<AxesSubplot:title={'center':'selling_price'}, xlabel='[year_cat]'>"
      ]
     },
     "execution_count": 77,
     "metadata": {},
     "output_type": "execute_result"
    },
    {
     "data": {
      "image/png": "[encoded data removed]",
      "text/plain": [
       "<Figure size 432x288 with 1 Axes>"
      ]
     },
     "metadata": {
      "needs_background": "light"
     },
     "output_type": "display_data"
    }
   ],
   "source": [
    "bike_data.boxplot(column = ['selling_price'], by = ['year_cat'])\n",
    "plt"
   ]
  },
  {
   "cell_type": "markdown",
   "id": "13c485ac-6b27-4bbe-bb58-bdccc5b71012",
   "metadata": {},
   "source": [
    "We can see that most bikes were manufactured recently and are on their first owner. A substantial amount are on their second owner with only a few on their third and fourth owners."
   ]
  },
  {
   "cell_type": "code",
   "execution_count": 29,
   "id": "c7fa677c-0bbe-4542-9c65-a8e3d68974a7",
   "metadata": {},
   "outputs": [
    {
     "data": {
      "text/html": [
       "<div>\n",
       "<style scoped>\n",
       "    .dataframe tbody tr th:only-of-type {\n",
       "        vertical-align: middle;\n",
       "    }\n",
       "\n",
       "    .dataframe tbody tr th {\n",
       "        vertical-align: top;\n",
       "    }\n",
       "\n",
       "    .dataframe thead tr th {\n",
       "        text-align: left;\n",
       "    }\n",
       "\n",
       "    .dataframe thead tr:last-of-type th {\n",
       "        text-align: right;\n",
       "    }\n",
       "</style>\n",
       "<table border=\"1\" class=\"dataframe\">\n",
       "  <thead>\n",
       "    <tr>\n",
       "      <th></th>\n",
       "      <th colspan=\"4\" halign=\"left\">ex_showroom_price</th>\n",
       "      <th colspan=\"4\" halign=\"left\">km_driven</th>\n",
       "      <th colspan=\"4\" halign=\"left\">selling_price</th>\n",
       "    </tr>\n",
       "    <tr>\n",
       "      <th></th>\n",
       "      <th>max</th>\n",
       "      <th>mean</th>\n",
       "      <th>min</th>\n",
       "      <th>std</th>\n",
       "      <th>max</th>\n",
       "      <th>mean</th>\n",
       "      <th>min</th>\n",
       "      <th>std</th>\n",
       "      <th>max</th>\n",
       "      <th>mean</th>\n",
       "      <th>min</th>\n",
       "      <th>std</th>\n",
       "    </tr>\n",
       "    <tr>\n",
       "      <th>seller_type</th>\n",
       "      <th></th>\n",
       "      <th></th>\n",
       "      <th></th>\n",
       "      <th></th>\n",
       "      <th></th>\n",
       "      <th></th>\n",
       "      <th></th>\n",
       "      <th></th>\n",
       "      <th></th>\n",
       "      <th></th>\n",
       "      <th></th>\n",
       "      <th></th>\n",
       "    </tr>\n",
       "  </thead>\n",
       "  <tbody>\n",
       "    <tr>\n",
       "      <th>Dealer</th>\n",
       "      <td>118997.0</td>\n",
       "      <td>88536.00</td>\n",
       "      <td>61600.0</td>\n",
       "      <td>28860.41</td>\n",
       "      <td>100000</td>\n",
       "      <td>35258.83</td>\n",
       "      <td>5500</td>\n",
       "      <td>37470.92</td>\n",
       "      <td>80000</td>\n",
       "      <td>46666.67</td>\n",
       "      <td>15000</td>\n",
       "      <td>25734.54</td>\n",
       "    </tr>\n",
       "    <tr>\n",
       "      <th>Individual</th>\n",
       "      <td>1278000.0</td>\n",
       "      <td>87955.93</td>\n",
       "      <td>30490.0</td>\n",
       "      <td>77666.00</td>\n",
       "      <td>880000</td>\n",
       "      <td>34354.72</td>\n",
       "      <td>350</td>\n",
       "      <td>51705.46</td>\n",
       "      <td>760000</td>\n",
       "      <td>59711.92</td>\n",
       "      <td>5000</td>\n",
       "      <td>56427.96</td>\n",
       "    </tr>\n",
       "  </tbody>\n",
       "</table>\n",
       "</div>"
      ],
      "text/plain": [
       "            ex_showroom_price                              km_driven  \\\n",
       "                          max      mean      min       std       max   \n",
       "seller_type                                                            \n",
       "Dealer               118997.0  88536.00  61600.0  28860.41    100000   \n",
       "Individual          1278000.0  87955.93  30490.0  77666.00    880000   \n",
       "\n",
       "                                      selling_price                             \n",
       "                 mean   min       std           max      mean    min       std  \n",
       "seller_type                                                                     \n",
       "Dealer       35258.83  5500  37470.92         80000  46666.67  15000  25734.54  \n",
       "Individual   34354.72   350  51705.46        760000  59711.92   5000  56427.96  "
      ]
     },
     "execution_count": 29,
     "metadata": {},
     "output_type": "execute_result"
    }
   ],
   "source": [
    "pd.pivot_table(bike_data, values = [\"selling_price\", \"ex_showroom_price\", \"km_driven\"],\n",
    "               index = [\"seller_type\"], aggfunc = (\"min\", \"max\", \"mean\", \"std\")).round(2)\n",
    "# pd.pivot_table(bike_data, values = [\"selling_price\", \"ex_showroom_price\", \"km_driven\"],\n",
    "#               index = \"owner\", aggfunc = [\"mean\", \"std\", \"q25\", \"median\", \"q75\"])"
   ]
  },
  {
   "cell_type": "markdown",
   "id": "f9dcb3e1-4526-40b6-a909-a62db196de6f",
   "metadata": {},
   "source": [
    "We see above that the mean ex_showroom_price is very similar between Dealers and Individuals, while the minimum is quite a bit lower for Individuals. Also note that the standard deviation on Individual ex_showroom_price is more than twice as high as as it is for Dealers, therefore the spread of the data representing ex_showroom_price is much larger for Individuals. This trend regarding standard deviation also holds for km_driven and selling-price as well - the spread of the data is larger for Individuals."
   ]
  },
  {
   "cell_type": "code",
   "execution_count": 30,
   "id": "989a07c6-8db9-4a08-b6fa-7d22cf971b84",
   "metadata": {},
   "outputs": [
    {
     "data": {
      "text/html": [
       "<div>\n",
       "<style scoped>\n",
       "    .dataframe tbody tr th:only-of-type {\n",
       "        vertical-align: middle;\n",
       "    }\n",
       "\n",
       "    .dataframe tbody tr th {\n",
       "        vertical-align: top;\n",
       "    }\n",
       "\n",
       "    .dataframe thead tr th {\n",
       "        text-align: left;\n",
       "    }\n",
       "\n",
       "    .dataframe thead tr:last-of-type th {\n",
       "        text-align: right;\n",
       "    }\n",
       "</style>\n",
       "<table border=\"1\" class=\"dataframe\">\n",
       "  <thead>\n",
       "    <tr>\n",
       "      <th></th>\n",
       "      <th colspan=\"4\" halign=\"left\">ex_showroom_price</th>\n",
       "      <th colspan=\"4\" halign=\"left\">km_driven</th>\n",
       "      <th colspan=\"4\" halign=\"left\">selling_price</th>\n",
       "    </tr>\n",
       "    <tr>\n",
       "      <th></th>\n",
       "      <th>max</th>\n",
       "      <th>mean</th>\n",
       "      <th>min</th>\n",
       "      <th>std</th>\n",
       "      <th>max</th>\n",
       "      <th>mean</th>\n",
       "      <th>min</th>\n",
       "      <th>std</th>\n",
       "      <th>max</th>\n",
       "      <th>mean</th>\n",
       "      <th>min</th>\n",
       "      <th>std</th>\n",
       "    </tr>\n",
       "    <tr>\n",
       "      <th>owner</th>\n",
       "      <th></th>\n",
       "      <th></th>\n",
       "      <th></th>\n",
       "      <th></th>\n",
       "      <th></th>\n",
       "      <th></th>\n",
       "      <th></th>\n",
       "      <th></th>\n",
       "      <th></th>\n",
       "      <th></th>\n",
       "      <th></th>\n",
       "      <th></th>\n",
       "    </tr>\n",
       "  </thead>\n",
       "  <tbody>\n",
       "    <tr>\n",
       "      <th>1st owner</th>\n",
       "      <td>752020.0</td>\n",
       "      <td>84362.80</td>\n",
       "      <td>30490.0</td>\n",
       "      <td>54520.04</td>\n",
       "      <td>646000</td>\n",
       "      <td>32816.58</td>\n",
       "      <td>350</td>\n",
       "      <td>45870.37</td>\n",
       "      <td>760000</td>\n",
       "      <td>60022.81</td>\n",
       "      <td>5000</td>\n",
       "      <td>51542.57</td>\n",
       "    </tr>\n",
       "    <tr>\n",
       "      <th>2nd owner</th>\n",
       "      <td>1278000.0</td>\n",
       "      <td>112554.65</td>\n",
       "      <td>42859.0</td>\n",
       "      <td>168949.65</td>\n",
       "      <td>340000</td>\n",
       "      <td>39288.99</td>\n",
       "      <td>3500</td>\n",
       "      <td>35886.63</td>\n",
       "      <td>750000</td>\n",
       "      <td>55666.66</td>\n",
       "      <td>6000</td>\n",
       "      <td>81671.92</td>\n",
       "    </tr>\n",
       "    <tr>\n",
       "      <th>3rd owner</th>\n",
       "      <td>84751.0</td>\n",
       "      <td>64611.00</td>\n",
       "      <td>44493.0</td>\n",
       "      <td>20129.01</td>\n",
       "      <td>70000</td>\n",
       "      <td>33292.18</td>\n",
       "      <td>5000</td>\n",
       "      <td>20934.50</td>\n",
       "      <td>150000</td>\n",
       "      <td>55727.27</td>\n",
       "      <td>20000</td>\n",
       "      <td>38385.13</td>\n",
       "    </tr>\n",
       "    <tr>\n",
       "      <th>4th owner</th>\n",
       "      <td>534000.0</td>\n",
       "      <td>534000.00</td>\n",
       "      <td>534000.0</td>\n",
       "      <td>NaN</td>\n",
       "      <td>880000</td>\n",
       "      <td>311500.00</td>\n",
       "      <td>6500</td>\n",
       "      <td>492772.51</td>\n",
       "      <td>330000</td>\n",
       "      <td>118333.33</td>\n",
       "      <td>10000</td>\n",
       "      <td>183325.76</td>\n",
       "    </tr>\n",
       "  </tbody>\n",
       "</table>\n",
       "</div>"
      ],
      "text/plain": [
       "          ex_showroom_price                                 km_driven  \\\n",
       "                        max       mean       min        std       max   \n",
       "owner                                                                   \n",
       "1st owner          752020.0   84362.80   30490.0   54520.04    646000   \n",
       "2nd owner         1278000.0  112554.65   42859.0  168949.65    340000   \n",
       "3rd owner           84751.0   64611.00   44493.0   20129.01     70000   \n",
       "4th owner          534000.0  534000.00  534000.0        NaN    880000   \n",
       "\n",
       "                                      selling_price                    \\\n",
       "                mean   min        std           max       mean    min   \n",
       "owner                                                                   \n",
       "1st owner   32816.58   350   45870.37        760000   60022.81   5000   \n",
       "2nd owner   39288.99  3500   35886.63        750000   55666.66   6000   \n",
       "3rd owner   33292.18  5000   20934.50        150000   55727.27  20000   \n",
       "4th owner  311500.00  6500  492772.51        330000  118333.33  10000   \n",
       "\n",
       "                      \n",
       "                 std  \n",
       "owner                 \n",
       "1st owner   51542.57  \n",
       "2nd owner   81671.92  \n",
       "3rd owner   38385.13  \n",
       "4th owner  183325.76  "
      ]
     },
     "execution_count": 30,
     "metadata": {},
     "output_type": "execute_result"
    }
   ],
   "source": [
    "pd.pivot_table(bike_data, values = [\"selling_price\", \"ex_showroom_price\", \"km_driven\"],\n",
    "               index = [\"owner\"], aggfunc = (\"min\", \"max\", \"mean\", \"std\")).round(2)"
   ]
  },
  {
   "cell_type": "code",
   "execution_count": 31,
   "id": "309d9986-c2a0-419b-ad5a-7c9e59dbe141",
   "metadata": {},
   "outputs": [
    {
     "data": {
      "text/html": [
       "<div>\n",
       "<style scoped>\n",
       "    .dataframe tbody tr th:only-of-type {\n",
       "        vertical-align: middle;\n",
       "    }\n",
       "\n",
       "    .dataframe tbody tr th {\n",
       "        vertical-align: top;\n",
       "    }\n",
       "\n",
       "    .dataframe thead tr th {\n",
       "        text-align: left;\n",
       "    }\n",
       "\n",
       "    .dataframe thead tr:last-of-type th {\n",
       "        text-align: right;\n",
       "    }\n",
       "</style>\n",
       "<table border=\"1\" class=\"dataframe\">\n",
       "  <thead>\n",
       "    <tr>\n",
       "      <th></th>\n",
       "      <th colspan=\"4\" halign=\"left\">ex_showroom_price</th>\n",
       "      <th colspan=\"4\" halign=\"left\">km_driven</th>\n",
       "      <th colspan=\"4\" halign=\"left\">selling_price</th>\n",
       "    </tr>\n",
       "    <tr>\n",
       "      <th></th>\n",
       "      <th>max</th>\n",
       "      <th>mean</th>\n",
       "      <th>min</th>\n",
       "      <th>std</th>\n",
       "      <th>max</th>\n",
       "      <th>mean</th>\n",
       "      <th>min</th>\n",
       "      <th>std</th>\n",
       "      <th>max</th>\n",
       "      <th>mean</th>\n",
       "      <th>min</th>\n",
       "      <th>std</th>\n",
       "    </tr>\n",
       "    <tr>\n",
       "      <th>year_cat</th>\n",
       "      <th></th>\n",
       "      <th></th>\n",
       "      <th></th>\n",
       "      <th></th>\n",
       "      <th></th>\n",
       "      <th></th>\n",
       "      <th></th>\n",
       "      <th></th>\n",
       "      <th></th>\n",
       "      <th></th>\n",
       "      <th></th>\n",
       "      <th></th>\n",
       "    </tr>\n",
       "  </thead>\n",
       "  <tbody>\n",
       "    <tr>\n",
       "      <th>[1986, 1990)</th>\n",
       "      <td>NaN</td>\n",
       "      <td>NaN</td>\n",
       "      <td>NaN</td>\n",
       "      <td>NaN</td>\n",
       "      <td>21000</td>\n",
       "      <td>21000.00</td>\n",
       "      <td>21000</td>\n",
       "      <td>NaN</td>\n",
       "      <td>20000</td>\n",
       "      <td>20000.00</td>\n",
       "      <td>20000</td>\n",
       "      <td>NaN</td>\n",
       "    </tr>\n",
       "    <tr>\n",
       "      <th>[1990, 1994)</th>\n",
       "      <td>NaN</td>\n",
       "      <td>NaN</td>\n",
       "      <td>NaN</td>\n",
       "      <td>NaN</td>\n",
       "      <td>35000</td>\n",
       "      <td>22500.00</td>\n",
       "      <td>10000</td>\n",
       "      <td>17677.67</td>\n",
       "      <td>130000</td>\n",
       "      <td>68000.00</td>\n",
       "      <td>6000</td>\n",
       "      <td>87681.24</td>\n",
       "    </tr>\n",
       "    <tr>\n",
       "      <th>[1994, 1998)</th>\n",
       "      <td>NaN</td>\n",
       "      <td>NaN</td>\n",
       "      <td>NaN</td>\n",
       "      <td>NaN</td>\n",
       "      <td>646000</td>\n",
       "      <td>237118.00</td>\n",
       "      <td>20000</td>\n",
       "      <td>354329.05</td>\n",
       "      <td>150000</td>\n",
       "      <td>61666.67</td>\n",
       "      <td>10000</td>\n",
       "      <td>76865.68</td>\n",
       "    </tr>\n",
       "    <tr>\n",
       "      <th>[1998, 2002)</th>\n",
       "      <td>54852.0</td>\n",
       "      <td>54852.00</td>\n",
       "      <td>54852.0</td>\n",
       "      <td>NaN</td>\n",
       "      <td>65000</td>\n",
       "      <td>35291.67</td>\n",
       "      <td>4000</td>\n",
       "      <td>22949.01</td>\n",
       "      <td>70000</td>\n",
       "      <td>25416.67</td>\n",
       "      <td>5000</td>\n",
       "      <td>24257.93</td>\n",
       "    </tr>\n",
       "    <tr>\n",
       "      <th>[2002, 2006)</th>\n",
       "      <td>54852.0</td>\n",
       "      <td>54852.00</td>\n",
       "      <td>54852.0</td>\n",
       "      <td>0.00</td>\n",
       "      <td>127000</td>\n",
       "      <td>48774.61</td>\n",
       "      <td>11000</td>\n",
       "      <td>29961.34</td>\n",
       "      <td>59000</td>\n",
       "      <td>16660.87</td>\n",
       "      <td>7500</td>\n",
       "      <td>10793.30</td>\n",
       "    </tr>\n",
       "    <tr>\n",
       "      <th>[2006, 2010)</th>\n",
       "      <td>85011.0</td>\n",
       "      <td>63979.61</td>\n",
       "      <td>42859.0</td>\n",
       "      <td>15628.84</td>\n",
       "      <td>880000</td>\n",
       "      <td>64704.50</td>\n",
       "      <td>3500</td>\n",
       "      <td>99343.35</td>\n",
       "      <td>180000</td>\n",
       "      <td>26420.00</td>\n",
       "      <td>6000</td>\n",
       "      <td>22912.10</td>\n",
       "    </tr>\n",
       "    <tr>\n",
       "      <th>[2010, 2014)</th>\n",
       "      <td>1278000.0</td>\n",
       "      <td>83425.72</td>\n",
       "      <td>37675.0</td>\n",
       "      <td>111236.26</td>\n",
       "      <td>500000</td>\n",
       "      <td>45209.90</td>\n",
       "      <td>1900</td>\n",
       "      <td>50123.60</td>\n",
       "      <td>750000</td>\n",
       "      <td>39083.28</td>\n",
       "      <td>12000</td>\n",
       "      <td>50548.88</td>\n",
       "    </tr>\n",
       "    <tr>\n",
       "      <th>[2014, 2018)</th>\n",
       "      <td>599000.0</td>\n",
       "      <td>85457.47</td>\n",
       "      <td>30490.0</td>\n",
       "      <td>57805.32</td>\n",
       "      <td>450000</td>\n",
       "      <td>29615.22</td>\n",
       "      <td>1200</td>\n",
       "      <td>32691.25</td>\n",
       "      <td>425000</td>\n",
       "      <td>62245.90</td>\n",
       "      <td>15000</td>\n",
       "      <td>42670.33</td>\n",
       "    </tr>\n",
       "    <tr>\n",
       "      <th>[2018, 2022)</th>\n",
       "      <td>752020.0</td>\n",
       "      <td>106332.10</td>\n",
       "      <td>48000.0</td>\n",
       "      <td>78601.96</td>\n",
       "      <td>70000</td>\n",
       "      <td>11998.03</td>\n",
       "      <td>350</td>\n",
       "      <td>10715.46</td>\n",
       "      <td>760000</td>\n",
       "      <td>101485.49</td>\n",
       "      <td>30000</td>\n",
       "      <td>72415.92</td>\n",
       "    </tr>\n",
       "  </tbody>\n",
       "</table>\n",
       "</div>"
      ],
      "text/plain": [
       "             ex_showroom_price                                km_driven  \\\n",
       "                           max       mean      min        std       max   \n",
       "year_cat                                                                  \n",
       "[1986, 1990)               NaN        NaN      NaN        NaN     21000   \n",
       "[1990, 1994)               NaN        NaN      NaN        NaN     35000   \n",
       "[1994, 1998)               NaN        NaN      NaN        NaN    646000   \n",
       "[1998, 2002)           54852.0   54852.00  54852.0        NaN     65000   \n",
       "[2002, 2006)           54852.0   54852.00  54852.0       0.00    127000   \n",
       "[2006, 2010)           85011.0   63979.61  42859.0   15628.84    880000   \n",
       "[2010, 2014)         1278000.0   83425.72  37675.0  111236.26    500000   \n",
       "[2014, 2018)          599000.0   85457.47  30490.0   57805.32    450000   \n",
       "[2018, 2022)          752020.0  106332.10  48000.0   78601.96     70000   \n",
       "\n",
       "                                          selling_price                    \\\n",
       "                   mean    min        std           max       mean    min   \n",
       "year_cat                                                                    \n",
       "[1986, 1990)   21000.00  21000        NaN         20000   20000.00  20000   \n",
       "[1990, 1994)   22500.00  10000   17677.67        130000   68000.00   6000   \n",
       "[1994, 1998)  237118.00  20000  354329.05        150000   61666.67  10000   \n",
       "[1998, 2002)   35291.67   4000   22949.01         70000   25416.67   5000   \n",
       "[2002, 2006)   48774.61  11000   29961.34         59000   16660.87   7500   \n",
       "[2006, 2010)   64704.50   3500   99343.35        180000   26420.00   6000   \n",
       "[2010, 2014)   45209.90   1900   50123.60        750000   39083.28  12000   \n",
       "[2014, 2018)   29615.22   1200   32691.25        425000   62245.90  15000   \n",
       "[2018, 2022)   11998.03    350   10715.46        760000  101485.49  30000   \n",
       "\n",
       "                        \n",
       "                   std  \n",
       "year_cat                \n",
       "[1986, 1990)       NaN  \n",
       "[1990, 1994)  87681.24  \n",
       "[1994, 1998)  76865.68  \n",
       "[1998, 2002)  24257.93  \n",
       "[2002, 2006)  10793.30  \n",
       "[2006, 2010)  22912.10  \n",
       "[2010, 2014)  50548.88  \n",
       "[2014, 2018)  42670.33  \n",
       "[2018, 2022)  72415.92  "
      ]
     },
     "execution_count": 31,
     "metadata": {},
     "output_type": "execute_result"
    }
   ],
   "source": [
    "pd.pivot_table(bike_data, values = [\"selling_price\", \"ex_showroom_price\", \"km_driven\"],\n",
    "               index = [\"year_cat\"], aggfunc = (\"min\", \"max\", \"mean\", \"std\")).round(2)"
   ]
  },
  {
   "cell_type": "code",
   "execution_count": 32,
   "id": "6519081f-b7d0-411d-b6a3-762bdc0d35bb",
   "metadata": {},
   "outputs": [
    {
     "data": {
      "text/plain": [
       "<AxesSubplot:xlabel='year'>"
      ]
     },
     "execution_count": 32,
     "metadata": {},
     "output_type": "execute_result"
    },
    {
     "data": {
      "image/png": "[encoded data removed]",
      "text/plain": [
       "<Figure size 432x288 with 1 Axes>"
      ]
     },
     "metadata": {
      "needs_background": "light"
     },
     "output_type": "display_data"
    }
   ],
   "source": [
    "max_selling = bike_data.groupby(\"year\")\\\n",
    ".agg(\n",
    "    max_selling = (\"selling_price\", max), \n",
    "    median_sellling = (\"selling_price\", np.median),\n",
    "    min_selling = (\"selling_price\", min), \n",
    ")\n",
    "max_selling.plot.line()"
   ]
  },
  {
   "cell_type": "code",
   "execution_count": 33,
   "id": "fcb3b04d-0206-40ed-88b6-a8f23d379ecf",
   "metadata": {},
   "outputs": [
    {
     "data": {
      "text/plain": [
       "array([[<AxesSubplot:xlabel='selling_price', ylabel='selling_price'>,\n",
       "        <AxesSubplot:xlabel='year', ylabel='selling_price'>,\n",
       "        <AxesSubplot:xlabel='km_driven', ylabel='selling_price'>,\n",
       "        <AxesSubplot:xlabel='ex_showroom_price', ylabel='selling_price'>],\n",
       "       [<AxesSubplot:xlabel='selling_price', ylabel='year'>,\n",
       "        <AxesSubplot:xlabel='year', ylabel='year'>,\n",
       "        <AxesSubplot:xlabel='km_driven', ylabel='year'>,\n",
       "        <AxesSubplot:xlabel='ex_showroom_price', ylabel='year'>],\n",
       "       [<AxesSubplot:xlabel='selling_price', ylabel='km_driven'>,\n",
       "        <AxesSubplot:xlabel='year', ylabel='km_driven'>,\n",
       "        <AxesSubplot:xlabel='km_driven', ylabel='km_driven'>,\n",
       "        <AxesSubplot:xlabel='ex_showroom_price', ylabel='km_driven'>],\n",
       "       [<AxesSubplot:xlabel='selling_price', ylabel='ex_showroom_price'>,\n",
       "        <AxesSubplot:xlabel='year', ylabel='ex_showroom_price'>,\n",
       "        <AxesSubplot:xlabel='km_driven', ylabel='ex_showroom_price'>,\n",
       "        <AxesSubplot:xlabel='ex_showroom_price', ylabel='ex_showroom_price'>]],\n",
       "      dtype=object)"
      ]
     },
     "execution_count": 33,
     "metadata": {},
     "output_type": "execute_result"
    },
    {
     "data": {
      "image/png": "[encoded data removed]",
      "text/plain": [
       "<Figure size 432x288 with 16 Axes>"
      ]
     },
     "metadata": {
      "needs_background": "light"
     },
     "output_type": "display_data"
    }
   ],
   "source": [
    "pd.plotting.scatter_matrix(bike_data)"
   ]
  },
  {
   "cell_type": "markdown",
   "id": "99ae62c8-e755-4d38-bba2-7ed4bf7ff142",
   "metadata": {},
   "source": [
    "## George's EDA"
   ]
  },
  {
   "cell_type": "code",
   "execution_count": 34,
   "id": "0afc7a5e-0cd4-43e2-adfb-146150eecad9",
   "metadata": {},
   "outputs": [
    {
     "data": {
      "text/html": [
       "<div>\n",
       "<style scoped>\n",
       "    .dataframe tbody tr th:only-of-type {\n",
       "        vertical-align: middle;\n",
       "    }\n",
       "\n",
       "    .dataframe tbody tr th {\n",
       "        vertical-align: top;\n",
       "    }\n",
       "\n",
       "    .dataframe thead th {\n",
       "        text-align: right;\n",
       "    }\n",
       "</style>\n",
       "<table border=\"1\" class=\"dataframe\">\n",
       "  <thead>\n",
       "    <tr style=\"text-align: right;\">\n",
       "      <th></th>\n",
       "      <th>selling_price</th>\n",
       "      <th>year</th>\n",
       "      <th>km_driven</th>\n",
       "      <th>ex_showroom_price</th>\n",
       "    </tr>\n",
       "  </thead>\n",
       "  <tbody>\n",
       "    <tr>\n",
       "      <th>count</th>\n",
       "      <td>1061.00</td>\n",
       "      <td>1061.00</td>\n",
       "      <td>1061.00</td>\n",
       "      <td>626.00</td>\n",
       "    </tr>\n",
       "    <tr>\n",
       "      <th>mean</th>\n",
       "      <td>59638.15</td>\n",
       "      <td>2013.87</td>\n",
       "      <td>34359.83</td>\n",
       "      <td>87958.71</td>\n",
       "    </tr>\n",
       "    <tr>\n",
       "      <th>std</th>\n",
       "      <td>56304.29</td>\n",
       "      <td>4.30</td>\n",
       "      <td>51623.15</td>\n",
       "      <td>77496.59</td>\n",
       "    </tr>\n",
       "    <tr>\n",
       "      <th>min</th>\n",
       "      <td>5000.00</td>\n",
       "      <td>1988.00</td>\n",
       "      <td>350.00</td>\n",
       "      <td>30490.00</td>\n",
       "    </tr>\n",
       "    <tr>\n",
       "      <th>25%</th>\n",
       "      <td>28000.00</td>\n",
       "      <td>2011.00</td>\n",
       "      <td>13500.00</td>\n",
       "      <td>54852.00</td>\n",
       "    </tr>\n",
       "    <tr>\n",
       "      <th>50%</th>\n",
       "      <td>45000.00</td>\n",
       "      <td>2015.00</td>\n",
       "      <td>25000.00</td>\n",
       "      <td>72752.50</td>\n",
       "    </tr>\n",
       "    <tr>\n",
       "      <th>75%</th>\n",
       "      <td>70000.00</td>\n",
       "      <td>2017.00</td>\n",
       "      <td>43000.00</td>\n",
       "      <td>87031.50</td>\n",
       "    </tr>\n",
       "    <tr>\n",
       "      <th>max</th>\n",
       "      <td>760000.00</td>\n",
       "      <td>2020.00</td>\n",
       "      <td>880000.00</td>\n",
       "      <td>1278000.00</td>\n",
       "    </tr>\n",
       "  </tbody>\n",
       "</table>\n",
       "</div>"
      ],
      "text/plain": [
       "       selling_price     year  km_driven  ex_showroom_price\n",
       "count        1061.00  1061.00    1061.00             626.00\n",
       "mean        59638.15  2013.87   34359.83           87958.71\n",
       "std         56304.29     4.30   51623.15           77496.59\n",
       "min          5000.00  1988.00     350.00           30490.00\n",
       "25%         28000.00  2011.00   13500.00           54852.00\n",
       "50%         45000.00  2015.00   25000.00           72752.50\n",
       "75%         70000.00  2017.00   43000.00           87031.50\n",
       "max        760000.00  2020.00  880000.00         1278000.00"
      ]
     },
     "execution_count": 34,
     "metadata": {},
     "output_type": "execute_result"
    }
   ],
   "source": [
    "#using the .describe() method to get a first look at the numeric variables in the dataset. Although you would not necessarily perform math on the listed years for each bike, seeing info like the average year is meaningful.\n",
    "bike_data.describe().round(2)"
   ]
  },
  {
   "cell_type": "code",
   "execution_count": 43,
   "id": "5ef4126e-1876-4f34-b85c-3143d3061f33",
   "metadata": {},
   "outputs": [
    {
     "data": {
      "text/plain": [
       "Index(['name', 'selling_price', 'year', 'seller_type', 'owner', 'km_driven',\n",
       "       'ex_showroom_price', 'year_cat'],\n",
       "      dtype='object')"
      ]
     },
     "execution_count": 43,
     "metadata": {},
     "output_type": "execute_result"
    }
   ],
   "source": [
    "bike_data.columns\n",
    "#note: our columns are name, selling_price, year, seller_type, owner, km_driven, and ex_showroom_price"
   ]
  },
  {
   "cell_type": "code",
   "execution_count": 44,
   "id": "ee440115-6573-4e9e-a640-eada3a6c302a",
   "metadata": {},
   "outputs": [],
   "source": [
    "#bike_data_numeric = bike_data['selling_price', 'km_driven', 'ex_showrooom_price']\n",
    "\n",
    "#previously I tried to do what I was doing above exactly in the way he does it\n",
    "#in the video and got the same error\n",
    "\n",
    "#Fixed to grab desired columns from bike_data for all rows\n",
    "bike_data_numeric = bike_data.loc[:, ['selling_price', 'year', 'km_driven', 'ex_showroom_price']]\n"
   ]
  },
  {
   "cell_type": "code",
   "execution_count": 45,
   "id": "51d8b921-91a3-4ea3-b0be-22900927cb80",
   "metadata": {},
   "outputs": [
    {
     "data": {
      "text/plain": [
       "59638.151743638075"
      ]
     },
     "execution_count": 45,
     "metadata": {},
     "output_type": "execute_result"
    }
   ],
   "source": [
    "#finding mean and median of all the numeric variables using the .mean and .median methods\n",
    "bike_data['selling_price'].mean()"
   ]
  },
  {
   "cell_type": "code",
   "execution_count": 46,
   "id": "5959146c-25b4-4414-9579-96cf13824064",
   "metadata": {},
   "outputs": [
    {
     "data": {
      "text/plain": [
       "45000.0"
      ]
     },
     "execution_count": 46,
     "metadata": {},
     "output_type": "execute_result"
    }
   ],
   "source": [
    "bike_data['selling_price'].median()"
   ]
  },
  {
   "cell_type": "code",
   "execution_count": 47,
   "id": "3f561b19-8a59-4519-9633-63ee7b9c0015",
   "metadata": {},
   "outputs": [
    {
     "data": {
      "text/plain": [
       "34359.83317624882"
      ]
     },
     "execution_count": 47,
     "metadata": {},
     "output_type": "execute_result"
    }
   ],
   "source": [
    "bike_data['km_driven'].mean()"
   ]
  },
  {
   "cell_type": "code",
   "execution_count": 48,
   "id": "9a29b84e-9df7-4c7e-929b-3a99b44cecbc",
   "metadata": {},
   "outputs": [
    {
     "data": {
      "text/plain": [
       "25000.0"
      ]
     },
     "execution_count": 48,
     "metadata": {},
     "output_type": "execute_result"
    }
   ],
   "source": [
    "bike_data['km_driven'].median()"
   ]
  },
  {
   "cell_type": "code",
   "execution_count": 49,
   "id": "0439c6b1-3cd2-42dc-a843-8f2c5fc09736",
   "metadata": {},
   "outputs": [
    {
     "data": {
      "text/plain": [
       "87958.71405750798"
      ]
     },
     "execution_count": 49,
     "metadata": {},
     "output_type": "execute_result"
    }
   ],
   "source": [
    "bike_data['ex_showroom_price'].mean()"
   ]
  },
  {
   "cell_type": "code",
   "execution_count": 50,
   "id": "67a2dcf9-5ba4-4dd9-838c-eb1061a75b7c",
   "metadata": {},
   "outputs": [
    {
     "data": {
      "text/plain": [
       "72752.5"
      ]
     },
     "execution_count": 50,
     "metadata": {},
     "output_type": "execute_result"
    }
   ],
   "source": [
    "bike_data['ex_showroom_price'].median()"
   ]
  },
  {
   "cell_type": "code",
   "execution_count": 51,
   "id": "c06f2933-6f1f-4326-ab95-55d47199a7e1",
   "metadata": {},
   "outputs": [
    {
     "data": {
      "text/plain": [
       "56304.29197302419"
      ]
     },
     "execution_count": 51,
     "metadata": {},
     "output_type": "execute_result"
    }
   ],
   "source": [
    "#similarly finding standard deviations of the numeric variables\n",
    "bike_data.selling_price.std()"
   ]
  },
  {
   "cell_type": "code",
   "execution_count": 52,
   "id": "54d0bb08-35c9-406b-8c09-de6aa7721e5d",
   "metadata": {},
   "outputs": [
    {
     "data": {
      "text/plain": [
       "51623.15270159632"
      ]
     },
     "execution_count": 52,
     "metadata": {},
     "output_type": "execute_result"
    }
   ],
   "source": [
    "bike_data.km_driven.std()"
   ]
  },
  {
   "cell_type": "code",
   "execution_count": 53,
   "id": "4778d18d-b678-4ee0-b6da-4054ba3f5512",
   "metadata": {},
   "outputs": [
    {
     "data": {
      "text/plain": [
       "77496.5871894531"
      ]
     },
     "execution_count": 53,
     "metadata": {},
     "output_type": "execute_result"
    }
   ],
   "source": [
    "bike_data.ex_showroom_price.std()"
   ]
  },
  {
   "cell_type": "code",
   "execution_count": 31,
   "id": "92dd5d5b-f436-482b-8b5b-b6a36bfcb4c3",
   "metadata": {},
   "outputs": [],
   "source": [
    "# #similarly finding more fine-tuned quantiles\n",
    "# bike_data.selling_price.quantile(q = [.05, .10, .15, .20, .25,\n",
    "#                                       .30, .35, .40, .45, .50,\n",
    "#                                       .55, .60, .65, .70, .75,\n",
    "#                                       .80, .85, .90, .95])"
   ]
  },
  {
   "cell_type": "code",
   "execution_count": 32,
   "id": "a8e4d5c7-94b9-4889-955d-61d5a04971d3",
   "metadata": {},
   "outputs": [],
   "source": [
    "# bike_data.km_driven.quantile(q = [.05, .10, .15, .20, .25,\n",
    "#                                   .30, .35, .40, .45, .50,\n",
    "#                                   .55, .60, .65, .70, .75,\n",
    "#                                   .80, .85, .90, .95])"
   ]
  },
  {
   "cell_type": "code",
   "execution_count": 33,
   "id": "d9431c26-b58c-480b-a8a0-0058091345da",
   "metadata": {},
   "outputs": [],
   "source": [
    "#bike_data.ex_showroom_price.quantile(q = [.05, .10, .15, .20, .25,\n",
    "                                          # .30, .35, .40, .45, .50,\n",
    "                                          # .55, .60, .65, .70, .75,\n",
    "                                          # .80, .85, .90, .95])"
   ]
  },
  {
   "cell_type": "code",
   "execution_count": 54,
   "id": "08f5033d-4d79-4d66-8fd5-2acbdfbc98cf",
   "metadata": {},
   "outputs": [],
   "source": [
    "#interquartile range for selling_price\n",
    "q1 = bike_data.selling_price.quantile(q = [.25])\n",
    "q3 = bike_data.selling_price.quantile(q = [.75])\n",
    "IQR_selling_price = q3[.75] - q1[.25]"
   ]
  },
  {
   "cell_type": "code",
   "execution_count": 55,
   "id": "dbb7a6a0-1a4e-4be0-a798-402c97b44990",
   "metadata": {},
   "outputs": [
    {
     "data": {
      "text/html": [
       "<div>\n",
       "<style scoped>\n",
       "    .dataframe tbody tr th:only-of-type {\n",
       "        vertical-align: middle;\n",
       "    }\n",
       "\n",
       "    .dataframe tbody tr th {\n",
       "        vertical-align: top;\n",
       "    }\n",
       "\n",
       "    .dataframe thead th {\n",
       "        text-align: right;\n",
       "    }\n",
       "</style>\n",
       "<table border=\"1\" class=\"dataframe\">\n",
       "  <thead>\n",
       "    <tr style=\"text-align: right;\">\n",
       "      <th></th>\n",
       "      <th>selling_price</th>\n",
       "      <th>year</th>\n",
       "      <th>km_driven</th>\n",
       "      <th>ex_showroom_price</th>\n",
       "    </tr>\n",
       "  </thead>\n",
       "  <tbody>\n",
       "    <tr>\n",
       "      <th>selling_price</th>\n",
       "      <td>1.000</td>\n",
       "      <td>0.402</td>\n",
       "      <td>-0.213</td>\n",
       "      <td>0.919</td>\n",
       "    </tr>\n",
       "    <tr>\n",
       "      <th>year</th>\n",
       "      <td>0.402</td>\n",
       "      <td>1.000</td>\n",
       "      <td>-0.289</td>\n",
       "      <td>0.126</td>\n",
       "    </tr>\n",
       "    <tr>\n",
       "      <th>km_driven</th>\n",
       "      <td>-0.213</td>\n",
       "      <td>-0.289</td>\n",
       "      <td>1.000</td>\n",
       "      <td>-0.122</td>\n",
       "    </tr>\n",
       "    <tr>\n",
       "      <th>ex_showroom_price</th>\n",
       "      <td>0.919</td>\n",
       "      <td>0.126</td>\n",
       "      <td>-0.122</td>\n",
       "      <td>1.000</td>\n",
       "    </tr>\n",
       "  </tbody>\n",
       "</table>\n",
       "</div>"
      ],
      "text/plain": [
       "                   selling_price   year  km_driven  ex_showroom_price\n",
       "selling_price              1.000  0.402     -0.213              0.919\n",
       "year                       0.402  1.000     -0.289              0.126\n",
       "km_driven                 -0.213 -0.289      1.000             -0.122\n",
       "ex_showroom_price          0.919  0.126     -0.122              1.000"
      ]
     },
     "execution_count": 55,
     "metadata": {},
     "output_type": "execute_result"
    }
   ],
   "source": [
    "#finding correlation between the numeric variables in the data set\n",
    "bike_data_numeric.corr().round(3)"
   ]
  },
  {
   "cell_type": "markdown",
   "id": "57d9f8e1-a70b-4fa9-ae53-e951b89eda2c",
   "metadata": {},
   "source": [
    "We see that selling_price and ex_showroom_price are highly correlated, in fact even more highly correlated than I anticipated or what it looked like from a cursory look at the data. They in fact boast a roughly 92% correlation with one another. Also, selling_price and km_driven are negatively correlated as one would expect (the more use a vehicle has the lower the price all else being equal). Insofar as it is meaningful the positive correlation shown between year and selling_price also makes sense because a larger number for year represents a newer vehicle. One might expect that until a bike is so old as to be considered a collector's item or an antique that an older bike would be worth less."
   ]
  },
  {
   "cell_type": "code",
   "execution_count": 56,
   "id": "be9830fe-75f1-4d3b-ac5a-0d416f698700",
   "metadata": {},
   "outputs": [
    {
     "data": {
      "text/html": [
       "<div>\n",
       "<style scoped>\n",
       "    .dataframe tbody tr th:only-of-type {\n",
       "        vertical-align: middle;\n",
       "    }\n",
       "\n",
       "    .dataframe tbody tr th {\n",
       "        vertical-align: top;\n",
       "    }\n",
       "\n",
       "    .dataframe thead th {\n",
       "        text-align: right;\n",
       "    }\n",
       "</style>\n",
       "<table border=\"1\" class=\"dataframe\">\n",
       "  <thead>\n",
       "    <tr style=\"text-align: right;\">\n",
       "      <th></th>\n",
       "      <th>selling_price</th>\n",
       "      <th>km_driven</th>\n",
       "      <th>ex_showroom_price</th>\n",
       "    </tr>\n",
       "    <tr>\n",
       "      <th>seller_type</th>\n",
       "      <th></th>\n",
       "      <th></th>\n",
       "      <th></th>\n",
       "    </tr>\n",
       "  </thead>\n",
       "  <tbody>\n",
       "    <tr>\n",
       "      <th>Dealer</th>\n",
       "      <td>46666.67</td>\n",
       "      <td>35258.83</td>\n",
       "      <td>88536.00</td>\n",
       "    </tr>\n",
       "    <tr>\n",
       "      <th>Individual</th>\n",
       "      <td>59711.92</td>\n",
       "      <td>34354.72</td>\n",
       "      <td>87955.93</td>\n",
       "    </tr>\n",
       "  </tbody>\n",
       "</table>\n",
       "</div>"
      ],
      "text/plain": [
       "             selling_price  km_driven  ex_showroom_price\n",
       "seller_type                                             \n",
       "Dealer            46666.67   35258.83           88536.00\n",
       "Individual        59711.92   34354.72           87955.93"
      ]
     },
     "execution_count": 56,
     "metadata": {},
     "output_type": "execute_result"
    }
   ],
   "source": [
    "bike_data.drop([\"year\"], axis = 1).groupby(\"seller_type\").mean().round(2)"
   ]
  },
  {
   "cell_type": "code",
   "execution_count": 57,
   "id": "b6cf9444-cd81-499c-b062-1f2c3ad6eedc",
   "metadata": {},
   "outputs": [
    {
     "data": {
      "text/html": [
       "<div>\n",
       "<style scoped>\n",
       "    .dataframe tbody tr th:only-of-type {\n",
       "        vertical-align: middle;\n",
       "    }\n",
       "\n",
       "    .dataframe tbody tr th {\n",
       "        vertical-align: top;\n",
       "    }\n",
       "\n",
       "    .dataframe thead th {\n",
       "        text-align: right;\n",
       "    }\n",
       "</style>\n",
       "<table border=\"1\" class=\"dataframe\">\n",
       "  <thead>\n",
       "    <tr style=\"text-align: right;\">\n",
       "      <th></th>\n",
       "      <th>selling_price</th>\n",
       "      <th>km_driven</th>\n",
       "      <th>ex_showroom_price</th>\n",
       "    </tr>\n",
       "    <tr>\n",
       "      <th>owner</th>\n",
       "      <th></th>\n",
       "      <th></th>\n",
       "      <th></th>\n",
       "    </tr>\n",
       "  </thead>\n",
       "  <tbody>\n",
       "    <tr>\n",
       "      <th>1st owner</th>\n",
       "      <td>60022.81</td>\n",
       "      <td>32816.58</td>\n",
       "      <td>84362.80</td>\n",
       "    </tr>\n",
       "    <tr>\n",
       "      <th>2nd owner</th>\n",
       "      <td>55666.66</td>\n",
       "      <td>39288.99</td>\n",
       "      <td>112554.65</td>\n",
       "    </tr>\n",
       "    <tr>\n",
       "      <th>3rd owner</th>\n",
       "      <td>55727.27</td>\n",
       "      <td>33292.18</td>\n",
       "      <td>64611.00</td>\n",
       "    </tr>\n",
       "    <tr>\n",
       "      <th>4th owner</th>\n",
       "      <td>118333.33</td>\n",
       "      <td>311500.00</td>\n",
       "      <td>534000.00</td>\n",
       "    </tr>\n",
       "  </tbody>\n",
       "</table>\n",
       "</div>"
      ],
      "text/plain": [
       "           selling_price  km_driven  ex_showroom_price\n",
       "owner                                                 \n",
       "1st owner       60022.81   32816.58           84362.80\n",
       "2nd owner       55666.66   39288.99          112554.65\n",
       "3rd owner       55727.27   33292.18           64611.00\n",
       "4th owner      118333.33  311500.00          534000.00"
      ]
     },
     "execution_count": 57,
     "metadata": {},
     "output_type": "execute_result"
    }
   ],
   "source": [
    "bike_data.drop([\"year\"], axis = 1).groupby(\"owner\").mean().round(2)"
   ]
  },
  {
   "cell_type": "markdown",
   "id": "9b83eccf-a2e0-428a-978b-7815346be306",
   "metadata": {},
   "source": [
    "We can see that dealers tend to sell their bikes for about 13,000 dollars less than individuals do as well as sell slightly older bikes that have been ridden a little farther. Very interestingly, in the second set of grouped means we see that by far the most lucrative sales occur by the 4th owner. Intuitively one might expect a bike that has been sold at least three times before might be worth less, but that is clearly not the case. This owner status, particularly in the case of \"4th owner\" could be a powerful predictive attribute."
   ]
  },
  {
   "cell_type": "code",
   "execution_count": 58,
   "id": "ac5510fc-a1f1-4352-ae5f-e43896541579",
   "metadata": {},
   "outputs": [
    {
     "data": {
      "text/html": [
       "<div>\n",
       "<style scoped>\n",
       "    .dataframe tbody tr th:only-of-type {\n",
       "        vertical-align: middle;\n",
       "    }\n",
       "\n",
       "    .dataframe tbody tr th {\n",
       "        vertical-align: top;\n",
       "    }\n",
       "\n",
       "    .dataframe thead th {\n",
       "        text-align: right;\n",
       "    }\n",
       "</style>\n",
       "<table border=\"1\" class=\"dataframe\">\n",
       "  <thead>\n",
       "    <tr style=\"text-align: right;\">\n",
       "      <th></th>\n",
       "      <th>selling_price</th>\n",
       "      <th>km_driven</th>\n",
       "      <th>ex_showroom_price</th>\n",
       "    </tr>\n",
       "    <tr>\n",
       "      <th>year_cat</th>\n",
       "      <th></th>\n",
       "      <th></th>\n",
       "      <th></th>\n",
       "    </tr>\n",
       "  </thead>\n",
       "  <tbody>\n",
       "    <tr>\n",
       "      <th>[1986, 1990)</th>\n",
       "      <td>20000.00</td>\n",
       "      <td>21000.00</td>\n",
       "      <td>NaN</td>\n",
       "    </tr>\n",
       "    <tr>\n",
       "      <th>[1990, 1994)</th>\n",
       "      <td>68000.00</td>\n",
       "      <td>22500.00</td>\n",
       "      <td>NaN</td>\n",
       "    </tr>\n",
       "    <tr>\n",
       "      <th>[1994, 1998)</th>\n",
       "      <td>61666.67</td>\n",
       "      <td>237118.00</td>\n",
       "      <td>NaN</td>\n",
       "    </tr>\n",
       "    <tr>\n",
       "      <th>[1998, 2002)</th>\n",
       "      <td>25416.67</td>\n",
       "      <td>35291.67</td>\n",
       "      <td>54852.00</td>\n",
       "    </tr>\n",
       "    <tr>\n",
       "      <th>[2002, 2006)</th>\n",
       "      <td>16660.87</td>\n",
       "      <td>48774.61</td>\n",
       "      <td>54852.00</td>\n",
       "    </tr>\n",
       "    <tr>\n",
       "      <th>[2006, 2010)</th>\n",
       "      <td>26420.00</td>\n",
       "      <td>64704.50</td>\n",
       "      <td>63979.61</td>\n",
       "    </tr>\n",
       "    <tr>\n",
       "      <th>[2010, 2014)</th>\n",
       "      <td>39083.28</td>\n",
       "      <td>45209.90</td>\n",
       "      <td>83425.72</td>\n",
       "    </tr>\n",
       "    <tr>\n",
       "      <th>[2014, 2018)</th>\n",
       "      <td>62245.90</td>\n",
       "      <td>29615.22</td>\n",
       "      <td>85457.47</td>\n",
       "    </tr>\n",
       "    <tr>\n",
       "      <th>[2018, 2022)</th>\n",
       "      <td>101485.49</td>\n",
       "      <td>11998.03</td>\n",
       "      <td>106332.10</td>\n",
       "    </tr>\n",
       "  </tbody>\n",
       "</table>\n",
       "</div>"
      ],
      "text/plain": [
       "              selling_price  km_driven  ex_showroom_price\n",
       "year_cat                                                 \n",
       "[1986, 1990)       20000.00   21000.00                NaN\n",
       "[1990, 1994)       68000.00   22500.00                NaN\n",
       "[1994, 1998)       61666.67  237118.00                NaN\n",
       "[1998, 2002)       25416.67   35291.67           54852.00\n",
       "[2002, 2006)       16660.87   48774.61           54852.00\n",
       "[2006, 2010)       26420.00   64704.50           63979.61\n",
       "[2010, 2014)       39083.28   45209.90           83425.72\n",
       "[2014, 2018)       62245.90   29615.22           85457.47\n",
       "[2018, 2022)      101485.49   11998.03          106332.10"
      ]
     },
     "execution_count": 58,
     "metadata": {},
     "output_type": "execute_result"
    }
   ],
   "source": [
    "bike_data.drop([\"year\"], axis = 1).groupby(\"year_cat\").mean().round(2)"
   ]
  },
  {
   "cell_type": "markdown",
   "id": "cfd8b8b4-cee9-414d-ae9c-e603edb8cafa",
   "metadata": {},
   "source": [
    "#### Prediction of Selling Price"
   ]
  },
  {
   "cell_type": "markdown",
   "id": "cd707195-3508-4ce2-af1e-e8bc5c6a522d",
   "metadata": {},
   "source": [
    "##### Grid Search Algorithm"
   ]
  },
  {
   "cell_type": "markdown",
   "id": "682174f3-028e-4b2b-8828-18c342ea4976",
   "metadata": {},
   "source": [
    "In this section we will implement a grid search to find the optimal value of c (to the nearest $100) based off our data set.\n",
    "\n",
    "The code below determines the best c value for *\"Just y\"*\n",
    "\n",
    "C was selected to be within the IQR of selling_price"
   ]
  },
  {
   "cell_type": "code",
   "execution_count": 59,
   "id": "7f5c0e52-5405-4bcc-8840-c4d2fcc6dfeb",
   "metadata": {},
   "outputs": [],
   "source": [
    "# To Do: Grid of c values selected from SLR  (y ~ intercept)\n",
    "\n",
    "#Step 1.\n",
    "def get_c_vals(y): #c grid goes here\n",
    "    \"\"\"\n",
    "    Generate a series of c values for the response variable y\n",
    "    y is aassumed to be a numpy array (1D) or Pandas series\n",
    "    Data is assumed to have no missing values\n",
    "    \"\"\"\n",
    "    q1 = bike_data.selling_price.quantile(q = [.25])\n",
    "    q3 = bike_data.selling_price.quantile(q = [.75])\n",
    "    c = pd.Series(range(int(q1[0.25]),int(q3[0.75]+1),100))\n",
    "    #c = pd.Series(range(0, 11, 1))\n",
    "    return c\n",
    "\n",
    "\n",
    "#Step 2. & 3. creates a squared error loss and rmse fuction\n",
    "#outputs RMSE\n",
    "def get_rmse_y(y, c):\n",
    "    \"\"\"\n",
    "    Compute RMSE\n",
    "    y is assumed to be a numpy array (1D) or Pandas series\n",
    "    c is assumed to be an integer or float\n",
    "    Data is assumed to have no missing values\n",
    "    \"\"\"\n",
    "    sums = 0\n",
    "    for i in range(0, len(y)):\n",
    "        sums += (y[i] - c)**2\n",
    "    return math.sqrt((1/len(y))*sums)\n",
    "\n",
    "\n",
    "#Creating variables for conditional logic  \n",
    "best_c = small_e = float(1000000)\n",
    "# Note: I think we could used mappping here\n",
    "\n",
    "#Step 4. Loop to apply the RMSE all values of c\n",
    "def grid_search_y(y):\n",
    "    \"\"\"\n",
    "    Calculate best prediction value with lowest RMSE\n",
    "    y is assumed to be a numpy arrays (1D) or Pandas series\n",
    "    Data is assumed to have no missing values\n",
    "    \"\"\"\n",
    "    c = get_c_vals(y)\n",
    "    global small_e\n",
    "    global best_c\n",
    "    for i in range(0, len(c)):\n",
    "        e = get_rmse_y(y, c[i])\n",
    "        if e < small_e:\n",
    "            small_e = e\n",
    "            best_c = c[i]\n",
    "        else:\n",
    "            continue"
   ]
  },
  {
   "cell_type": "code",
   "execution_count": 60,
   "id": "54f5eabf-4d0d-4347-92f1-2c679f51fe73",
   "metadata": {},
   "outputs": [
    {
     "data": {
      "text/plain": [
       "59600"
      ]
     },
     "execution_count": 60,
     "metadata": {},
     "output_type": "execute_result"
    }
   ],
   "source": [
    "#Step 5. Returns the optimal_c value\n",
    "grid_search_y(bike_data.selling_price)\n",
    "best_c\n",
    "\n",
    "# #Step 6. Displays optimal c value and corresponding RMSE for selling_price\n",
    "# best_c\n",
    "# small_e\n",
    "# prediction\n",
    "\n",
    "# #Testing generalization of algorithm on km_driven\n",
    "# grid_search_y(bike_data.km_driven)"
   ]
  },
  {
   "cell_type": "markdown",
   "id": "ecd6f105-0169-4f1d-a1a3-2b1d21b6b012",
   "metadata": {},
   "source": [
    "*Using y and another numeric variable as x*\n",
    "Repeating the grid search to included an explanatory variable *x*.\n",
    "Here y is still selling_price but now we have included km_driven as x."
   ]
  },
  {
   "cell_type": "code",
   "execution_count": 61,
   "id": "ac0296b8-1b97-415b-bdb9-cbdd08f0f960",
   "metadata": {},
   "outputs": [],
   "source": [
    "#To Do: Grid of b0 and b1 values selected from SLR y ~ intercept + x\n",
    "#\n",
    "#Function to generate b0 and b1 values\n",
    "def get_beta_vals(y, x): \n",
    "    \"\"\"\n",
    "    Creates a data frame of beta values\n",
    "    y and x are assumed to be numpy arrays (1D) or Pandas series\n",
    "    Data is assumed to have no missing values\n",
    "    \"\"\"\n",
    "    slr = stats.linregress(x, y)\n",
    "    b0_q1 = slr.intercept - 2*slr.intercept_stderr\n",
    "    b0_q3 = slr.intercept + 2*slr.intercept_stderr\n",
    "    b1_q1 = slr.slope - 2*slr.stderr\n",
    "    b1_q3 = slr.slope + 2*slr.stderr\n",
    "    b0 = pd.Series(np.arange((int(b0_q1) - 50), (int(b0_q3)+100), 50))\n",
    "    b1 = pd.Series(np.arange(-.3, -.1, 0.001))\n",
    "    betas = pd.DataFrame(zip(b0, b1), columns = [\"b0\", \"b1\"])\n",
    "    return betas\n",
    "\n",
    "# Function to implement grid search\n",
    "def rmse_yx(y, x, b0, b1):\n",
    "    \"\"\"\n",
    "    Compute RMSE\n",
    "    y, x, b0, and b1 are assumed to be numpy arrays (1D) or Pandas series\n",
    "    Data is assumed to have no missing values\n",
    "    \"\"\"\n",
    "\n",
    "    #Should read in all y values and apply\n",
    "    #This to each y_i\n",
    "    #Combines squared error loss with RMSE\n",
    "    sums = 0\n",
    "    for i in range(0,len(y)):\n",
    "        sums += (y[i] - (b0 + b1 * x[i]))**2\n",
    "    rmse = math.sqrt(1/(len(y)) * sums)\n",
    "    return rmse\n",
    "            \n",
    "#RMSE place holder object for conditional logic\n",
    "small_e = float(1000000)\n",
    "\n",
    "\n",
    "#Loop to apply the RMSE all values of b0 and b1\n",
    "def grid_search_yx(y, x):\n",
    "    \"\"\"\n",
    "    Find RMSE and select best b0 and b1 values\n",
    "    y, x, b0, and b1 are assumed to be numpy arrays (1D) or Pandas series\n",
    "    Data is assumed to have no missing values\n",
    "    \"\"\"\n",
    "    betas = get_beta_vals(y, x)\n",
    "    b0 = betas[\"b0\"]\n",
    "    b1 = betas[\"b1\"]\n",
    "    global small_e\n",
    "    global best_b0\n",
    "    global best_b1\n",
    "    for i in range(0,len(b0)):\n",
    "        for j in range(0,len(b1)):\n",
    "            e = rmse_yx(y, x, float(b0[i]), (b1[j]))\n",
    "            if e < small_e:\n",
    "                small_e = e\n",
    "                best_b0 = b0[i]\n",
    "                best_b1 = b1[j]\n",
    "            else:\n",
    "                continue"
   ]
  },
  {
   "cell_type": "code",
   "execution_count": 62,
   "id": "ea207315-a892-4b50-8654-9b63af38d6e2",
   "metadata": {},
   "outputs": [],
   "source": [
    "grid_search_yx(bike_data.selling_price, bike_data.km_driven)"
   ]
  },
  {
   "cell_type": "code",
   "execution_count": 64,
   "id": "c20ef65f-534f-4cf1-9799-1c079239f8d5",
   "metadata": {},
   "outputs": [
    {
     "name": "stdout",
     "output_type": "stream",
     "text": [
      "67607\n",
      "-0.23199999999999993\n"
     ]
    }
   ],
   "source": [
    "print(best_b0)\n",
    "print(best_b1)"
   ]
  },
  {
   "cell_type": "markdown",
   "id": "9a5057bb-8fac-4598-aad5-12ae80773c17",
   "metadata": {},
   "source": [
    "##### Gradient Descent Algorithm"
   ]
  },
  {
   "cell_type": "markdown",
   "id": "94f0aaf4-026f-4842-b62c-e0da6a073c84",
   "metadata": {},
   "source": [
    "To Do: Add description"
   ]
  },
  {
   "cell_type": "markdown",
   "id": "19bccb19-ac3e-4018-a528-14c266975526",
   "metadata": {},
   "source": [
    "gradient descent algorithm for just y"
   ]
  },
  {
   "cell_type": "code",
   "execution_count": 66,
   "id": "7fb279b8-ea41-41de-ae6e-6f07913e55c2",
   "metadata": {},
   "outputs": [
    {
     "name": "stdout",
     "output_type": "stream",
     "text": [
      "59638.1517436389\n"
     ]
    }
   ],
   "source": [
    "#Step 1. Create a squared error loss function\n",
    "def get_sq_e_loss(y, c):\n",
    "    \"\"\"\n",
    "    \"\"\"\n",
    "    return (y - c)**2\n",
    "\n",
    "#Step 2. Create a RMSE function\n",
    "def get_rmse(y, c):\n",
    "    \"\"\"\n",
    "    \"\"\"\n",
    "    sums = 0\n",
    "    for i in range(0, len(y)):\n",
    "        sums += get_sq_e_loss(y[i], c)\n",
    "    return math.sqrt((1/len(y))*sums)\n",
    "\n",
    "#Step 3. Create a difference quotient\n",
    "def get_dif_q(c, delta, y):\n",
    "    \"\"\"\n",
    "    \"\"\"\n",
    "    a = get_rmse(y, (c+delta))\n",
    "    b = get_rmse(y, c)\n",
    "    return (a - b)/delta\n",
    "#Step 4. - Step 8.\n",
    "def get_grad_desc(y):\n",
    "    #Sets need variables\n",
    "    #These values are arbitrary and open to change\n",
    "    #Tolerance level\n",
    "    num_tol = 0.001\n",
    "    #Step 4. Current c value\n",
    "    cur_c = y.mean()\n",
    "    #Initiates attempt count for shut off element\n",
    "    attempt = 1\n",
    "    \n",
    "    #Loop which performs grad desc for 1000 iterations\n",
    "    while attempt < 1001:\n",
    "        #Step 5.\n",
    "        diff_quotient = get_dif_q(cur_c, 0.01, y)\n",
    "        #Step 6.\n",
    "        new_c = cur_c - diff_quotient * -0.01\n",
    "        #Step 7. a\n",
    "        if abs(new_c - cur_c) < num_tol:\n",
    "            cur_c = new_c\n",
    "            attempt = 1001\n",
    "        #Step 7. b\n",
    "        else:\n",
    "            cur_c = new_c\n",
    "            attempt += 1\n",
    "    #Step 8.\n",
    "    prediction = cur_c\n",
    "    return prediction\n",
    "#Reports prediction for selling_price using optimal c value\n",
    "prediction = get_grad_desc(bike_data.selling_price)\n",
    "#Demonstrates generalization of algorithm\n",
    "# get_grad_desc(bike_data.km_driven)  \n",
    "print(prediction)"
   ]
  },
  {
   "cell_type": "markdown",
   "id": "3a142d49-87b8-40a2-a0df-1eb765bbb9e6",
   "metadata": {},
   "source": [
    "gradient descent algorithm for just y and x"
   ]
  },
  {
   "cell_type": "code",
   "execution_count": 159,
   "id": "d2555b87-577d-4cd5-8d54-52cd4985c77d",
   "metadata": {},
   "outputs": [],
   "source": [
    "#Step 1.\n",
    "def get_sq_e_loss_yx(y, x, b0, b1):\n",
    "    \"\"\"\n",
    "    \"\"\"\n",
    "    return (y - b0 - b1*x)**2\n",
    "#Step 2.\n",
    "def get_rmse_yx(y, x, b0, b1):\n",
    "    \"\"\"\n",
    "    \"\"\"\n",
    "    sums = 0\n",
    "    for i in range(0, len(y)):\n",
    "        sums += get_sq_e_loss_yx(y[i], x[i], b0, b1)\n",
    "    return math.sqrt((1/len(y))*sums)\n",
    "#Step 3.\n",
    "def get_dif_q_b0(y, x, b0, delta0, b1):\n",
    "    \"\"\"\n",
    "    \"\"\"\n",
    "    a = get_rmse_yx(y, x, (b0+delta0), b1)\n",
    "    b = get_rmse_yx(y, x, b0, b1)\n",
    "    return (a - b)/delta0\n",
    "#Step 4.\n",
    "def get_dif_q_b1(y, x, b0, delta1, b1):\n",
    "    \"\"\"\n",
    "    \"\"\"\n",
    "    a = get_rmse_yx(y, x, b0, (b1+delta1))\n",
    "    b = get_rmse_yx(y, x, b0, b1)\n",
    "    return (a - b)/delta1\n",
    "#Steps 5. - 10.   \n",
    "def get_grad_desc_yx(y, x):\n",
    "    \"\"\"\n",
    "    \"\"\"\n",
    "    global est_b0 \n",
    "    global est_b1\n",
    "    est_b0 = y.mean()\n",
    "    est_b1 = 0.0001\n",
    "    #Step 5. Picking starting values b0\n",
    "    cur_b0 = est_b0 \n",
    "    #Step 6. Picking starting values for b1\n",
    "    cur_b1 = est_b1\n",
    "    #Setting step size for b0\n",
    "    step_size_b0 = 10\n",
    "    #Setting step size for b1\n",
    "    step_size_b1 = 0.000001\n",
    "    #Euclidean distance tolerance level\n",
    "    dist_tol = 0.1\n",
    "    #Attempt counter for shut off of loop\n",
    "    attempt = 1\n",
    "    \n",
    "    #Loops to find optimal b0 and b1 for 1000 iterations\n",
    "    while attempt < 1001:\n",
    "        #Step 6. \n",
    "        diff_quotient_b0 = get_dif_q_b0(y, x, cur_b0, 0.001, cur_b1)\n",
    "        #Step 7.\n",
    "        new_b0 = cur_b0 - diff_quotient_b0 * (-step_size_b0)\n",
    "        \n",
    "        \n",
    "        #Step 8.\n",
    "        diff_quotient_b1 = get_dif_q_b1(y, x, cur_b0, 0.0001, cur_b1)\n",
    "        #Step 9.\n",
    "        new_b1 = cur_b1 - diff_quotient_b1 * (-step_size_b1)\n",
    "        \n",
    "        #Step 10 Calculating euclidean distance\n",
    "        point1 = np.array((cur_b0, cur_b1))\n",
    "        point2 = np.array((new_b0, new_b1))\n",
    "    \n",
    "        dist = np.linalg.norm(point1 - point2)\n",
    "        #Checking to see if distance is within tolerance range\n",
    "        if dist < dist_tol:\n",
    "            cur_b0 = new_b0\n",
    "            cur_b1 = new_b1\n",
    "            attempt = 1001\n",
    "        else:\n",
    "            cur_b0 = new_b0\n",
    "            cur_b1 = new_b1\n",
    "            attempt += 1\n",
    "\n",
    "\n",
    "    est_b0 = cur_b0\n",
    "    est_b1 = cur_b1\n",
    "\n",
    "# get_grad_desc_yx(bike_data.selling_price, bike_data.km_driven)\n",
    "#Step 11. Reports estimates\n",
    "# est_b0\n",
    "# est_b1\n",
    "\n",
    "#Prediction\n",
    "# get_grad_desc_betas(selling_price, 10000, est_b0, est_b1)\n",
    "# get_grad_desc(selling_price, 25000, est_b0, est_b1)\n",
    "# get_grad_desc(selling_price, 35000, est_b0, est_b1)"
   ]
  },
  {
   "cell_type": "code",
   "execution_count": null,
   "id": "f3a23e7d-0996-45e1-838d-b26800d1f784",
   "metadata": {},
   "outputs": [],
   "source": [
    "get_grad_desc_yx(bike_data.selling_price, bike_data.km_driven)\n",
    "stats.linregress(bike_data.km_driven, bike_data.selling_price)"
   ]
  },
  {
   "cell_type": "markdown",
   "id": "769df606-2922-457b-99c8-c848e3f6deea",
   "metadata": {},
   "source": [
    "#### Conclusion"
   ]
  }
 ],
 "metadata": {
  "kernelspec": {
   "display_name": "Python 3 (ipykernel)",
   "language": "python",
   "name": "python3"
  },
  "language_info": {
   "codemirror_mode": {
    "name": "ipython",
    "version": 3
   },
   "file_extension": ".py",
   "mimetype": "text/x-python",
   "name": "python",
   "nbconvert_exporter": "python",
   "pygments_lexer": "ipython3",
   "version": "3.10.1"
  }
 },
 "nbformat": 4,
 "nbformat_minor": 5
}
